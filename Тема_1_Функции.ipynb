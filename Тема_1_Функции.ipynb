{
  "cells": [
    {
      "cell_type": "markdown",
      "metadata": {
        "id": "view-in-github",
        "colab_type": "text"
      },
      "source": [
        "<a href=\"https://colab.research.google.com/github/Zagidin/PythonDev/blob/main/%D0%A2%D0%B5%D0%BC%D0%B0_1_%D0%A4%D1%83%D0%BD%D0%BA%D1%86%D0%B8%D0%B8.ipynb\" target=\"_parent\"><img src=\"https://colab.research.google.com/assets/colab-badge.svg\" alt=\"Open In Colab\"/></a>"
      ]
    },
    {
      "cell_type": "markdown",
      "metadata": {
        "id": "WGJIh-DQ5DKr"
      },
      "source": [
        "**Функция** в программировании — небольшая программа, блок кода, которая выполняет определенные действия и вычисления, но не сохраняет в себе данных в конце своей работы.\n",
        "\n",
        "* различают функции, **встроенные** в язык, которые готовы к использованию. И **пользовательские** (самописные), которые вы сами пишите и программируете.\n",
        "\n",
        "* функции всегда вызывают с круглыми скобками `()`. Если только не нужно передать саму функцию, а такое тоже случается.\n",
        "\n",
        "* внутри круглых скобок функция ожидает передачу параметров через запятую.\n",
        "\n",
        "* в качестве параметров может быть что угодно: список, словарь, число, класс и  любой другой объект. Тип ожидаемого объекта и числа объектов зависит от самой функции.\n",
        "\n",
        "* ожидаемое число параметров может быть от нуля до бесконечности.\n",
        "\n",
        "* параметры делятся на аргументы и ключевые слова.\n",
        "\n",
        "* функция, в отличие от переменных и коллекций, не сохраняет в себе данные вне процесса своей работы. Она хранит только свой код.\n",
        "\n",
        "* в процессе работы в функции могут создаваться данные. Эти данные локальны, то есть они удаляются в конце работы.\n",
        "\n",
        "Это краткая сводка. Теперь вы можете подробнее рассмотреть функции.\n",
        "\n",
        "**Изучив встроенные функции языка Python, вы можете перейти к созданию своих собственных.**"
      ]
    },
    {
      "cell_type": "markdown",
      "metadata": {
        "id": "wSFoEmxf9uXI"
      },
      "source": [
        "**Конструкция объявления собственной функции**\n",
        "\n",
        "\n",
        "Базовый вариант:\n",
        "\n",
        "    def имя_функции():\n",
        "        тело функции\n",
        "\n",
        "Более общий вариант:\n",
        "\n",
        "    def имя_функции(входящие параметры):\n",
        "        тело функции\n",
        "        return данные\n",
        "\n",
        "Пустая функция:\n",
        "```\n",
        "    def имя_функции(параметры):\n",
        "        pass\n",
        "```"
      ]
    },
    {
      "cell_type": "markdown",
      "metadata": {
        "id": "_y6UaUlfTQjY"
      },
      "source": [
        "Реализуйте базовый вариант пользовательской функции, которая выведет на экран приветствие:"
      ]
    },
    {
      "cell_type": "code",
      "execution_count": null,
      "metadata": {
        "id": "mViFi2GV-mJY"
      },
      "outputs": [],
      "source": [
        "# Базовый вариант\n",
        "# Функция, выводящая на экран приветствие\n",
        "\n",
        "def welcome():\n",
        "  print('Добрый день!')\n",
        "  print('Добро пожаловать в Университет Искусственного Интеллекта!')"
      ]
    },
    {
      "cell_type": "markdown",
      "metadata": {
        "id": "P2cG4t9pTcgz"
      },
      "source": [
        "После того, как вы реализовали функцию, необходимо ее вызвать:"
      ]
    },
    {
      "cell_type": "code",
      "execution_count": null,
      "metadata": {
        "id": "-kMrRzZjWvGY",
        "colab": {
          "base_uri": "https://localhost:8080/"
        },
        "outputId": "54d29d40-03d9-4095-806e-519624cbf599"
      },
      "outputs": [
        {
          "output_type": "stream",
          "name": "stdout",
          "text": [
            "Добрый день!\n",
            "Добро пожаловать в Университет Искусственного Интеллекта!\n"
          ]
        }
      ],
      "source": [
        "# Вызов пользовательской функции\n",
        "welcome()"
      ]
    },
    {
      "cell_type": "markdown",
      "metadata": {
        "id": "sfub66bjXORj"
      },
      "source": [
        "Более полный вариант создания функции подразумевает передачу в функцию некоторых аргументов — входных данных. Эти аргументы вы передаете в скобках при вызове функции.\n",
        "\n",
        "Эти данные нужны функции для того, чтобы она их как-то обрабатывала, производила вычисления и возвращала вам какой-то результат.\n",
        "\n",
        "Рассмотрите базовый вариант создания функции, но с передачей в функцию входящего аргумента. Передайте в функцию в качестве одного аргумента имя в формате строки и выведите приветствие с обращением:"
      ]
    },
    {
      "cell_type": "code",
      "execution_count": null,
      "metadata": {
        "id": "imJ6BtEvDGot",
        "colab": {
          "base_uri": "https://localhost:8080/"
        },
        "outputId": "546ee6e9-c36c-4197-a7cf-12f006619aae"
      },
      "outputs": [
        {
          "output_type": "stream",
          "name": "stdout",
          "text": [
            "Приветствуем вас, Александр!\n",
            "Добро пожаловать в Университет Искусственного Интеллекта!\n"
          ]
        }
      ],
      "source": [
        "# Вариант с входящим аргументом\n",
        "\n",
        "def welcome_by_name(name: str | int):\n",
        "  print(f'Приветствуем вас, {name.title()}!')\n",
        "  print('Добро пожаловать в Университет Искусственного Интеллекта!')\n",
        "\n",
        "# Вариант вызова функции\n",
        "welcome_by_name('АлекСандР')"
      ]
    },
    {
      "cell_type": "code",
      "execution_count": null,
      "metadata": {
        "id": "llQVFpe1tAtG",
        "colab": {
          "base_uri": "https://localhost:8080/"
        },
        "outputId": "d56195e4-308e-4a6b-fd76-faf5f3557bbf"
      },
      "outputs": [
        {
          "output_type": "stream",
          "name": "stdout",
          "text": [
            "Приветствуем вас, Юлия!\n",
            "Добро пожаловать в Университет Искусственного Интеллекта!\n"
          ]
        }
      ],
      "source": [
        "# Вариант вызова функции\n",
        "\n",
        "name = 'Юлия'\n",
        "welcome_by_name(name)"
      ]
    },
    {
      "cell_type": "markdown",
      "metadata": {
        "id": "Yq1GrBGTtiM7"
      },
      "source": [
        "Чтобы реализовать возврат какого-либо объекта из функции вам понадобится еще одно ключевое слово — `return`.\n",
        "\n",
        "Напишите функцию, которая возводит полученное число в квадрат. В скобках укажите аргумент `x` (то самое число), возведите его в квадрат и верните полученное значение с помощью ключевого слова `return`:"
      ]
    },
    {
      "cell_type": "code",
      "execution_count": null,
      "metadata": {
        "id": "XWkUKXTqFqF2",
        "colab": {
          "base_uri": "https://localhost:8080/"
        },
        "outputId": "0b9036fe-2e73-473c-8645-dd8eb8802529"
      },
      "outputs": [
        {
          "output_type": "execute_result",
          "data": {
            "text/plain": [
              "12.25"
            ]
          },
          "metadata": {},
          "execution_count": 30
        }
      ],
      "source": [
        "# Пользовательская функция со входящим аргументом.\n",
        "# Запишите функцию, которая принимает на вход число и возводит его в квадрат\n",
        "\n",
        "def pow(x: int | float):\n",
        "    x **= 2\n",
        "    return x\n",
        "\n",
        "# Вызов функции\n",
        "pow(3.5)"
      ]
    },
    {
      "cell_type": "code",
      "execution_count": null,
      "metadata": {
        "id": "eA3fc_HSvna-",
        "colab": {
          "base_uri": "https://localhost:8080/"
        },
        "outputId": "814e32db-c774-418d-886e-634c24b8dd69"
      },
      "outputs": [
        {
          "output_type": "stream",
          "name": "stdout",
          "text": [
            "36\n"
          ]
        }
      ],
      "source": [
        "x = 6\n",
        "pow(x)"
      ]
    },
    {
      "cell_type": "code",
      "execution_count": null,
      "metadata": {
        "id": "xNcogtiMvq_p",
        "colab": {
          "base_uri": "https://localhost:8080/"
        },
        "outputId": "8cd7576e-0b11-4588-a9c0-0e655871324f"
      },
      "outputs": [
        {
          "output_type": "stream",
          "name": "stdout",
          "text": [
            "26\n"
          ]
        }
      ],
      "source": [
        "number = 4\n",
        "number = pow(number)\n",
        "\n",
        "result = number + 10\n",
        "print(result)"
      ]
    },
    {
      "cell_type": "markdown",
      "metadata": {
        "id": "N0BK3op7v5ua"
      },
      "source": [
        "Теперь реализуйте функцию с несколькими входящими аргументами. Пусть она возвращает сумму трех чисел, переданных в нее. Для этого нужно передать три аргумента через запятую:"
      ]
    },
    {
      "cell_type": "code",
      "execution_count": null,
      "metadata": {
        "id": "VXjfePQgEvPs",
        "colab": {
          "base_uri": "https://localhost:8080/"
        },
        "outputId": "5a134b58-1c99-4b04-fd78-5b576e81482e"
      },
      "outputs": [
        {
          "output_type": "execute_result",
          "data": {
            "text/plain": [
              "40"
            ]
          },
          "metadata": {},
          "execution_count": 23
        }
      ],
      "source": [
        "# Полный вариант с несколькими входящими аргументами. Сумма трех чисел\n",
        "\n",
        "def sum_of_3(a: int, b: int, c: int) -> int:\n",
        "  sum_abc = a + b + c\n",
        "  return sum_abc\n",
        "\n",
        "sum_of_3(20, 5, 15)"
      ]
    },
    {
      "cell_type": "markdown",
      "metadata": {
        "id": "4moLpPyUwlP8"
      },
      "source": [
        "Теперь реализуйте функцию `mean`, возвращающую среднее списка:"
      ]
    },
    {
      "cell_type": "code",
      "execution_count": null,
      "metadata": {
        "id": "iZj9v29Ewr92"
      },
      "outputs": [],
      "source": [
        "def mean(list_of_values: list):\n",
        "\n",
        "  # Переменная для суммы всех значений списка\n",
        "  summ = 0\n",
        "\n",
        "  # Суммирование всех значений через цикл и сохранение результата в summ\n",
        "  for value in list_of_values:\n",
        "    summ += value\n",
        "\n",
        "  # Длина входного списка\n",
        "  len_of_list = len(list_of_values)\n",
        "\n",
        "  # Среднее. То есть сумма всех значений, деленная на число значений\n",
        "  output = summ / len_of_list\n",
        "\n",
        "  # возвращение результата\n",
        "  return output"
      ]
    },
    {
      "cell_type": "code",
      "execution_count": null,
      "metadata": {
        "id": "SIe4gzOCyHWm",
        "colab": {
          "base_uri": "https://localhost:8080/"
        },
        "outputId": "2165177a-57e3-4b6c-e944-4e5a9ed6c6fd"
      },
      "outputs": [
        {
          "output_type": "execute_result",
          "data": {
            "text/plain": [
              "2"
            ]
          },
          "metadata": {},
          "execution_count": 35
        }
      ],
      "source": [
        "# Функция поиска суммы всех чисел в списке\n",
        "my_list = [1, 2, 3]\n",
        "\n",
        "int(mean(my_list))"
      ]
    },
    {
      "cell_type": "code",
      "execution_count": null,
      "metadata": {
        "id": "Uhr_RoC8yM3I",
        "colab": {
          "base_uri": "https://localhost:8080/"
        },
        "outputId": "e5d6fb7a-21fe-4deb-9349-2cbdc139a38e"
      },
      "outputs": [
        {
          "output_type": "execute_result",
          "data": {
            "text/plain": [
              "1.0"
            ]
          },
          "metadata": {},
          "execution_count": 36
        }
      ],
      "source": [
        "mean([-10, 3, 10])"
      ]
    },
    {
      "cell_type": "markdown",
      "metadata": {
        "id": "DjCo-S0NyeuX"
      },
      "source": [
        "Для упрощения работы используйте функции именно так, поскольку это минимизирует собственный код. Во-первых, так код будет почти всегда лаконичнее, во-вторых, написанные до вас функции оптимизированы. Встроенные функции пишут профессионалы. Так что если вы будете использовать встроенную функцию вместо своей, то чаще всего первая окажется быстрее.\n",
        "\n",
        "Вы уже использовали встроенную функцию `len` в вашей функции. Но можно еще оптимизировать код, используя функцию `sum`. Сократите количество кода:"
      ]
    },
    {
      "cell_type": "code",
      "execution_count": null,
      "metadata": {
        "id": "XP_rgByryZYT"
      },
      "outputs": [],
      "source": [
        "# Оптимизированное вычисление среднего\n",
        "\n",
        "def mean(list_of_values: list):\n",
        "\n",
        "  # Вычисление среднего только через встроенные функции\n",
        "  result = sum(list_of_values) / len(list_of_values)\n",
        "\n",
        "  # возвращение результата\n",
        "  return result"
      ]
    },
    {
      "cell_type": "code",
      "execution_count": null,
      "metadata": {
        "id": "H3mfvYuM0AdK",
        "colab": {
          "base_uri": "https://localhost:8080/"
        },
        "outputId": "9b32e15b-2b37-4b3f-a2bb-2d9a9724671a"
      },
      "outputs": [
        {
          "output_type": "execute_result",
          "data": {
            "text/plain": [
              "2.0"
            ]
          },
          "metadata": {},
          "execution_count": 38
        }
      ],
      "source": [
        "mean([1, 2, 3])"
      ]
    },
    {
      "cell_type": "code",
      "execution_count": null,
      "metadata": {
        "id": "oAk40hm10Hnd",
        "colab": {
          "base_uri": "https://localhost:8080/"
        },
        "outputId": "97ba839d-70ad-4035-c43d-f7de5a4aef49"
      },
      "outputs": [
        {
          "output_type": "execute_result",
          "data": {
            "text/plain": [
              "3.5"
            ]
          },
          "metadata": {},
          "execution_count": 39
        }
      ],
      "source": [
        "mean({1, 2, 3, 4, 5, 6})"
      ]
    },
    {
      "cell_type": "code",
      "source": [
        "mean((1, 2, 3, 4, 5, 6))"
      ],
      "metadata": {
        "colab": {
          "base_uri": "https://localhost:8080/"
        },
        "id": "WXX8OKcyVP3v",
        "outputId": "f5fc5c01-2004-4170-d0ef-fa7352097e42"
      },
      "execution_count": null,
      "outputs": [
        {
          "output_type": "execute_result",
          "data": {
            "text/plain": [
              "3.5"
            ]
          },
          "metadata": {},
          "execution_count": 40
        }
      ]
    },
    {
      "cell_type": "markdown",
      "metadata": {
        "id": "UoE5o1Cu0OQt"
      },
      "source": [
        "Функция все так же работает, но теперь код стал лаконичнее."
      ]
    },
    {
      "cell_type": "markdown",
      "metadata": {
        "id": "udTiAWJIsP18"
      },
      "source": [
        "**Два важных момента: названия функций и отступы**\n",
        "\n",
        "* Называйте функции так, чтобы каждый мог понять по их имени, какую задачу они выполняют. Ведь вы будете писать функции не только для собственного развлечения, но и для других людей. Позаботьтесь о них, это несложно;\n",
        "* Отступы! Обратите внимание на те строки, которые составляют тело функции: они все содержат отступ от края по сравнению с первой строкой. Так компьютер понимает, что эти команды относятся к самой функции и спешит их выполнять, а без отступов – не будет! Отступы обычно расставляются автоматически, но при необходимости пользуйтесь клавишей «пробел» или Tab.\n"
      ]
    },
    {
      "cell_type": "markdown",
      "metadata": {
        "id": "CDHKdCDLdRLm"
      },
      "source": [
        "**Разберем пример по сложнее:** Локальная функция и обобщение"
      ]
    },
    {
      "cell_type": "code",
      "execution_count": null,
      "metadata": {
        "id": "t8Eyuv_2dZ0G",
        "colab": {
          "base_uri": "https://localhost:8080/"
        },
        "outputId": "695fcb2e-1a24-4666-d0c9-f0d646deb8b2"
      },
      "outputs": [
        {
          "output_type": "stream",
          "name": "stdout",
          "text": [
            "Привет и добро пожаловать\n"
          ]
        }
      ],
      "source": [
        "# Первая локальная функция\n",
        "def hello():\n",
        "    print(\"Привет\", end=\" \")\n",
        "\n",
        "# Вторая локальная функция\n",
        "def welcome():\n",
        "    def inner():\n",
        "        print(\"добро пожаловать\")\n",
        "    inner()\n",
        "\n",
        "# Обобщение\n",
        "def greating():\n",
        "    hello()\n",
        "    print(\"и\", end=\" \")\n",
        "    welcome()\n",
        "\n",
        "\n",
        "greating()"
      ]
    },
    {
      "cell_type": "markdown",
      "metadata": {
        "id": "zJczN6iDiq3D"
      },
      "source": [
        "**<h3>Передача значений параметрам по имени. Именованные параметры**\n",
        "\n",
        "\n",
        "В примерах выше при вызове функции значения передаются параметрами функции по позиции. Но также можно передавать значения параметрам по имени. Для этого при вызове функции указывается имя параметра и ему присваивается значение:"
      ]
    },
    {
      "cell_type": "code",
      "execution_count": null,
      "metadata": {
        "id": "S6aBghLsjCMk",
        "colab": {
          "base_uri": "https://localhost:8080/"
        },
        "outputId": "93ea1e86-a558-4e8a-c216-8ebe231373ad"
      },
      "outputs": [
        {
          "output_type": "stream",
          "name": "stdout",
          "text": [
            "Работник Михаил, работает в компании SoftLine и получает зарплату 102310.57 руб.\n"
          ]
        }
      ],
      "source": [
        "def worker(name: str, salary: float, company: str):\n",
        "    print(f\"Работник {name}, работает в компании {company} и получает зарплату {salary:.2f} руб.\")\n",
        "\n",
        "worker(\"Михаил\", 102310.5702, \"SoftLine\")"
      ]
    },
    {
      "cell_type": "markdown",
      "metadata": {
        "id": "YQdDovYzj0Bm"
      },
      "source": [
        "Но что, если мы хотим поменять очередь передачи аргументов?\n",
        "\n",
        "Сейчас так: name, salary, company\n",
        "А мы хотим: name, company, salary"
      ]
    },
    {
      "cell_type": "code",
      "execution_count": null,
      "metadata": {
        "id": "VN97c_BVkBiM",
        "colab": {
          "base_uri": "https://localhost:8080/"
        },
        "outputId": "4cf5e046-176b-4b1d-e592-34e4a605180f"
      },
      "outputs": [
        {
          "output_type": "stream",
          "name": "stdout",
          "text": [
            "Работник Михаил, работает в компании SoftLine и получает зарплату 102310.57 руб.\n"
          ]
        }
      ],
      "source": [
        "worker(name=\"Михаил\", company=\"SoftLine\", salary=102310.5702)"
      ]
    },
    {
      "cell_type": "markdown",
      "source": [
        "**Обязательные именованные параметры**\n",
        "\n",
        "Символ * позволяет установить, какие параметры будут именнованными - то есть такие параметры, которым можно передать значения только по имени. Все параметры, которые располагаются справа от символа *, получают значения только по имени:"
      ],
      "metadata": {
        "id": "EU7NmrBklNRf"
      }
    },
    {
      "cell_type": "code",
      "source": [
        "def worker(name: str, *, salary: float, company: str):\n",
        "    print(f\"Работник {name}, работает в компании {company} и получает зарплату {salary:.2f} руб.\")\n",
        "\n",
        "worker(\"Михаил\", salary=102310.5702, company=\"SoftLine\")"
      ],
      "metadata": {
        "colab": {
          "base_uri": "https://localhost:8080/"
        },
        "id": "A2_0ZmQjlXnW",
        "outputId": "58850f39-11f5-476e-d859-591c737428a7"
      },
      "execution_count": null,
      "outputs": [
        {
          "output_type": "stream",
          "name": "stdout",
          "text": [
            "Работник Михаил, работает в компании SoftLine и получает зарплату 102310.57 руб.\n"
          ]
        }
      ]
    },
    {
      "cell_type": "markdown",
      "metadata": {
        "id": "bq_HsjhffJF3"
      },
      "source": [
        "**<h3>Значения по умолчанию**\n",
        "\n",
        "Некоторые параметры функции мы можем сделать необязательными, указав для них значения по умолчанию при определении функции. Например:"
      ]
    },
    {
      "cell_type": "code",
      "execution_count": null,
      "metadata": {
        "id": "A5c05NB_d67w",
        "colab": {
          "base_uri": "https://localhost:8080/"
        },
        "outputId": "25bd4f2d-a2f8-4c95-bc87-a16d6fd0fbea"
      },
      "outputs": [
        {
          "output_type": "stream",
          "name": "stdout",
          "text": [
            "Привет Михаил, введи пожалуйста свой возраст!\n",
            "Привет Михаил, твой возраст 36...\n",
            "Пожалуста укажите имя\n",
            "Пожалуста укажите имя\n",
            "Не корректный возраст\n"
          ]
        }
      ],
      "source": [
        "def user(name: str = \"No-name\", age: int = 0) -> str:\n",
        "    text = f\"Привет {name}, \"\n",
        "    if name == \"No-name\":\n",
        "        return \"Пожалуста укажите имя\"\n",
        "    if age == 0:\n",
        "        text += \"введи пожалуйста свой возраст!\"\n",
        "        return text\n",
        "    if age <=0 or age >= 100:\n",
        "        return \"Не корректный возраст\"\n",
        "\n",
        "    text += f\"твой возраст {age}...\"\n",
        "    return text\n",
        "\n",
        "print(user(\"Михаил\"))  # Привет Михаил, введи пожалуйста свой возраст!\n",
        "print(user(\"Михаил\", 36))  # Привет Михаил, твой возраст 36...\n",
        "print(user(age=36))  # Пожалуста укажите имя\n",
        "print(user())  # Пожалуста укажите имя\n",
        "print(user(\"Михаил\", 360))  # Не корректный возраст"
      ]
    },
    {
      "cell_type": "markdown",
      "source": [
        "**Функция как тип**\n",
        "\n",
        "В Python функция фактически представляет отдельный тип. Так мы можем присвоить переменной какую-нибудь функцию и затем, используя переменную, вызывать данную функцию. Например:"
      ],
      "metadata": {
        "id": "2RMc8jGnn6Bf"
      }
    },
    {
      "cell_type": "code",
      "source": [
        "customer = user\n",
        "\n",
        "print(customer(\"Михаил\", 36))"
      ],
      "metadata": {
        "colab": {
          "base_uri": "https://localhost:8080/"
        },
        "id": "t5wIxb7NoF14",
        "outputId": "be7df97c-bb95-4372-81c5-979442620943"
      },
      "execution_count": null,
      "outputs": [
        {
          "output_type": "stream",
          "name": "stdout",
          "text": [
            "Привет Михаил, твой возраст 36...\n"
          ]
        }
      ]
    },
    {
      "cell_type": "markdown",
      "source": [
        "**Функция как параметр функции**\n",
        "\n",
        "Поскольку функция в Python может представлять такое же значение как строка или число, соответственно мы можем передать ее в качестве параметра в другую функцию. Например, определим функцию, которая выводит на консоль результат некоторой операции:"
      ],
      "metadata": {
        "id": "ISeZfL1Qomzh"
      }
    },
    {
      "cell_type": "code",
      "source": [
        "def calculate(a: int | float, b: int | float, operation):\n",
        "    result = operation(a, b)\n",
        "    print(f\"Ответ = {result}\")\n",
        "\n",
        "def sum(a, b): return a + b\n",
        "def multiply(a, b): return a * b\n",
        "def divide(a, b): return a / b\n",
        "\n",
        "calculate(5, 4, sum)  # Ответ = 9\n",
        "calculate(5, 4, multiply)  # Ответ = 20\n",
        "calculate(5, 4, divide)  # Ответ = 1.25"
      ],
      "metadata": {
        "colab": {
          "base_uri": "https://localhost:8080/"
        },
        "id": "jtKHqkGIpTTS",
        "outputId": "d7ed3bcf-24a9-472b-f023-0ce86f246c0c"
      },
      "execution_count": null,
      "outputs": [
        {
          "output_type": "stream",
          "name": "stdout",
          "text": [
            "Ответ = 9\n",
            "Ответ = 20\n",
            "Ответ = 1.25\n"
          ]
        }
      ]
    },
    {
      "cell_type": "markdown",
      "source": [
        "Множественные параметры\n",
        "**<h4>args и kwargs**"
      ],
      "metadata": {
        "id": "4HqlLTxoyBr3"
      }
    },
    {
      "cell_type": "markdown",
      "source": [
        "Термины `args` и `kwargs` — это соглашения по программированию на Python, в реальности вместо них можно использовать любые именования. `*args` представляет неопределенное количество параметров, которые передаются по позиции. А `**kwargs` означает параметры, которые передаются по имени. Обозначает аргументы ключевого слова."
      ],
      "metadata": {
        "id": "9cK1NLK_SxLp"
      }
    },
    {
      "cell_type": "code",
      "source": [
        "print(*(1, 20, 44))"
      ],
      "metadata": {
        "colab": {
          "base_uri": "https://localhost:8080/"
        },
        "id": "mLJnlFZva6Gj",
        "outputId": "dcaf8a8a-ff73-4d6b-9831-2d154c02d59f"
      },
      "execution_count": null,
      "outputs": [
        {
          "output_type": "stream",
          "name": "stdout",
          "text": [
            "1 20 44\n"
          ]
        }
      ]
    },
    {
      "cell_type": "code",
      "source": [
        "def unlimited_params(*args):\n",
        "    if len(args) == 1: return args[0]\n",
        "    temp = 0\n",
        "    for i in args:\n",
        "        temp += i\n",
        "    return temp\n",
        "\n",
        "print(unlimited_params(44))\n",
        "print(unlimited_params(1, 20, 44))\n",
        "print(unlimited_params(20, 3, 44, 8))\n",
        "print(unlimited_params(20, 3, 44, 8, 32, 12, 5, 11, 55))"
      ],
      "metadata": {
        "colab": {
          "base_uri": "https://localhost:8080/"
        },
        "id": "Tuv0FQ6WyZLJ",
        "outputId": "fc978831-2573-4ad4-9f4b-4b72df49b629"
      },
      "execution_count": null,
      "outputs": [
        {
          "output_type": "stream",
          "name": "stdout",
          "text": [
            "44\n",
            "65\n",
            "75\n",
            "190\n"
          ]
        }
      ]
    },
    {
      "cell_type": "code",
      "source": [
        "def dict_params(**kwargs):\n",
        "    print(kwargs)\n",
        "    for k, v in kwargs.items():\n",
        "        print(f\"Ключ: {k};\\tЗначение: {v}\")\n",
        "\n",
        "\n",
        "dict_params(name=\"Михаил\", age=\"36\", status=\"OK\")\n",
        "print()"
      ],
      "metadata": {
        "colab": {
          "base_uri": "https://localhost:8080/"
        },
        "id": "K7vJYJyfupZw",
        "outputId": "35422868-43f0-4af6-da48-35652366d469"
      },
      "execution_count": null,
      "outputs": [
        {
          "output_type": "stream",
          "name": "stdout",
          "text": [
            "{'name': 'Михаил', 'age': '36', 'status': 'OK'}\n",
            "Ключ: name;\tЗначение: Михаил\n",
            "Ключ: age;\tЗначение: 36\n",
            "Ключ: status;\tЗначение: OK\n",
            "\n"
          ]
        }
      ]
    },
    {
      "cell_type": "code",
      "source": [
        "# Пример использования *args, **kwargs.\n",
        "def my_func(*args, **kwargs):\n",
        "  # Кортеж позиционных аргументов\n",
        "  print('Кортеж:', args)\n",
        "\n",
        "  # Словарь именованных аргументов\n",
        "  print('Словарь:', kwargs)\n",
        "\n",
        "  return args, kwargs\n",
        "\n",
        "# применяем функцию\n",
        "tpl_1, dct_1 = my_func(1, 2, 48, 44, 88, 148, x ='888', y ='555', z = '999')\n",
        "\n",
        "print()\n",
        "print(tpl_1)\n",
        "print(dct_1)"
      ],
      "metadata": {
        "colab": {
          "base_uri": "https://localhost:8080/"
        },
        "id": "3avGO8eMzqd2",
        "outputId": "18732ae5-9d2d-4bcf-af55-b6c09586f403"
      },
      "execution_count": null,
      "outputs": [
        {
          "output_type": "stream",
          "name": "stdout",
          "text": [
            "Кортеж: (1, 2, 48, 44, 88, 148)\n",
            "Словарь: {'x': '888', 'y': '555', 'z': '999'}\n",
            "\n",
            "(1, 2, 48, 44, 88, 148)\n",
            "{'x': '888', 'y': '555', 'z': '999'}\n"
          ]
        }
      ]
    },
    {
      "cell_type": "markdown",
      "source": [
        "**<h3>lambda функция**\n",
        "\n",
        "---\n",
        "**Lambda-функция (или анонимная функция)** - это способ создания простых функций в Python без необходимости использования стандартного синтаксиса определения функции с помощью ключевого слова def. Lambda-функции могут использоваться там, где требуется передать короткое выражение, выполняющее какую-либо операцию.\n",
        "\n",
        "\\\n",
        "Основные особенности:\n",
        "\n",
        "* Анонимность: Lambda-функции не требуют имени. Они могут быть определены в точке использования.\n",
        "* Однострочность: Они ограничены одним выражением и не имеют блока кода.\n",
        "* Обычно используются для простых операций: Обычно lambda-функции используются для выполнения простых операций, таких как преобразование данных или фильтрация.\n"
      ],
      "metadata": {
        "id": "OJqSO9r_yZTd"
      }
    },
    {
      "cell_type": "markdown",
      "source": [
        "Синтаксис lambda-функции:\n",
        "\n",
        "```python\n",
        "lambda arguments: expression\n",
        "```\n",
        "\n",
        "Где:\n",
        "- `arguments` - это список параметров (аргументов) функции.\n",
        "- `expression` - это выражение, которое выполняется и возвращается как результат работы lambda-функции.\n",
        "\n",
        "Примеры:\n"
      ],
      "metadata": {
        "id": "fDwqTQ39z0RW"
      }
    },
    {
      "cell_type": "code",
      "source": [
        "#Объявим пользователскую функцию для вычисления произведения\n",
        "def multiply(a: int, b: int):\n",
        "  return a * b\n",
        "\n",
        "multiply(4, 6)"
      ],
      "metadata": {
        "colab": {
          "base_uri": "https://localhost:8080/"
        },
        "id": "_8QmxwbopKdK",
        "outputId": "aebc24de-2419-4f8e-86f7-eb05ad80f307"
      },
      "execution_count": null,
      "outputs": [
        {
          "output_type": "execute_result",
          "data": {
            "text/plain": [
              "24"
            ]
          },
          "metadata": {},
          "execution_count": 55
        }
      ]
    },
    {
      "cell_type": "code",
      "source": [
        "# Также Lambda-функция для вычисления произведения\n",
        "lambda_multiplier = lambda a, b: a * b\n",
        "\n",
        "lambda_multiplier(4,6)"
      ],
      "metadata": {
        "colab": {
          "base_uri": "https://localhost:8080/"
        },
        "id": "lB7PTAXgxxs4",
        "outputId": "813fc6ab-875e-4041-867c-baf65a6cac1e"
      },
      "execution_count": null,
      "outputs": [
        {
          "output_type": "execute_result",
          "data": {
            "text/plain": [
              "24"
            ]
          },
          "metadata": {},
          "execution_count": 5
        }
      ]
    },
    {
      "cell_type": "markdown",
      "source": [
        "Давайте переделаем функцию, которую разбирали ранее:\n",
        "\n",
        "```\n",
        "def calculate(a: int | float, b: int | float, operation):\n",
        "    result = operation(a, b)\n",
        "    print(f\"Ответ = {result}\")\n",
        "\n",
        "def sum(a, b): return a + b\n",
        "def multiply(a, b): return a * b\n",
        "def divide(a, b): return a / b\n",
        "\n",
        "calculate(5, 4, sum)  # Ответ = 9\n",
        "calculate(5, 4, multiply)  # Ответ = 20\n",
        "calculate(5, 4, divide)  # Ответ = 1.25\n",
        "```"
      ],
      "metadata": {
        "id": "aDCWk1cvxKGC"
      }
    },
    {
      "cell_type": "code",
      "source": [
        "# Сокращаем код в 3 раза\n",
        "calculate(5, 4, lambda x, y: x + y)  # Ответ = 9\n",
        "calculate(5, 4, lambda x, y: x * y)  # Ответ = 20\n",
        "calculate(5, 4, lambda x, y: x / y)  # Ответ = 1.25"
      ],
      "metadata": {
        "colab": {
          "base_uri": "https://localhost:8080/"
        },
        "id": "BjMevcvFxOmD",
        "outputId": "2ce5b116-767f-44bb-aab3-851576cce7da"
      },
      "execution_count": null,
      "outputs": [
        {
          "output_type": "stream",
          "name": "stdout",
          "text": [
            "Ответ = 9\n",
            "Ответ = 20\n",
            "Ответ = 1.25\n"
          ]
        }
      ]
    },
    {
      "cell_type": "markdown",
      "source": [
        "Lambda функция чаще всего применяется в связках с map, filter, reduce, sort, sorted и т.д. Позже мы к ней вернемся"
      ],
      "metadata": {
        "id": "Qm8ZMPLmyUfS"
      }
    },
    {
      "cell_type": "markdown",
      "source": [
        "**<h2>Встроенные функции**\n",
        "\n",
        "Всего их 86, но мы разберем только часть из них"
      ],
      "metadata": {
        "id": "mOxgAUxc8A5U"
      }
    },
    {
      "cell_type": "markdown",
      "metadata": {
        "id": "MFNPUGLY89pQ"
      },
      "source": [
        "### Функция `help()`"
      ]
    },
    {
      "cell_type": "markdown",
      "metadata": {
        "id": "ZqiVAxb2RPuq"
      },
      "source": [
        "Функция `help()` способна выводить информацию о другой встроенной функции. Для этого вызовите `help` и подайте ей в скобки имя функции, которая вас интересует.\n",
        "\n",
        "> Информационная функция `help` выводит описание функции, подаваемой в качестве аргумента.\n",
        "\n",
        "Попробуйте получить информацию об уже известной вам встроенной функции `print`:"
      ]
    },
    {
      "cell_type": "code",
      "metadata": {
        "id": "DVrdUkxFHUzg",
        "colab": {
          "base_uri": "https://localhost:8080/"
        },
        "outputId": "82c1a76e-05b5-427d-db3f-a8e68c2c216c"
      },
      "source": [
        "# Вывод информации о функции print\n",
        "help(print)"
      ],
      "execution_count": null,
      "outputs": [
        {
          "output_type": "stream",
          "name": "stdout",
          "text": [
            "Help on built-in function print in module builtins:\n",
            "\n",
            "print(...)\n",
            "    print(value, ..., sep=' ', end='\\n', file=sys.stdout, flush=False)\n",
            "    \n",
            "    Prints the values to a stream, or to sys.stdout by default.\n",
            "    Optional keyword arguments:\n",
            "    file:  a file-like object (stream); defaults to the current sys.stdout.\n",
            "    sep:   string inserted between values, default a space.\n",
            "    end:   string appended after the last value, default a newline.\n",
            "    flush: whether to forcibly flush the stream.\n",
            "\n"
          ]
        }
      ]
    },
    {
      "cell_type": "code",
      "source": [
        "print??"
      ],
      "metadata": {
        "id": "UXUpn4WYeSxz"
      },
      "execution_count": null,
      "outputs": []
    },
    {
      "cell_type": "markdown",
      "metadata": {
        "id": "HDBWjR9d94gd"
      },
      "source": [
        "В выводе вы видите описание `print` и то, как она работает.\n",
        "\n",
        "Вызов функции с возможными аргументами:\n",
        "\n",
        "    `print(значение, ..., sep = ' ', end = '\\ n', file = sys.stdout, flush = False)`\n",
        "\n",
        "Описание функции:\n",
        "\n",
        "    Prints the values to a stream, or to sys.stdout by default.\n",
        "\n",
        "Рассмотрите параметры, которые чаще всего применяются на практике — это аргументы и ключевые слова `sep` и `end`.\n",
        "\n",
        "* Аргументы: `значение, ...` означает, что в `print` можно подать несколько объектов для отображения через запятую."
      ]
    },
    {
      "cell_type": "code",
      "metadata": {
        "colab": {
          "base_uri": "https://localhost:8080/"
        },
        "id": "uQK6RV4mYIpO",
        "outputId": "788be72e-5332-4e54-cb62-36474532f660"
      },
      "source": [
        "# Вызовы print с несколькими аргументами\n",
        "print(1, 2, 3)\n",
        "print()\n",
        "print('1)', 'строка', 1, '\\n2)', 'строка', 2)"
      ],
      "execution_count": null,
      "outputs": [
        {
          "output_type": "stream",
          "name": "stdout",
          "text": [
            "1 2 3\n",
            "\n",
            "1) строка 1 \n",
            "2) строка 2\n"
          ]
        }
      ]
    },
    {
      "cell_type": "markdown",
      "metadata": {
        "id": "fbhLbVmyZFKO"
      },
      "source": [
        "То есть у этой функции неограниченное число ожидаемых аргументов, которое начинается с нуля.\n",
        "\n",
        "* `sep = ' '` — это ключевое слово, определяющее подстроку, вставляемую между аргументами при выводе. По умолчанию это пробел."
      ]
    },
    {
      "cell_type": "code",
      "metadata": {
        "colab": {
          "base_uri": "https://localhost:8080/"
        },
        "id": "DvyNKbzxbn-3",
        "outputId": "56f78aca-6ede-4d74-acb0-f878a1aa991e"
      },
      "source": [
        "# Обычный вывод print\n",
        "print(1, 2, 3)"
      ],
      "execution_count": null,
      "outputs": [
        {
          "output_type": "stream",
          "name": "stdout",
          "text": [
            "1 2 3\n"
          ]
        }
      ]
    },
    {
      "cell_type": "code",
      "metadata": {
        "colab": {
          "base_uri": "https://localhost:8080/"
        },
        "id": "M0Z6Wq0Hb_hu",
        "outputId": "965090b9-e013-43b8-cacf-41e879515ca0"
      },
      "source": [
        "# Вывод с запятой и пробелом между аргументами\n",
        "print(1, 2, 3, sep=', ')"
      ],
      "execution_count": null,
      "outputs": [
        {
          "output_type": "stream",
          "name": "stdout",
          "text": [
            "1, 2, 3\n"
          ]
        }
      ]
    },
    {
      "cell_type": "code",
      "metadata": {
        "colab": {
          "base_uri": "https://localhost:8080/"
        },
        "id": "_l9J1F56cAl8",
        "outputId": "c1472462-2a0c-49d0-c90b-122f381893b0"
      },
      "source": [
        "# Вывод с дефисом без пробела между аргументами\n",
        "print(1, 2, 3, sep='-')"
      ],
      "execution_count": null,
      "outputs": [
        {
          "output_type": "stream",
          "name": "stdout",
          "text": [
            "1-2-3\n"
          ]
        }
      ]
    },
    {
      "cell_type": "markdown",
      "metadata": {
        "id": "sjAV7ygWcKHQ"
      },
      "source": [
        "* `end = '\\n'` – еще одно ключевое слово в функции `print`. Оно определяет знак, выводимый в конце работы функции. По умолчанию это `'\\n'` – перенос строки."
      ]
    },
    {
      "cell_type": "code",
      "metadata": {
        "colab": {
          "base_uri": "https://localhost:8080/"
        },
        "id": "5uBuPtRGeC3S",
        "outputId": "451dcdb4-c6db-48fa-e279-87e2bef97f40"
      },
      "source": [
        "# Вывод по умолчанию – end='\\n'\n",
        "print(1, 2, 3)\n",
        "\n",
        "# Вывод с двумя переносами строки в конце\n",
        "print(1, 2, 3, end='\\n\\n')\n",
        "\n",
        "# Вывод с точкой в качестве конца строки\n",
        "print(1, 2, 3, end='. ')\n",
        "\n",
        "# Вывод по умолчанию – end='\\n'\n",
        "print(1, 2, 3)"
      ],
      "execution_count": null,
      "outputs": [
        {
          "output_type": "stream",
          "name": "stdout",
          "text": [
            "1 2 3\n",
            "1 2 3\n",
            "\n",
            "1 2 3. 1 2 3\n"
          ]
        }
      ]
    },
    {
      "cell_type": "markdown",
      "metadata": {
        "id": "zrC-MrLsfO9B"
      },
      "source": [
        "Таким образом через `help()` можно разобрать любую встроенную функцию."
      ]
    },
    {
      "cell_type": "markdown",
      "metadata": {
        "id": "9-7L1Gdhf82F"
      },
      "source": [
        "### Функция `sum()`"
      ]
    },
    {
      "cell_type": "markdown",
      "metadata": {
        "id": "0zrX2INxFh8K"
      },
      "source": [
        "Функция `sum` суммирует все элементы коллекции:"
      ]
    },
    {
      "cell_type": "code",
      "metadata": {
        "id": "rgrf7-P_gOkP"
      },
      "source": [
        "# Создание списка для суммирования\n",
        "\n",
        "list_for_summation = [1, 2, 3]"
      ],
      "execution_count": null,
      "outputs": []
    },
    {
      "cell_type": "code",
      "metadata": {
        "colab": {
          "base_uri": "https://localhost:8080/"
        },
        "id": "iMCcCAK1gwXF",
        "outputId": "368f72b3-1420-4c03-a1b0-b77ce1c2a9ad"
      },
      "source": [
        "# Суммирование значений списка\n",
        "print(sum([1, 2, 3]))"
      ],
      "execution_count": null,
      "outputs": [
        {
          "output_type": "stream",
          "name": "stdout",
          "text": [
            "6\n"
          ]
        }
      ]
    },
    {
      "cell_type": "markdown",
      "metadata": {
        "id": "jQEXUSDrgyqz"
      },
      "source": [
        "Суммирование элементов коллекций означает, что суммировать можно не только списки, но и остальные пройденные коллекции:"
      ]
    },
    {
      "cell_type": "code",
      "metadata": {
        "colab": {
          "base_uri": "https://localhost:8080/"
        },
        "id": "5i7XzhuZg_u3",
        "outputId": "31a12eef-39a3-45ec-b467-934b585d782e"
      },
      "source": [
        "# Создание кортежа для суммирования\n",
        "tuple_for_summation = 1, 2, 3\n",
        "print(tuple_for_summation)\n",
        "\n",
        "# Суммирование значений кортежа\n",
        "sum(tuple_for_summation)"
      ],
      "execution_count": null,
      "outputs": [
        {
          "output_type": "stream",
          "name": "stdout",
          "text": [
            "(1, 2, 3)\n"
          ]
        },
        {
          "output_type": "execute_result",
          "data": {
            "text/plain": [
              "6"
            ]
          },
          "metadata": {},
          "execution_count": 3
        }
      ]
    },
    {
      "cell_type": "code",
      "metadata": {
        "colab": {
          "base_uri": "https://localhost:8080/"
        },
        "id": "bXGuTwcnhSSc",
        "outputId": "354ad93c-3e1e-482a-f744-1689a1fee069"
      },
      "source": [
        "# Создание множества для суммирования\n",
        "set_for_summation = {1, 2, 3}\n",
        "print(set_for_summation)\n",
        "\n",
        "# Суммирование значений множества\n",
        "sum(set_for_summation)"
      ],
      "execution_count": null,
      "outputs": [
        {
          "output_type": "stream",
          "name": "stdout",
          "text": [
            "{1, 2, 3}\n"
          ]
        },
        {
          "output_type": "execute_result",
          "data": {
            "text/plain": [
              "6"
            ]
          },
          "metadata": {},
          "execution_count": 4
        }
      ]
    },
    {
      "cell_type": "code",
      "metadata": {
        "colab": {
          "base_uri": "https://localhost:8080/"
        },
        "id": "xBPHEt50hX3v",
        "outputId": "dd14a0f6-d629-43b7-ad57-3ab708a9f981"
      },
      "source": [
        "# Создание словаря для суммирования\n",
        "\n",
        "dict_for_summation = {1: 10,\n",
        "                      2: 'суммируются только ключи',\n",
        "                      3: 'поэтому значения в словаре не играют роли'}\n",
        "\n",
        "print(dict_for_summation)\n",
        "\n",
        "# Суммирование значений словаря\n",
        "sum(dict_for_summation)"
      ],
      "execution_count": null,
      "outputs": [
        {
          "output_type": "stream",
          "name": "stdout",
          "text": [
            "{1: 10, 2: 'суммируются только ключи', 3: 'поэтому значения в словаре не играют роли'}\n"
          ]
        },
        {
          "output_type": "execute_result",
          "data": {
            "text/plain": [
              "6"
            ]
          },
          "metadata": {},
          "execution_count": 7
        }
      ]
    },
    {
      "cell_type": "markdown",
      "metadata": {
        "id": "tHRJkFLkiwM9"
      },
      "source": [
        "Если заглянете в документацию, выводимую `help` по `sum`, то увидите следующее:"
      ]
    },
    {
      "cell_type": "code",
      "metadata": {
        "colab": {
          "base_uri": "https://localhost:8080/"
        },
        "id": "wdNyCfFDirUU",
        "outputId": "17e2ea1b-205d-44ad-c086-8018462e0ba3"
      },
      "source": [
        "help(sum)"
      ],
      "execution_count": null,
      "outputs": [
        {
          "output_type": "stream",
          "name": "stdout",
          "text": [
            "Help on built-in function sum in module builtins:\n",
            "\n",
            "sum(iterable, /, start=0)\n",
            "    Return the sum of a 'start' value (default: 0) plus an iterable of numbers\n",
            "    \n",
            "    When the iterable is empty, return the start value.\n",
            "    This function is intended specifically for use with numeric values and may\n",
            "    reject non-numeric types.\n",
            "\n"
          ]
        }
      ]
    },
    {
      "cell_type": "markdown",
      "metadata": {
        "id": "pCFmF2QkioyB"
      },
      "source": [
        "То есть в качестве аргумента функция `sum()` принимает **один** итерируемый объект.\n",
        "\n",
        "> Итерируемый объект (iterable) — это объект, который способен возвращать элементы по одному. Кроме того, это объект, из которого можно получить итератор. Не путайте с индексацией!\n",
        "\n",
        "К таким объектам относятся списки, кортежи и даже словари, множества.\n",
        "\n",
        "Учитывайте, что `sum` ожидает всего один итерируемый объект."
      ]
    },
    {
      "cell_type": "code",
      "metadata": {
        "id": "6HhKmrHgLqb-",
        "colab": {
          "base_uri": "https://localhost:8080/"
        },
        "outputId": "28be1fea-5e64-4d1d-aaa2-7ea17d147e46"
      },
      "source": [
        "# Суммирование чисел вне коллекции не сработает\n",
        "sum([190, 14, 97])"
      ],
      "execution_count": null,
      "outputs": [
        {
          "output_type": "execute_result",
          "data": {
            "text/plain": [
              "301"
            ]
          },
          "metadata": {},
          "execution_count": 10
        }
      ]
    },
    {
      "cell_type": "markdown",
      "metadata": {
        "id": "a0ZXYAOBlVKr"
      },
      "source": [
        "### Функция `max()`"
      ]
    },
    {
      "cell_type": "markdown",
      "metadata": {
        "id": "tIQbapK-laxX"
      },
      "source": [
        "Еще одна крайне полезная функция `max()` находит максимальное значение в коллекции:"
      ]
    },
    {
      "cell_type": "code",
      "metadata": {
        "colab": {
          "base_uri": "https://localhost:8080/"
        },
        "id": "jK_qX9H6lgkw",
        "outputId": "027a430b-6717-45a5-8b1e-8d066284e11f"
      },
      "source": [
        "# Нахождение максимального значения в списке\n",
        "max([1, 2, 3])"
      ],
      "execution_count": null,
      "outputs": [
        {
          "output_type": "execute_result",
          "data": {
            "text/plain": [
              "3"
            ]
          },
          "metadata": {},
          "execution_count": 11
        }
      ]
    },
    {
      "cell_type": "code",
      "metadata": {
        "colab": {
          "base_uri": "https://localhost:8080/"
        },
        "id": "i4n5zXO6lj_X",
        "outputId": "72d52efc-946a-41fa-d7bf-2aab447ae685"
      },
      "source": [
        "# Нахождение максимального значения в кортеже\n",
        "max((-10, 100, 4))"
      ],
      "execution_count": null,
      "outputs": [
        {
          "output_type": "execute_result",
          "data": {
            "text/plain": [
              "100"
            ]
          },
          "metadata": {},
          "execution_count": 12
        }
      ]
    },
    {
      "cell_type": "code",
      "metadata": {
        "colab": {
          "base_uri": "https://localhost:8080/"
        },
        "id": "DlFXbNPDlqvT",
        "outputId": "7215f88a-f80d-4ea5-86d9-645bbb07f139"
      },
      "source": [
        "# Нахождение максимального значения среди ключей в словаре\n",
        "max({1:4, 2:3})"
      ],
      "execution_count": null,
      "outputs": [
        {
          "output_type": "execute_result",
          "data": {
            "text/plain": [
              "2"
            ]
          },
          "metadata": {},
          "execution_count": 15
        }
      ]
    },
    {
      "cell_type": "markdown",
      "metadata": {
        "id": "DGenmOnemhoJ"
      },
      "source": [
        "В отличие от `sum()`, функция `max()` работает со значениями без коллекции:"
      ]
    },
    {
      "cell_type": "code",
      "metadata": {
        "colab": {
          "base_uri": "https://localhost:8080/"
        },
        "id": "qCCunZFMmf5t",
        "outputId": "5b1d95ad-ad5d-4412-a340-dc79016c88ee"
      },
      "source": [
        "# Поиск максимального значения без коллекции\n",
        "max(1, 10, 5)"
      ],
      "execution_count": null,
      "outputs": [
        {
          "output_type": "execute_result",
          "data": {
            "text/plain": [
              "10"
            ]
          },
          "metadata": {},
          "execution_count": 17
        }
      ]
    },
    {
      "cell_type": "markdown",
      "metadata": {
        "id": "_eWWuX5Al9Pi"
      },
      "source": [
        "### Функция `min()`"
      ]
    },
    {
      "cell_type": "markdown",
      "metadata": {
        "id": "ojmJWcszl_45"
      },
      "source": [
        "Функция `min()` аналогична функции `max()` по принципу работы, только находит минимум:"
      ]
    },
    {
      "cell_type": "code",
      "metadata": {
        "colab": {
          "base_uri": "https://localhost:8080/"
        },
        "id": "YnKjN07pmMoc",
        "outputId": "f50b57d3-eac6-4339-b83c-59e2a929b099"
      },
      "source": [
        "# Нахождение минимального значения в списке\n",
        "min([1, 2, 3])"
      ],
      "execution_count": null,
      "outputs": [
        {
          "output_type": "execute_result",
          "data": {
            "text/plain": [
              "1"
            ]
          },
          "metadata": {},
          "execution_count": 18
        }
      ]
    },
    {
      "cell_type": "code",
      "metadata": {
        "colab": {
          "base_uri": "https://localhost:8080/"
        },
        "id": "J9MAAj_-mPTY",
        "outputId": "4b2ee6ad-27f2-4a20-a510-57195617bd8a"
      },
      "source": [
        "# Нахождение минимального значения в кортеже\n",
        "min((-10, 100, 4))"
      ],
      "execution_count": null,
      "outputs": [
        {
          "output_type": "execute_result",
          "data": {
            "text/plain": [
              "-10"
            ]
          },
          "metadata": {},
          "execution_count": 19
        }
      ]
    },
    {
      "cell_type": "code",
      "metadata": {
        "colab": {
          "base_uri": "https://localhost:8080/"
        },
        "id": "nC6ZPTY1mQdL",
        "outputId": "df8bd5e7-10d4-4e06-fcc6-1c64522d665f"
      },
      "source": [
        "# Нахождение минимального значения среди неповторяющихся элементов в множестве\n",
        "min({2, -1, -10, 100})"
      ],
      "execution_count": null,
      "outputs": [
        {
          "output_type": "execute_result",
          "data": {
            "text/plain": [
              "-10"
            ]
          },
          "metadata": {},
          "execution_count": 20
        }
      ]
    },
    {
      "cell_type": "markdown",
      "metadata": {
        "id": "mIAxJWlJfeLO"
      },
      "source": [
        "### Функция `round()`"
      ]
    },
    {
      "cell_type": "markdown",
      "metadata": {
        "id": "P8-rkmAc_KPU"
      },
      "source": [
        "Еще одна функция, которую часто используют — это `round()`. Она округляет значение, передаваемое в скобки, до указанного знака после точки.\n",
        "\n",
        "> Функцию `round()` применяют в разных ситуациях. Например, когда при отображении точности нейронных сетей нужно показать только две цифры после точки: 95.99%. По умолчанию Python может отображать очень много значений после точки, например 95.98945676542213%, что неудобно читать.\n",
        "\n",
        "\n",
        "Задайте число с большим количеством цифр после точки, пусть это будет число Пи. Через имя, которое вы ему присвоили, передайте число в скобках функции `round()` и через запятую в тех же скобках укажите, до какого количества знаков после точки нужно округлить число:"
      ]
    },
    {
      "cell_type": "code",
      "metadata": {
        "id": "bZpbogsBLrK_",
        "colab": {
          "base_uri": "https://localhost:8080/"
        },
        "outputId": "66134c76-c116-466f-8214-4d45350b51f2"
      },
      "source": [
        "pi = 3.1415926535\n",
        "\n",
        "print('Число Пи, округленное до десятых:', round(pi, 1))\n",
        "print('Число Пи, округленное до сотых:', round(pi, 2))\n",
        "print('Число Пи, округленное до пяти знаков после точки:', round(pi, 5))"
      ],
      "execution_count": null,
      "outputs": [
        {
          "output_type": "stream",
          "name": "stdout",
          "text": [
            "Число Пи, округленное до десятых: 3.1\n",
            "Число Пи, округленное до сотых: 3.14\n",
            "Число Пи, округленное до пяти знаков после точки: 3.14159\n"
          ]
        }
      ]
    },
    {
      "cell_type": "markdown",
      "metadata": {
        "id": "Ew7CWE70BOQf"
      },
      "source": [
        "Если же вы не укажете количество знаков после точки, то `round` округлит число до целого:"
      ]
    },
    {
      "cell_type": "code",
      "metadata": {
        "colab": {
          "base_uri": "https://localhost:8080/"
        },
        "id": "kGydhh5jo9Q1",
        "outputId": "bbbc585f-9bbb-4c54-f295-1755427e8118"
      },
      "source": [
        "print('Число Пи, округленное до целого:', round(pi))"
      ],
      "execution_count": null,
      "outputs": [
        {
          "output_type": "stream",
          "name": "stdout",
          "text": [
            "Число Пи, округленное до целого: 3\n"
          ]
        }
      ]
    },
    {
      "cell_type": "markdown",
      "source": [
        "### Функция `map()`"
      ],
      "metadata": {
        "id": "RS27YnD20lLH"
      }
    },
    {
      "cell_type": "markdown",
      "source": [
        "Используется для применения определенной функции к итерируемому объекту. Применяет заданную функцию к каждому элементу последовательности. Она возвращает результат в виде итерируемого объекта (списки, кортежи, множества). Можно передать и несколько объектов, но в таком случае нужно будет и соответствующее количество функций."
      ],
      "metadata": {
        "id": "AR_mJP8J68yP"
      }
    },
    {
      "cell_type": "code",
      "source": [
        "list_numbers = [1.23, 4.64, 9.17]\n",
        "\n",
        "list_round_numbers = map(round, list_numbers)\n",
        "list_round_numbers = list(list_round_numbers)\n",
        "list_round_numbers"
      ],
      "metadata": {
        "colab": {
          "base_uri": "https://localhost:8080/"
        },
        "id": "t_87cWtpWHMp",
        "outputId": "5d73c284-70f7-45f0-c81b-f4847b605249"
      },
      "execution_count": null,
      "outputs": [
        {
          "output_type": "execute_result",
          "data": {
            "text/plain": [
              "[1, 5, 9]"
            ]
          },
          "metadata": {},
          "execution_count": 26
        }
      ]
    },
    {
      "cell_type": "code",
      "source": [
        "# Добавление прилагательного 'Красный' к словам из списка и создание нового списка\n",
        "def red(smth: str):\n",
        "  return 'Красный ' + smth\n",
        "\n",
        "mics = ['электросамокат','автомобиль','автобус']\n",
        "\n",
        "# Применяем функцию red() к каждому слову из списка mics\n",
        "red_mics = map(red, mics)\n",
        "\n",
        "# Посмотрим результат red_mics\n",
        "for red_object in red_mics:\n",
        "  print(red_object)"
      ],
      "metadata": {
        "colab": {
          "base_uri": "https://localhost:8080/"
        },
        "id": "DZADfi_R7Asn",
        "outputId": "5516f332-9cdb-4607-d928-ec787bcc3720"
      },
      "execution_count": null,
      "outputs": [
        {
          "output_type": "stream",
          "name": "stdout",
          "text": [
            "Красный электросамокат\n",
            "Красный автомобиль\n",
            "Красный автобус\n"
          ]
        }
      ]
    },
    {
      "cell_type": "code",
      "source": [
        "mics = ['электросамокат','автомобиль','автобус']\n",
        "\n",
        "# Применяем функцию red() к каждому слову из списка mics\n",
        "red_mics = map(lambda x: 'Оранжевый ' + x, mics)\n",
        "\n",
        "# Посмотрим результат red_mics\n",
        "for red_object in red_mics:\n",
        "  print(red_object)"
      ],
      "metadata": {
        "colab": {
          "base_uri": "https://localhost:8080/"
        },
        "id": "kg50yc3_isHv",
        "outputId": "693318df-040a-4c6b-9cc1-a99c71f1c81c"
      },
      "execution_count": null,
      "outputs": [
        {
          "output_type": "stream",
          "name": "stdout",
          "text": [
            "Оранжевый электросамокат\n",
            "Оранжевый автомобиль\n",
            "Оранжевый автобус\n"
          ]
        }
      ]
    },
    {
      "cell_type": "markdown",
      "source": [
        "Пример использования lambda-функции для проверки по условию, если значение четное -> вернется число, в противном случаe None"
      ],
      "metadata": {
        "id": "HpBYhk9Vw3dw"
      }
    },
    {
      "cell_type": "code",
      "source": [
        "# у нас есть некий список\n",
        "misc = range(20)\n",
        "\n",
        "# lambda-функции для проверки по условию, если значение четное -> вернется число, в противном случаe None\n",
        "new_misc = list(map(lambda x: x if x % 2==0 else None, misc))\n",
        "print(new_misc)"
      ],
      "metadata": {
        "colab": {
          "base_uri": "https://localhost:8080/"
        },
        "outputId": "fcac6559-f784-47c4-8233-980f7f6c1e69",
        "id": "Bc7xPQeZwzx3"
      },
      "execution_count": null,
      "outputs": [
        {
          "output_type": "stream",
          "name": "stdout",
          "text": [
            "[0, None, 2, None, 4, None, 6, None, 8, None, 10, None, 12, None, 14, None, 16, None, 18, None]\n"
          ]
        }
      ]
    },
    {
      "cell_type": "markdown",
      "source": [
        "### Функция `eval()`"
      ],
      "metadata": {
        "id": "nOLlTJwH0mJI"
      }
    },
    {
      "cell_type": "markdown",
      "source": [
        "`eval()` обрабатывает переданное в нее выражение и исполняет его как выражение Python. После этого возвращается значение."
      ],
      "metadata": {
        "id": "tJKOjhUhCa2d"
      }
    },
    {
      "cell_type": "code",
      "source": [
        "#Пример вычисления выражения, записанного в строке\n",
        "\n",
        "st = \"1+1+3+5*128\"  # Значение этого выражения вычисляется в следующей строке кода.\n",
        "eval(st)"
      ],
      "metadata": {
        "colab": {
          "base_uri": "https://localhost:8080/"
        },
        "id": "w96Ypf2jCh_H",
        "outputId": "4fe430e5-ad08-4722-ba0c-ec1a8c680b70"
      },
      "execution_count": null,
      "outputs": [
        {
          "output_type": "execute_result",
          "data": {
            "text/plain": [
              "645"
            ]
          },
          "metadata": {},
          "execution_count": 31
        }
      ]
    },
    {
      "cell_type": "markdown",
      "source": [
        "### Функция `filter()`"
      ],
      "metadata": {
        "id": "hLGDHtANHMir"
      }
    },
    {
      "cell_type": "markdown",
      "source": [
        "`filter()` - фильтрует элементы последовательности\n",
        "\\\n",
        "Синтаксис:\n",
        "```python\n",
        "filter(function, iterable)\n",
        "```\n",
        "* `function` Функция, которая оценивает каждый элемент и возвращает `True` или `False`.\n",
        "* `iterable` Последовательность (например, список), элементы которой будут проверяться с помощью функции-предиката."
      ],
      "metadata": {
        "id": "Sb4qDQeY69ct"
      }
    },
    {
      "cell_type": "markdown",
      "source": [
        "Пример использования: отбор чётных чисел из списка"
      ],
      "metadata": {
        "id": "T4TWZsAaRKb8"
      }
    },
    {
      "cell_type": "code",
      "source": [
        "# Возвращает True для чётных чисел.\n",
        "def is_even(x: int | float):\n",
        "    return x % 2 == 0\n",
        "\n",
        "# у нас есть некий список numbers\n",
        "numbers = [1, 2, 3, 4, 5, 6, 7, 8, 9, 10]\n",
        "\n",
        "# Вызываем функцию filter для нашего списка, используя функцию\n",
        "list(filter(is_even, numbers))"
      ],
      "metadata": {
        "colab": {
          "base_uri": "https://localhost:8080/"
        },
        "id": "n6dLg5aN78Ox",
        "outputId": "42fdd715-4dee-45b3-85c1-b0cf37eb81e7"
      },
      "execution_count": null,
      "outputs": [
        {
          "output_type": "execute_result",
          "data": {
            "text/plain": [
              "[2, 4, 6, 8, 10]"
            ]
          },
          "metadata": {},
          "execution_count": 32
        }
      ]
    },
    {
      "cell_type": "code",
      "source": [
        "# у нас есть некий список numbers\n",
        "numbers = [1, 2, 3, 4, 5, 6, 7, 8, 9, 10]\n",
        "\n",
        "# Вызываем функцию filter для нашего списка, используя функцию\n",
        "list(filter(lambda x: x % 2 == 0, numbers))"
      ],
      "metadata": {
        "colab": {
          "base_uri": "https://localhost:8080/"
        },
        "id": "76vx5a_dkUYF",
        "outputId": "f2b5b92b-ee24-4817-e4bb-4781a3fe4d81"
      },
      "execution_count": null,
      "outputs": [
        {
          "output_type": "execute_result",
          "data": {
            "text/plain": [
              "[2, 4, 6, 8, 10]"
            ]
          },
          "metadata": {},
          "execution_count": 33
        }
      ]
    },
    {
      "cell_type": "code",
      "source": [
        "# Для сравнения is_even() используется в map()\n",
        "# применяем функцию к каждому элементу и получаем True или False для каждого.\n",
        "print([1, 2, 3, 4, 5, 6, 7, 8, 9, 10])\n",
        "list(map(is_even, numbers))"
      ],
      "metadata": {
        "colab": {
          "base_uri": "https://localhost:8080/"
        },
        "id": "i5fp3sa0rsv3",
        "outputId": "3a13c269-3dbe-4509-a4c8-d8523dfd5723"
      },
      "execution_count": null,
      "outputs": [
        {
          "output_type": "stream",
          "name": "stdout",
          "text": [
            "[1, 2, 3, 4, 5, 6, 7, 8, 9, 10]\n"
          ]
        },
        {
          "output_type": "execute_result",
          "data": {
            "text/plain": [
              "[False, True, False, True, False, True, False, True, False, True]"
            ]
          },
          "metadata": {},
          "execution_count": 34
        }
      ]
    },
    {
      "cell_type": "markdown",
      "source": [
        "#### Пример фильтрации словаря, без использования lambda-функции:"
      ],
      "metadata": {
        "id": "GTnv0xiAxNKd"
      }
    },
    {
      "cell_type": "code",
      "source": [
        "# Определяем словарь\n",
        "grades = {'John': 7.8, 'Mary': 9.0, 'Matt': 8.6, 'Michael': 9.5}\n",
        "\n",
        "# Определяем пользовательскую функцию для фильтрации элементов словаря\n",
        "def my_filtering_function(pair):\n",
        "    key, value = pair\n",
        "    if value < 8.8 :\n",
        "        return False  # Исключаем из словаря\n",
        "    else:\n",
        "        return True  # Пара (key, value) сохраняется в словаре\n",
        "\n",
        "# Запускаем фильтрацию словаря\n",
        "filtered_grades = dict(filter(my_filtering_function, grades.items()))\n",
        "\n",
        "# Вывод результата\n",
        "print(filtered_grades)"
      ],
      "metadata": {
        "colab": {
          "base_uri": "https://localhost:8080/"
        },
        "outputId": "694e1108-3cb8-4a0b-de19-a8deec8ca8a5",
        "id": "0dbyw82qxNKj"
      },
      "execution_count": null,
      "outputs": [
        {
          "output_type": "stream",
          "name": "stdout",
          "text": [
            "{'Mary': 9.0, 'Michael': 9.5}\n"
          ]
        }
      ]
    },
    {
      "cell_type": "markdown",
      "source": [
        "Тот же пример фильтрации словаря, но с использованием lambda-функции. Код стал немного лаконичнее."
      ],
      "metadata": {
        "id": "aIW1w2eUxNKj"
      }
    },
    {
      "cell_type": "code",
      "source": [
        "# Константа\n",
        "VALUE = 1\n",
        "\n",
        "# Определяем словарь\n",
        "grades = {'John': 7.8, 'Mary': 9.0, 'Matt': 8.6, 'Michael': 9.5}\n",
        "\n",
        "# Запускаем фильтрацию словаря, сохраняем все значения >= 8.8\n",
        "filtered_grades = dict(filter(lambda key_value : key_value[VALUE] >= 8.8, grades.items()))\n",
        "\n",
        "# Вывод результата\n",
        "print(filtered_grades)"
      ],
      "metadata": {
        "colab": {
          "base_uri": "https://localhost:8080/"
        },
        "outputId": "ce2bc9c9-d852-441d-9bc6-10ab56657668",
        "id": "AjKkv-IVxNKj"
      },
      "execution_count": null,
      "outputs": [
        {
          "output_type": "stream",
          "name": "stdout",
          "text": [
            "{'Mary': 9.0, 'Michael': 9.5}\n"
          ]
        }
      ]
    },
    {
      "cell_type": "markdown",
      "source": [
        "### Функция `zip()`"
      ],
      "metadata": {
        "id": "hqO-i1FuHNsn"
      }
    },
    {
      "cell_type": "markdown",
      "source": [
        "`zip()` позволяет объединять элементы из нескольких итерируемых объектов (списков, строк) в кортежи.\n",
        "\n",
        "> Каждый кортеж содержит элементы на соответствующих позициях из каждого переданного итерируемого объекта. Если объекты имеют разную длину, то `zip()` остановится, когда закончится итерация на самом коротком объекте."
      ],
      "metadata": {
        "id": "ZvYbG9kDIlsE"
      }
    },
    {
      "cell_type": "markdown",
      "source": [
        "\n",
        "Синтаксис:\n",
        "```python\n",
        "zip(iterable1, iterable2, ...)\n",
        "```\n",
        "\n"
      ],
      "metadata": {
        "id": "YEIEOH3slzgI"
      }
    },
    {
      "cell_type": "markdown",
      "source": [
        "Пример объединения трёх списков в список кортежей"
      ],
      "metadata": {
        "id": "nsFVwJSTIxjE"
      }
    },
    {
      "cell_type": "code",
      "source": [
        "names =  [\"Alice\", \"Bob\", \"Charlie\"]\n",
        "age =    [45,       65,       74]\n",
        "scores = [85,       92]\n",
        "\n",
        "# Итератор - объект zip\n",
        "zipped = zip(names, age, scores)\n",
        "\n",
        "# Преобразование итератора в список кортежей\n",
        "list(zipped)"
      ],
      "metadata": {
        "colab": {
          "base_uri": "https://localhost:8080/"
        },
        "id": "aXYHoQC8nXNn",
        "outputId": "95dc8b36-f2ca-4599-9e87-753a379eb5d0"
      },
      "execution_count": null,
      "outputs": [
        {
          "output_type": "execute_result",
          "data": {
            "text/plain": [
              "[('Alice', 45, 85), ('Bob', 65, 92)]"
            ]
          },
          "metadata": {},
          "execution_count": 37
        }
      ]
    },
    {
      "cell_type": "code",
      "source": [
        "# Объект zip\n",
        "type(zipped)"
      ],
      "metadata": {
        "colab": {
          "base_uri": "https://localhost:8080/"
        },
        "id": "REtKVglfJb2Y",
        "outputId": "f4d7d1be-d409-47a7-c777-d0c8fa7997c3"
      },
      "execution_count": null,
      "outputs": [
        {
          "output_type": "execute_result",
          "data": {
            "text/plain": [
              "zip"
            ]
          },
          "metadata": {},
          "execution_count": 38
        }
      ]
    },
    {
      "cell_type": "code",
      "source": [
        "# краткая запись\n",
        "list(zip(names, age, scores))"
      ],
      "metadata": {
        "colab": {
          "base_uri": "https://localhost:8080/"
        },
        "id": "bgQpabqAqq5q",
        "outputId": "b0b62cc0-e0b0-4e8f-e0ab-1bae1319cc31"
      },
      "execution_count": null,
      "outputs": [
        {
          "output_type": "execute_result",
          "data": {
            "text/plain": [
              "[('Alice', 45, 85), ('Bob', 65, 92)]"
            ]
          },
          "metadata": {},
          "execution_count": 39
        }
      ]
    },
    {
      "cell_type": "markdown",
      "source": [
        "Для распаковки имеется обратная операция"
      ],
      "metadata": {
        "id": "rb118SelrNeK"
      }
    },
    {
      "cell_type": "code",
      "source": [
        "# У Нас упаковка двух списков\n",
        "names = [\"Alice\", \"Bob\", \"Charlie\", \"Ivan\", \"Petrovich\"]\n",
        "scores = [85, 92, 128, 512, 1024]\n",
        "\n",
        "list_zipped = list(zip(names, scores))\n",
        "\n",
        "print(\"После применения zip\", list_zipped)"
      ],
      "metadata": {
        "colab": {
          "base_uri": "https://localhost:8080/"
        },
        "id": "glxs9opwrL39",
        "outputId": "7cfae6a2-d1cf-4f23-fa56-10f93ee08af3"
      },
      "execution_count": null,
      "outputs": [
        {
          "output_type": "stream",
          "name": "stdout",
          "text": [
            "После применения zip [('Alice', 85), ('Bob', 92), ('Charlie', 128), ('Ivan', 512), ('Petrovich', 1024)]\n"
          ]
        }
      ]
    },
    {
      "cell_type": "code",
      "source": [
        "# Для распаковки сначала получаем итератор - объект zip\n",
        "tpl_names, tpl_scores = list(zip(*list_zipped))\n",
        "list_names, list_scores = list(tpl_names), list(tpl_scores)\n",
        "print(\"names:\", list_names)\n",
        "print(\"scores:\", list_scores)"
      ],
      "metadata": {
        "colab": {
          "base_uri": "https://localhost:8080/"
        },
        "id": "P3AG5YtOrcKm",
        "outputId": "59a6b09c-bed9-4a58-ae35-fddaacacb9b5"
      },
      "execution_count": null,
      "outputs": [
        {
          "output_type": "stream",
          "name": "stdout",
          "text": [
            "names: ['Alice', 'Bob', 'Charlie', 'Ivan', 'Petrovich']\n",
            "scores: [85, 92, 128, 512, 1024]\n"
          ]
        }
      ]
    }
  ],
  "metadata": {
    "colab": {
      "provenance": [],
      "include_colab_link": true
    },
    "kernelspec": {
      "display_name": "Python 3",
      "name": "python3"
    },
    "language_info": {
      "name": "python"
    }
  },
  "nbformat": 4,
  "nbformat_minor": 0
}