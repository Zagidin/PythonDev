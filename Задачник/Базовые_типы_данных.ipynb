{
  "nbformat": 4,
  "nbformat_minor": 0,
  "metadata": {
    "colab": {
      "provenance": [],
      "collapsed_sections": [
        "eAwvfAjs1wdB",
        "rlSksCzR11II",
        "uEUJtd-6AT0X",
        "9KTQR4uqAT02",
        "zPOa99A48q9N",
        "VjYzvakl8q98",
        "OFYZKT4HFT8D",
        "2iiax27hFT8y",
        "-IrQUaplhk1Y",
        "xFUpNwU8h9VM",
        "Pj9V1jK8uTpw",
        "Dp3f8C93u1qa",
        "9RjnidauyEQ1",
        "Sl-T79ozwPTZ",
        "E8YEoeDJDxMw",
        "AZaI-nJBDxNP",
        "dT-EkqdRwNMz",
        "J2D0jg6vwwjk",
        "gvaWkvMvw1IJ",
        "9iBwEdxXxEUK"
      ],
      "include_colab_link": true
    },
    "kernelspec": {
      "name": "python3",
      "display_name": "Python 3"
    },
    "language_info": {
      "name": "python"
    }
  },
  "cells": [
    {
      "cell_type": "markdown",
      "metadata": {
        "id": "view-in-github",
        "colab_type": "text"
      },
      "source": [
        "<a href=\"https://colab.research.google.com/github/Zagidin/PythonDev/blob/main/%D0%97%D0%B0%D0%B4%D0%B0%D1%87%D0%BD%D0%B8%D0%BA_%7C_%D0%91%D0%B0%D0%B7%D0%BE%D0%B2%D1%8B%D0%B5_%D1%82%D0%B8%D0%BF%D1%8B_%D0%B4%D0%B0%D0%BD%D0%BD%D1%8B%D1%85.ipynb\" target=\"_parent\"><img src=\"https://colab.research.google.com/assets/colab-badge.svg\" alt=\"Open In Colab\"/></a>"
      ]
    },
    {
      "cell_type": "markdown",
      "source": [
        "\n",
        "# Рассмотрим несколько задач по пройденной теме.\n",
        "\n",
        "Постарайтесь самостоятельно решить задачу и только после этого сравнить свое решение с представленным вариантом решения.\n"
      ],
      "metadata": {
        "id": "YoUFc3A_rYm7"
      }
    },
    {
      "cell_type": "markdown",
      "metadata": {
        "id": "eAwvfAjs1wdB"
      },
      "source": [
        "## Задача 1"
      ]
    },
    {
      "cell_type": "markdown",
      "source": [
        "Сравните строку 'python', написанную через английскую букву 'p', и ту же самую строку 'python', но через русскую букву 'р'.  "
      ],
      "metadata": {
        "id": "hcJz8lRTOzBy"
      }
    },
    {
      "cell_type": "code",
      "metadata": {
        "id": "7X9mBLcS10Yk"
      },
      "source": [
        "# Ваш код\n"
      ],
      "execution_count": null,
      "outputs": []
    },
    {
      "cell_type": "markdown",
      "metadata": {
        "id": "rlSksCzR11II"
      },
      "source": [
        "### Решение"
      ]
    },
    {
      "cell_type": "code",
      "source": [
        "eng = 'python'\n",
        "rus = 'рython'\n",
        "eng == rus"
      ],
      "metadata": {
        "colab": {
          "base_uri": "https://localhost:8080/"
        },
        "id": "0BN7_P1UO6vn",
        "outputId": "ea153ed9-0613-47d5-da8e-172e68db1098"
      },
      "execution_count": null,
      "outputs": [
        {
          "output_type": "execute_result",
          "data": {
            "text/plain": [
              "False"
            ]
          },
          "metadata": {},
          "execution_count": 1
        }
      ]
    },
    {
      "cell_type": "markdown",
      "metadata": {
        "id": "uEUJtd-6AT0X"
      },
      "source": [
        "## Задача 2"
      ]
    },
    {
      "cell_type": "markdown",
      "source": [
        "Вычислите объем шара с радиусом 3 и округлите результат до 3 знаков после запятой (V=4/3πr**3)"
      ],
      "metadata": {
        "id": "kFlIjw_UAT02"
      }
    },
    {
      "cell_type": "code",
      "metadata": {
        "id": "eVybSm2KAT02"
      },
      "source": [
        "# Ваш код\n"
      ],
      "execution_count": null,
      "outputs": []
    },
    {
      "cell_type": "markdown",
      "metadata": {
        "id": "9KTQR4uqAT02"
      },
      "source": [
        "### Решение"
      ]
    },
    {
      "cell_type": "code",
      "source": [
        "r = 3\n",
        "pi = 3.142\n",
        "V = 4/3 * pi * r**3\n",
        "print(f'Объем шара = {V:.3f}')"
      ],
      "metadata": {
        "colab": {
          "base_uri": "https://localhost:8080/"
        },
        "outputId": "d91e894d-8144-4f40-a072-e3c0fb111766",
        "id": "f_6okek3AT02"
      },
      "execution_count": null,
      "outputs": [
        {
          "output_type": "stream",
          "name": "stdout",
          "text": [
            "Объем шара = 113.112\n"
          ]
        }
      ]
    },
    {
      "cell_type": "markdown",
      "metadata": {
        "id": "zPOa99A48q9N"
      },
      "source": [
        "## Задача 3\n",
        "\n",
        "\n"
      ]
    },
    {
      "cell_type": "markdown",
      "source": [
        "С помощью операторов or, and, ==, <, значений True, 10, 1, 'строка' и скобок составьте логическое выражение, которое будет давать True. Придумайте конструкцию, которая всегда будет давать в результате True."
      ],
      "metadata": {
        "id": "NqH6FlVC8q98"
      }
    },
    {
      "cell_type": "code",
      "metadata": {
        "id": "Kt079a-D8q98"
      },
      "source": [
        "# Ваш код\n"
      ],
      "execution_count": null,
      "outputs": []
    },
    {
      "cell_type": "markdown",
      "metadata": {
        "id": "VjYzvakl8q98"
      },
      "source": [
        "### Решение"
      ]
    },
    {
      "cell_type": "code",
      "source": [
        "(10 < 1 and 'строка' == 1) or True"
      ],
      "metadata": {
        "colab": {
          "base_uri": "https://localhost:8080/"
        },
        "outputId": "80fd6ac9-644f-45a7-93e4-8a367c9407c7",
        "id": "Nupa0c9f8q98"
      },
      "execution_count": null,
      "outputs": [
        {
          "output_type": "execute_result",
          "data": {
            "text/plain": [
              "True"
            ]
          },
          "metadata": {},
          "execution_count": 13
        }
      ]
    },
    {
      "cell_type": "markdown",
      "metadata": {
        "id": "OFYZKT4HFT8D"
      },
      "source": [
        "## Задача 4"
      ]
    },
    {
      "cell_type": "markdown",
      "source": [
        "Напишите программу, которая\n",
        "а) принимает значения трех сторон треугольника, б) проверяет, прямоугольный ли он, в) выдает ответ в виде: Является ли треугольник со сторонами 3,4,5 прямоугольным? Ответ: True"
      ],
      "metadata": {
        "id": "K_wF_VLXFT8y"
      }
    },
    {
      "cell_type": "code",
      "metadata": {
        "id": "iAphp-UmFT8y"
      },
      "source": [
        "# Ваш код\n"
      ],
      "execution_count": null,
      "outputs": []
    },
    {
      "cell_type": "markdown",
      "metadata": {
        "id": "2iiax27hFT8y"
      },
      "source": [
        "### Решение"
      ]
    },
    {
      "cell_type": "code",
      "source": [
        "a = int(input('Введите длину 1 стороны треугольника: '))\n",
        "b = int(input('Введите длину 2 стороны треугольника: '))\n",
        "c = int(input('Введите длину 3 стороны треугольника: '))\n",
        "proverka = a**2 + b**2 == c**2 or a**2 + c**2 == b**2 or b**2 + c**2 == a**2\n",
        "print(f'Является ли треугольник со сторонами {a},{b},{c} прямоугольным? Ответ:', proverka)"
      ],
      "metadata": {
        "colab": {
          "base_uri": "https://localhost:8080/"
        },
        "outputId": "2ac8adca-75a1-401e-c036-0ab433cec9eb",
        "id": "vAnpEmBYFT8y"
      },
      "execution_count": null,
      "outputs": [
        {
          "output_type": "stream",
          "name": "stdout",
          "text": [
            "Введите длину 1 стороны треугольника: 3\n",
            "Введите длину 2 стороны треугольника: 4\n",
            "Введите длину 3 стороны треугольника: 5\n",
            "Является ли треугольник со сторонами 3,4,5 прямоугольным? Ответ: True\n"
          ]
        }
      ]
    },
    {
      "cell_type": "markdown",
      "metadata": {
        "id": "-IrQUaplhk1Y"
      },
      "source": [
        "## Задача 5"
      ]
    },
    {
      "cell_type": "markdown",
      "source": [
        "Присвойте переменным значения: 0, любое другое число, любая строка, пустая строка (''), пробел (' '). Выведите результат преобразования данных значений в логический тип (bool). Формат вывода:\n",
        "```\n",
        "0 - False,    1 - True,\n",
        "строка - True,  '' - False,   ' ' - True\n",
        "\n",
        "```\n",
        "Между записями в одной строке должен быть промежуток равный табуляции, допускается использовать print() только 1 раз.\n",
        "\n",
        "\n",
        "\n",
        "\n",
        "\n",
        "\n"
      ],
      "metadata": {
        "id": "DuAuNh7GPYGE"
      }
    },
    {
      "cell_type": "code",
      "metadata": {
        "id": "a-s-YS87h5My"
      },
      "source": [
        "# Ваш код\n"
      ],
      "execution_count": null,
      "outputs": []
    },
    {
      "cell_type": "markdown",
      "metadata": {
        "id": "xFUpNwU8h9VM"
      },
      "source": [
        "### Решение"
      ]
    },
    {
      "cell_type": "code",
      "source": [
        "a = 0\n",
        "b = 1\n",
        "c = 'строка'\n",
        "d = ''\n",
        "e = ' '\n",
        "print(f'{a} - {bool(a)},\\t{b} - {bool(b)},\\n{c} - {bool(c)},\\t\\'\\' - {bool(d)},\\t\\' \\' - {bool(e)}')\n"
      ],
      "metadata": {
        "colab": {
          "base_uri": "https://localhost:8080/"
        },
        "id": "D2aIVgjFPg92",
        "outputId": "d4482c93-5910-48d3-f119-26c32a21e4c6"
      },
      "execution_count": null,
      "outputs": [
        {
          "output_type": "stream",
          "name": "stdout",
          "text": [
            "0 - False,\t1 - True,\n",
            "строка - True,\t'' - False,\t' ' - True\n"
          ]
        }
      ]
    },
    {
      "cell_type": "markdown",
      "metadata": {
        "id": "Pj9V1jK8uTpw"
      },
      "source": [
        "## Задача 6"
      ]
    },
    {
      "cell_type": "markdown",
      "source": [
        "Преобразуйте числа 2.1 и 2.9 к типу int. Сделайте наглядный вывод результатов по своему усмотрению"
      ],
      "metadata": {
        "id": "hY7N1PkbQXCb"
      }
    },
    {
      "cell_type": "code",
      "metadata": {
        "id": "rsaCf2Muu27I"
      },
      "source": [
        "# Ваше решение\n"
      ],
      "execution_count": null,
      "outputs": []
    },
    {
      "cell_type": "markdown",
      "metadata": {
        "id": "Dp3f8C93u1qa"
      },
      "source": [
        "### Решение"
      ]
    },
    {
      "cell_type": "code",
      "metadata": {
        "id": "VGOVaXspr5NK",
        "colab": {
          "base_uri": "https://localhost:8080/"
        },
        "outputId": "be5312bd-822a-4ff9-fbd4-885ac9a0c375"
      },
      "source": [
        "a = 2.1\n",
        "b = 2.9\n",
        "print(f'{a} -> {int(a)}')\n",
        "print(f'{b} -> {int(b)}')"
      ],
      "execution_count": null,
      "outputs": [
        {
          "output_type": "stream",
          "name": "stdout",
          "text": [
            "2.1 -> 2\n",
            "2.9 -> 2\n"
          ]
        }
      ]
    },
    {
      "cell_type": "markdown",
      "metadata": {
        "id": "9RjnidauyEQ1"
      },
      "source": [
        "## Задача 7"
      ]
    },
    {
      "cell_type": "markdown",
      "source": [
        "Запишите в переменные два любых числа, затем преобразуйте их в формат str. Найдите их суммы с помощью оператора + до и после преобразования. Сделайте наглядный вывод результатов по своему усмотрению"
      ],
      "metadata": {
        "id": "boM7QZ28QrUl"
      }
    },
    {
      "cell_type": "code",
      "metadata": {
        "id": "_KlLE6BMwQJY"
      },
      "source": [
        "# Ваше решение\n"
      ],
      "execution_count": null,
      "outputs": []
    },
    {
      "cell_type": "markdown",
      "metadata": {
        "id": "Sl-T79ozwPTZ"
      },
      "source": [
        "### Решение"
      ]
    },
    {
      "cell_type": "code",
      "metadata": {
        "colab": {
          "base_uri": "https://localhost:8080/"
        },
        "id": "WE3ksMFZpsV0",
        "outputId": "4b4dbc74-eb76-4a30-d1a7-4c55d08ae3e1"
      },
      "source": [
        "# Задаем два числа\n",
        "a = 10\n",
        "b = 5\n",
        "\n",
        "# Преобразуем числа в строковый формат\n",
        "str_a = str(a)\n",
        "str_b = str(b)\n",
        "\n",
        "# Находим их суммы\n",
        "sum_ab = a + b\n",
        "sum_ab_str = str_a + str_b\n",
        "\n",
        "# Выводим результаты\n",
        "print(f\"Сумма чисел {a} и {b}: {sum_ab}\")\n",
        "print(f\"Сумма чисел {a} и {b} в строковом формате: {sum_ab_str}\")\n"
      ],
      "execution_count": null,
      "outputs": [
        {
          "output_type": "stream",
          "name": "stdout",
          "text": [
            "Сумма чисел 10 и 5: 15\n",
            "Сумма чисел 10 и 5 в строковом формате: 105\n"
          ]
        }
      ]
    },
    {
      "cell_type": "markdown",
      "metadata": {
        "id": "E8YEoeDJDxMw"
      },
      "source": [
        "## Задача 8"
      ]
    },
    {
      "cell_type": "markdown",
      "source": [
        "Попробуйте выполнить операцию умножения со строковыми переменными из предыдущего задания."
      ],
      "metadata": {
        "id": "n3OHCR5lDxNP"
      }
    },
    {
      "cell_type": "code",
      "metadata": {
        "id": "psFwiRvyDxNP"
      },
      "source": [
        "# Ваше решение\n"
      ],
      "execution_count": null,
      "outputs": []
    },
    {
      "cell_type": "markdown",
      "metadata": {
        "id": "AZaI-nJBDxNP"
      },
      "source": [
        "### Решение"
      ]
    },
    {
      "cell_type": "code",
      "metadata": {
        "colab": {
          "base_uri": "https://localhost:8080/",
          "height": 164
        },
        "outputId": "b1929265-cc39-44a2-ca73-b6bc124c5a13",
        "id": "X8RXRezVDxNP"
      },
      "source": [
        "# Выводим результаты\n",
        "print(f\"Произведение чисел {a} и {b} в строковом формате: {str_a * str_b}\")\n"
      ],
      "execution_count": null,
      "outputs": [
        {
          "output_type": "error",
          "ename": "TypeError",
          "evalue": "can't multiply sequence by non-int of type 'str'",
          "traceback": [
            "\u001b[0;31m---------------------------------------------------------------------------\u001b[0m",
            "\u001b[0;31mTypeError\u001b[0m                                 Traceback (most recent call last)",
            "\u001b[0;32m<ipython-input-2-bf73c87e9437>\u001b[0m in \u001b[0;36m<cell line: 0>\u001b[0;34m()\u001b[0m\n\u001b[1;32m      1\u001b[0m \u001b[0;31m# Выводим результаты\u001b[0m\u001b[0;34m\u001b[0m\u001b[0;34m\u001b[0m\u001b[0m\n\u001b[0;32m----> 2\u001b[0;31m \u001b[0mprint\u001b[0m\u001b[0;34m(\u001b[0m\u001b[0;34mf\"Произведение чисел {a} и {b} в строковом формате: {str_a * str_b}\"\u001b[0m\u001b[0;34m)\u001b[0m\u001b[0;34m\u001b[0m\u001b[0;34m\u001b[0m\u001b[0m\n\u001b[0m",
            "\u001b[0;31mTypeError\u001b[0m: can't multiply sequence by non-int of type 'str'"
          ]
        }
      ]
    },
    {
      "cell_type": "markdown",
      "metadata": {
        "id": "dT-EkqdRwNMz"
      },
      "source": [
        "## Задача 9"
      ]
    },
    {
      "cell_type": "markdown",
      "metadata": {
        "id": "LsBGFmZ_CB8J"
      },
      "source": [
        "Задайте 3 слова. Осуществите вывод этих слов в одну строку, чтобы они были разделены символом @, пробелов быть не должно. Реализуйте это тремя способами (изучие параметры функции print)"
      ]
    },
    {
      "cell_type": "code",
      "metadata": {
        "id": "u5VwbO8UwuCT"
      },
      "source": [
        "# Ваше решение\n"
      ],
      "execution_count": null,
      "outputs": []
    },
    {
      "cell_type": "markdown",
      "metadata": {
        "id": "J2D0jg6vwwjk"
      },
      "source": [
        "### Решение"
      ]
    },
    {
      "cell_type": "code",
      "metadata": {
        "colab": {
          "base_uri": "https://localhost:8080/"
        },
        "id": "-x_LOncjB9WY",
        "outputId": "ac89ea98-3709-4849-eafe-9bf13ad6d32d"
      },
      "source": [
        "string1 = input('Введите первое слово: ')\n",
        "string2 = input('Введите второе слово: ')\n",
        "string3 = input('Введите третье слово: ')\n",
        "\n",
        "# Задаем разделитель\n",
        "sep = '@'\n",
        "\n",
        "# 1 способ\n",
        "print(string1,string2,string3, sep=sep)\n",
        "\n",
        "# 2 способ\n",
        "print(f'{string1}{sep}{string2}{sep}{string3}')\n",
        "\n",
        "# 3 способ\n",
        "print(string1, end=sep)\n",
        "print(string2, end=sep)\n",
        "print(string3)"
      ],
      "execution_count": null,
      "outputs": [
        {
          "output_type": "stream",
          "name": "stdout",
          "text": [
            "Введите первое слово: первый\n",
            "Введите второе слово: второй\n",
            "Введите третье слово: третий\n",
            "первый@второй@третий\n",
            "первый@второй@третий\n",
            "первый@второй@третий\n"
          ]
        }
      ]
    },
    {
      "cell_type": "markdown",
      "metadata": {
        "id": "gvaWkvMvw1IJ"
      },
      "source": [
        "## Задача 10\n"
      ]
    },
    {
      "cell_type": "markdown",
      "metadata": {
        "id": "4kM8fwsfDfxv"
      },
      "source": [
        "Введите любое трехзначное число. Осуществите вывод числа с обратным порядком цифр. Например, 123 -> 321."
      ]
    },
    {
      "cell_type": "code",
      "metadata": {
        "id": "CWf0UeudxANh"
      },
      "source": [
        "# Ваше решение\n"
      ],
      "execution_count": null,
      "outputs": []
    },
    {
      "cell_type": "markdown",
      "metadata": {
        "id": "9iBwEdxXxEUK"
      },
      "source": [
        "### Решение"
      ]
    },
    {
      "cell_type": "code",
      "source": [
        "number = int(input('Введите любое трехзначное число:'))\n",
        "\n",
        "# Выделяем сотни, десятки, единицы\n",
        "h = number // 100\n",
        "d = number % 100 // 10\n",
        "u = number % 10\n",
        "\n",
        "# Записываем число с цифрами в обратном порядке\n",
        "print(f'Запись числа в обратном порядке:{u}{d}{h}')"
      ],
      "metadata": {
        "colab": {
          "base_uri": "https://localhost:8080/"
        },
        "id": "se-N_BvkRcFW",
        "outputId": "d5326fb4-a95c-4312-e39c-5b1c15315737"
      },
      "execution_count": null,
      "outputs": [
        {
          "output_type": "stream",
          "name": "stdout",
          "text": [
            "Введите любое трехзначное число:123\n",
            "Запись числа в обратном порядке:321\n"
          ]
        }
      ]
    }
  ]
}
