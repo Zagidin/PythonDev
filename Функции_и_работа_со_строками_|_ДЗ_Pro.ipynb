{
  "nbformat": 4,
  "nbformat_minor": 0,
  "metadata": {
    "colab": {
      "provenance": [],
      "include_colab_link": true
    },
    "kernelspec": {
      "name": "python3",
      "display_name": "Python 3"
    },
    "language_info": {
      "name": "python"
    }
  },
  "cells": [
    {
      "cell_type": "markdown",
      "metadata": {
        "id": "view-in-github",
        "colab_type": "text"
      },
      "source": [
        "<a href=\"https://colab.research.google.com/github/Zagidin/PythonDev/blob/main/%D0%A4%D1%83%D0%BD%D0%BA%D1%86%D0%B8%D0%B8_%D0%B8_%D1%80%D0%B0%D0%B1%D0%BE%D1%82%D0%B0_%D1%81%D0%BE_%D1%81%D1%82%D1%80%D0%BE%D0%BA%D0%B0%D0%BC%D0%B8_%7C_%D0%94%D0%97_Pro.ipynb\" target=\"_parent\"><img src=\"https://colab.research.google.com/assets/colab-badge.svg\" alt=\"Open In Colab\"/></a>"
      ]
    },
    {
      "cell_type": "markdown",
      "source": [
        "**<h2>Задание 1**\n",
        "\n",
        "Напишите функцию info_kwargs(), которая принимает произвольное количество именованных аргументов и печатает **именованные** аргументы в соответствии с образцом: <имя аргумента>: <значение аргумента>, **при этом имена аргументов следуют в алфавитном порядке (по возрастанию)**.\n",
        "\n",
        "Примечание 1. Обратите внимание, что функция должна принимать не список, а именно произвольное количество именованных аргументов.\n",
        "\n",
        "Примечание 2. Следующий программный код:\n",
        "\n",
        "```\n",
        "info_kwargs(first_name='Михаил', last_name='Деркунов', age=36, job='Учитель')\n",
        "```\n",
        "Должен выводить:\n",
        "```\n",
        "age: 36\n",
        "first_name: Михаил\n",
        "job: Учитель\n",
        "last_name: Деркунов\n",
        "```"
      ],
      "metadata": {
        "id": "OyIKLA9dcBYI"
      }
    },
    {
      "cell_type": "code",
      "execution_count": null,
      "metadata": {
        "id": "hgIaUGoFb15E"
      },
      "outputs": [],
      "source": [
        "# Ваше решение"
      ]
    },
    {
      "cell_type": "markdown",
      "source": [
        "**<h2>Задание 2**\n",
        "\n",
        "Напишите программу, которая с помощью функций filter_nums() и map_nums() отбирает из заданного списка numbers ***трёхзначные числа***, дающие при делении на 5 остаток 2, и выводит их кубы, каждый в отдельной строке.\n",
        "\n",
        "Примечание. Остаток 2 при делении на 5 должно давать само число, а не его куб.\n",
        "\n",
        "```\n",
        "numbers = [1014, 1321, 675, 1215, 56, 1386, 1385, 431, 1058, 486, 1434, 696, 1016, 1084, 424, 1189, 475, 95, 1434, 1462, 815, 776, 657, 1225, 912, 537, 1478, 1176, 544, 488, 668, 944, 207, 266, 1309, 1027, 257, 1374, 1289, 1155, 230, 866, 708, 144, 1434, 1163, 345, 394, 560, 338, 232, 182, 1438, 1127, 928, 1309, 98, 530, 1013, 898, 669, 105, 130, 1363, 947, 72, 1278, 166, 904, 349, 831, 1207, 1496, 370, 725, 926, 175, 959, 1282, 336, 1268, 351, 1439, 186, 273, 1008, 231, 138, 142, 433, 456, 1268, 1018, 1274, 387, 120, 340, 963, 832, 1127]\n",
        "```"
      ],
      "metadata": {
        "id": "BEAR9-oNeJ4w"
      }
    },
    {
      "cell_type": "code",
      "source": [
        "numbers = [1014, 1321, 675, 1215, 56, 1386, 1385, 431, 1058, 486, 1434, 696, 1016, 1084, 424, 1189, 475, 95, 1434, 1462, 815, 776, 657, 1225, 912, 537, 1478, 1176, 544, 488, 668, 944, 207, 266, 1309, 1027, 257, 1374, 1289, 1155, 230, 866, 708, 144, 1434, 1163, 345, 394, 560, 338, 232, 182, 1438, 1127, 928, 1309, 98, 530, 1013, 898, 669, 105, 130, 1363, 947, 72, 1278, 166, 904, 349, 831, 1207, 1496, 370, 725, 926, 175, 959, 1282, 336, 1268, 351, 1439, 186, 273, 1008, 231, 138, 142, 433, 456, 1268, 1018, 1274, 387, 120, 340, 963, 832, 1127]\n",
        "# Ваше решение"
      ],
      "metadata": {
        "id": "af0up28aelZD"
      },
      "execution_count": null,
      "outputs": []
    },
    {
      "cell_type": "markdown",
      "source": [
        "**<h2>Задание 3**\n",
        "\n",
        "Напишите функцию замыкание, для решения по заданному условию, типа:\n",
        "```\n",
        "a*x^2 + b*x + c = 0\n",
        "D = b^2 - 4*a*c\n",
        "```\n",
        "Если D будет возвращать значение <=0, тогда выводить (f\"Результата не будет, потому что D = {D}\")\n",
        "\n",
        "Иначе выводить результат первого примера\n",
        "\n",
        "Примечание. Во внешнюю функцию будет поступать 3 параметра, а во внутренюю 1."
      ],
      "metadata": {
        "id": "ot6hLxIjffmX"
      }
    },
    {
      "cell_type": "code",
      "source": [
        "# Ваше решение"
      ],
      "metadata": {
        "id": "dXWUFTkxfxym"
      },
      "execution_count": null,
      "outputs": []
    },
    {
      "cell_type": "markdown",
      "source": [
        "**<h2>Задание 4**\n",
        "\n",
        "Напишите программу, которая с помощью встроенных функций filter(), map(), sorted() и reduce() выводит в алфавитном порядке список primary городов с населением более 10000000 человек, в формате:\n",
        "```\n",
        "Cities: Beijing, Buenos Aires, ...\n",
        "```\n",
        "```\n",
        "data = [['Tokyo', 35676000, 'primary'],\n",
        "        ['New York', 19354922, 'nan'],\n",
        "        ['Mexico City', 19028000, 'primary'],\n",
        "        ['Mumbai', 18978000, 'admin'],\n",
        "        ['Sao Paulo', 18845000, 'admin'],\n",
        "        ['Delhi', 15926000, 'admin'],\n",
        "        ['Shanghai', 14987000, 'admin'],\n",
        "        ['Kolkata', 14787000, 'admin'],\n",
        "        ['Los Angeles', 12815475, 'nan'],\n",
        "        ['Dhaka', 12797394, 'primary'],\n",
        "        ['Buenos Aires', 12795000, 'primary'],\n",
        "        ['Karachi', 12130000, 'admin'],\n",
        "        ['Cairo', 11893000, 'primary'],\n",
        "        ['Rio de Janeiro', 11748000, 'admin'],\n",
        "        ['Osaka', 11294000, 'admin'],\n",
        "        ['Beijing', 11106000, 'primary'],\n",
        "        ['Manila', 11100000, 'primary'],\n",
        "        ['Moscow', 10452000, 'primary'],\n",
        "        ['Istanbul', 10061000, 'admin'],\n",
        "        ['Paris', 9904000, 'primary']]\n",
        "```"
      ],
      "metadata": {
        "id": "1ka5b6Xaf801"
      }
    },
    {
      "cell_type": "code",
      "source": [
        "from functools import reduce\n",
        "\n",
        "data = [['Tokyo', 35676000, 'primary'],\n",
        "        ['New York', 19354922, 'nan'],\n",
        "        ['Mexico City', 19028000, 'primary'],\n",
        "        ['Mumbai', 18978000, 'admin'],\n",
        "        ['Sao Paulo', 18845000, 'admin'],\n",
        "        ['Delhi', 15926000, 'admin'],\n",
        "        ['Shanghai', 14987000, 'admin'],\n",
        "        ['Kolkata', 14787000, 'admin'],\n",
        "        ['Los Angeles', 12815475, 'nan'],\n",
        "        ['Dhaka', 12797394, 'primary'],\n",
        "        ['Buenos Aires', 12795000, 'primary'],\n",
        "        ['Karachi', 12130000, 'admin'],\n",
        "        ['Cairo', 11893000, 'primary'],\n",
        "        ['Rio de Janeiro', 11748000, 'admin'],\n",
        "        ['Osaka', 11294000, 'admin'],\n",
        "        ['Beijing', 11106000, 'primary'],\n",
        "        ['Manila', 11100000, 'primary'],\n",
        "        ['Moscow', 10452000, 'primary'],\n",
        "        ['Istanbul', 10061000, 'admin'],\n",
        "        ['Paris', 9904000, 'primary']]\n",
        "\n",
        "# Ваше решение"
      ],
      "metadata": {
        "id": "g6GlvYFcgyDA"
      },
      "execution_count": null,
      "outputs": []
    },
    {
      "cell_type": "markdown",
      "source": [
        "**<h2>Задание 5**\n",
        "\n",
        "Напишите функцию, чтобы проверить, является ли строка действительным адресом электронной почты или нет.Электронное письмо представляет собой символ (подмножество символов ASCII), разделенный на две части символом @, «personal_info» и доменом, то есть Personal_info@domain.\n",
        "\n",
        "Примечание. В функции должно быть использоваться регулярное выражение"
      ],
      "metadata": {
        "id": "2yLzaKMbhey2"
      }
    },
    {
      "cell_type": "code",
      "source": [
        "# Ваше решение"
      ],
      "metadata": {
        "id": "PS7_dHBxiIT2"
      },
      "execution_count": null,
      "outputs": []
    }
  ]
}