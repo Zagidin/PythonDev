{
  "nbformat": 4,
  "nbformat_minor": 0,
  "metadata": {
    "colab": {
      "provenance": [],
      "include_colab_link": true
    },
    "kernelspec": {
      "name": "python3",
      "display_name": "Python 3"
    },
    "language_info": {
      "name": "python"
    }
  },
  "cells": [
    {
      "cell_type": "markdown",
      "metadata": {
        "id": "view-in-github",
        "colab_type": "text"
      },
      "source": [
        "<a href=\"https://colab.research.google.com/github/Zagidin/PythonDev/blob/main/%D0%A2%D0%B5%D0%BC%D0%B0_3_%D0%97%D0%B0%D0%BC%D1%8B%D0%BA%D0%B0%D0%BD%D0%B8%D1%8F_%D0%B8_%D0%B4%D0%B5%D0%BA%D0%BE%D1%80%D0%B0%D1%82%D0%BE%D1%80%D1%8B.ipynb\" target=\"_parent\"><img src=\"https://colab.research.google.com/assets/colab-badge.svg\" alt=\"Open In Colab\"/></a>"
      ]
    },
    {
      "cell_type": "markdown",
      "source": [
        "## Замыкания"
      ],
      "metadata": {
        "id": "ZgKalh37BgFT"
      }
    },
    {
      "cell_type": "markdown",
      "source": [
        "Замыкания — это функция, которая запоминает значения из своей внешней области видимости, даже если эта область уже недоступна. Она создается, когда функция объявляется, и продолжает запоминать значения переменных даже после того, как вызывающая функция завершит свою работу.Этот инструмент позволяет сохранять значения и состояние между вызовами функций, создавать функции на лету и возвращать их из других функций.\n",
        "\n",
        "- Функция, которая находится внутри другой функции и ссылается на переменные объявленные в теле внешней функции (свободные переменные).\n",
        "\n",
        "- Внутренняя функция создается каждый раз во время выполнения внешней. Каждый раз при вызове внешней функции происходит создание нового экземпляра внутренней функции, с новыми ссылками на переменные внешней функции.\n",
        "\n",
        "- Ссылки на переменные внешней функции действительны внутри вложенной функции до тех пор, пока работает вложенная функция, даже если внешняя функция закончила работу, и переменные вышли из области видимости."
      ],
      "metadata": {
        "id": "y8z80au3CFkX"
      }
    },
    {
      "cell_type": "markdown",
      "source": [
        "Формула из школьной математики:\n",
        "a*x^2 + b*x + c = 0"
      ],
      "metadata": {
        "id": "RIy4HtTJCsS4"
      }
    },
    {
      "cell_type": "code",
      "execution_count": null,
      "metadata": {
        "id": "rARF24n3BZLq"
      },
      "outputs": [],
      "source": [
        "def multiply(a: int | float, b: int | float, c: int | float):\n",
        "    def inner(x: int | float):\n",
        "        return a*x**2 + b*x + c\n",
        "    return inner"
      ]
    },
    {
      "cell_type": "code",
      "source": [
        "print( (2*3**2)+(2*3)+2 )"
      ],
      "metadata": {
        "colab": {
          "base_uri": "https://localhost:8080/"
        },
        "id": "N3uBk9DDDDl5",
        "outputId": "884cb120-536a-43c3-8156-46ea2a942931"
      },
      "execution_count": null,
      "outputs": [
        {
          "output_type": "stream",
          "name": "stdout",
          "text": [
            "26\n"
          ]
        }
      ]
    },
    {
      "cell_type": "code",
      "source": [
        "evaluate = multiply(2,2,2)\n",
        "result = evaluate(3)\n",
        "print(result)"
      ],
      "metadata": {
        "colab": {
          "base_uri": "https://localhost:8080/"
        },
        "id": "zEfyjdADDQgG",
        "outputId": "1fbd80bb-ac4d-4e03-d45c-f9c139f90ca0"
      },
      "execution_count": null,
      "outputs": [
        {
          "output_type": "stream",
          "name": "stdout",
          "text": [
            "26\n"
          ]
        }
      ]
    },
    {
      "cell_type": "code",
      "source": [
        "multiply(2,2,2)(3)"
      ],
      "metadata": {
        "colab": {
          "base_uri": "https://localhost:8080/"
        },
        "id": "yMW7VFDMVxjC",
        "outputId": "3a009017-1824-4d7f-ee5c-69ce71d655a1"
      },
      "execution_count": null,
      "outputs": [
        {
          "output_type": "execute_result",
          "data": {
            "text/plain": [
              "26"
            ]
          },
          "metadata": {},
          "execution_count": 6
        }
      ]
    },
    {
      "cell_type": "markdown",
      "source": [
        "Пример замыкания с несколькими свободными переменными:"
      ],
      "metadata": {
        "id": "f-1XzRDrDq3X"
      }
    },
    {
      "cell_type": "code",
      "source": [
        "def func_outer():\n",
        "    a = 1\n",
        "    b = 'line'\n",
        "    c = [1, 2, 3]\n",
        "\n",
        "    def func_inner():\n",
        "        return a, b, c\n",
        "\n",
        "    return func_inner\n",
        "\n",
        "call_func = func_outer()\n",
        "\n",
        "print(call_func)  # <function func1.<locals>.func2 at 0x7bbc21e37be0>"
      ],
      "metadata": {
        "colab": {
          "base_uri": "https://localhost:8080/"
        },
        "id": "Npo__R5zDptq",
        "outputId": "f13d9181-7b66-474f-8c6a-e96e52c3de0e"
      },
      "execution_count": null,
      "outputs": [
        {
          "output_type": "stream",
          "name": "stdout",
          "text": [
            "<function func_outer.<locals>.func_inner at 0x791042f11c60>\n"
          ]
        }
      ]
    },
    {
      "cell_type": "code",
      "source": [
        "call_func.__closure__"
      ],
      "metadata": {
        "colab": {
          "base_uri": "https://localhost:8080/"
        },
        "id": "eQ8EAOohEHMI",
        "outputId": "14a88270-b491-458f-9ed3-f5067e513286"
      },
      "execution_count": null,
      "outputs": [
        {
          "output_type": "execute_result",
          "data": {
            "text/plain": [
              "(<cell at 0x791066d0a680: int object at 0x7910811b80f0>,\n",
              " <cell at 0x791066d0add0: str object at 0x7910810789b0>,\n",
              " <cell at 0x791066d0a9b0: list object at 0x7910435d3c00>)"
            ]
          },
          "metadata": {},
          "execution_count": 10
        }
      ]
    },
    {
      "cell_type": "code",
      "source": [
        "cfc = call_func.__closure__\n",
        "\n",
        "for item in cfc:\n",
        "    print(item, \" - \", item.cell_contents)"
      ],
      "metadata": {
        "colab": {
          "base_uri": "https://localhost:8080/"
        },
        "id": "kp93TeRLEBK-",
        "outputId": "1c5630ee-e6a3-401d-a8e4-1a8be05bb2f5"
      },
      "execution_count": null,
      "outputs": [
        {
          "output_type": "stream",
          "name": "stdout",
          "text": [
            "<cell at 0x791066d0a680: int object at 0x7910811b80f0>  -  1\n",
            "<cell at 0x791066d0add0: str object at 0x7910810789b0>  -  line\n",
            "<cell at 0x791066d0a9b0: list object at 0x7910435d3c00>  -  [1, 2, 3]\n"
          ]
        }
      ]
    },
    {
      "cell_type": "markdown",
      "source": [
        "#### Изменение свободных переменных\n",
        "Для получения значения свободной переменной достаточно обратиться к ней, однако, при изменении значений есть нюансы. Если переменная ссылается на изменяемый объект, например, список, изменение содержимого делается стандартным образом без каких-либо проблем. Однако если необходимо, к примеру, добавить 1 к числу, мы получим ошибку"
      ],
      "metadata": {
        "id": "Ivtoz2SYEhf7"
      }
    },
    {
      "cell_type": "code",
      "source": [
        "def func1():\n",
        "    a = 1\n",
        "    b = 'line'\n",
        "    c = [1, 2, 3]\n",
        "\n",
        "    def func2():\n",
        "        c.append(4)\n",
        "        a = a + 1\n",
        "        return a, b, c\n",
        "\n",
        "    return func2\n",
        "\n",
        "\n",
        "call_func = func1()\n",
        "\n",
        "call_func()"
      ],
      "metadata": {
        "colab": {
          "base_uri": "https://localhost:8080/",
          "height": 297
        },
        "id": "rNpVM2AfEd_f",
        "outputId": "12bffeb7-de05-4fa8-caf6-2d0e25d51e13"
      },
      "execution_count": null,
      "outputs": [
        {
          "output_type": "error",
          "ename": "UnboundLocalError",
          "evalue": "local variable 'a' referenced before assignment",
          "traceback": [
            "\u001b[0;31m---------------------------------------------------------------------------\u001b[0m",
            "\u001b[0;31mUnboundLocalError\u001b[0m                         Traceback (most recent call last)",
            "\u001b[0;32m<ipython-input-12-7548bb8feced>\u001b[0m in \u001b[0;36m<cell line: 16>\u001b[0;34m()\u001b[0m\n\u001b[1;32m     14\u001b[0m \u001b[0mcall_func\u001b[0m \u001b[0;34m=\u001b[0m \u001b[0mfunc1\u001b[0m\u001b[0;34m(\u001b[0m\u001b[0;34m)\u001b[0m\u001b[0;34m\u001b[0m\u001b[0;34m\u001b[0m\u001b[0m\n\u001b[1;32m     15\u001b[0m \u001b[0;34m\u001b[0m\u001b[0m\n\u001b[0;32m---> 16\u001b[0;31m \u001b[0mcall_func\u001b[0m\u001b[0;34m(\u001b[0m\u001b[0;34m)\u001b[0m\u001b[0;34m\u001b[0m\u001b[0;34m\u001b[0m\u001b[0m\n\u001b[0m",
            "\u001b[0;32m<ipython-input-12-7548bb8feced>\u001b[0m in \u001b[0;36mfunc2\u001b[0;34m()\u001b[0m\n\u001b[1;32m      6\u001b[0m     \u001b[0;32mdef\u001b[0m \u001b[0mfunc2\u001b[0m\u001b[0;34m(\u001b[0m\u001b[0;34m)\u001b[0m\u001b[0;34m:\u001b[0m\u001b[0;34m\u001b[0m\u001b[0;34m\u001b[0m\u001b[0m\n\u001b[1;32m      7\u001b[0m         \u001b[0mc\u001b[0m\u001b[0;34m.\u001b[0m\u001b[0mappend\u001b[0m\u001b[0;34m(\u001b[0m\u001b[0;36m4\u001b[0m\u001b[0;34m)\u001b[0m\u001b[0;34m\u001b[0m\u001b[0;34m\u001b[0m\u001b[0m\n\u001b[0;32m----> 8\u001b[0;31m         \u001b[0ma\u001b[0m \u001b[0;34m=\u001b[0m \u001b[0ma\u001b[0m \u001b[0;34m+\u001b[0m \u001b[0;36m1\u001b[0m\u001b[0;34m\u001b[0m\u001b[0;34m\u001b[0m\u001b[0m\n\u001b[0m\u001b[1;32m      9\u001b[0m         \u001b[0;32mreturn\u001b[0m \u001b[0ma\u001b[0m\u001b[0;34m,\u001b[0m \u001b[0mb\u001b[0m\u001b[0;34m,\u001b[0m \u001b[0mc\u001b[0m\u001b[0;34m\u001b[0m\u001b[0;34m\u001b[0m\u001b[0m\n\u001b[1;32m     10\u001b[0m \u001b[0;34m\u001b[0m\u001b[0m\n",
            "\u001b[0;31mUnboundLocalError\u001b[0m: local variable 'a' referenced before assignment"
          ]
        }
      ]
    },
    {
      "cell_type": "markdown",
      "source": [
        "Если необходимо присвоить свободной переменной другое значение, необходимо явно объявить ее как nonlocal"
      ],
      "metadata": {
        "id": "nyjpkRvCE9UI"
      }
    },
    {
      "cell_type": "code",
      "source": [
        "def func1():\n",
        "    a = 1\n",
        "    b = 'line'\n",
        "    c = [1, 2, 3]\n",
        "\n",
        "    def func2():\n",
        "        nonlocal a\n",
        "        c.append(4)\n",
        "        a += 1\n",
        "        return a, b, c\n",
        "\n",
        "    return func2\n",
        "\n",
        "\n",
        "call_func = func1()\n",
        "\n",
        "call_func()"
      ],
      "metadata": {
        "id": "jHTuAtq1E-Ko",
        "colab": {
          "base_uri": "https://localhost:8080/"
        },
        "outputId": "ea6b10da-2bc8-4925-8b8b-91fc2dd5d956"
      },
      "execution_count": null,
      "outputs": [
        {
          "output_type": "execute_result",
          "data": {
            "text/plain": [
              "(2, 'line', [1, 2, 3, 4])"
            ]
          },
          "metadata": {},
          "execution_count": 13
        }
      ]
    },
    {
      "cell_type": "code",
      "source": [
        "cfc = call_func.__closure__\n",
        "for item in cfc:\n",
        "    print(item, item.cell_contents)"
      ],
      "metadata": {
        "colab": {
          "base_uri": "https://localhost:8080/"
        },
        "id": "CYBd6wUSFBPa",
        "outputId": "7cd27477-b168-4cb5-c99e-c245609ebaed"
      },
      "execution_count": null,
      "outputs": [
        {
          "output_type": "stream",
          "name": "stdout",
          "text": [
            "<cell at 0x791066d0a410: int object at 0x7910811b8110> 2\n",
            "<cell at 0x791066d0a4d0: str object at 0x7910810789b0> line\n",
            "<cell at 0x791066d0a8f0: list object at 0x791074731d40> [1, 2, 3, 4]\n"
          ]
        }
      ]
    },
    {
      "cell_type": "markdown",
      "source": [
        "Пример использования nonlocal с повторным вызовом внутренней функции:"
      ],
      "metadata": {
        "id": "7VbaC8ZIFwFu"
      }
    },
    {
      "cell_type": "code",
      "source": [
        "def countdown(n):\n",
        "    def step():\n",
        "        nonlocal n\n",
        "        r = n\n",
        "        n -= 1\n",
        "        return r\n",
        "    return step\n",
        "\n",
        "do_step = countdown(10)\n",
        "\n",
        "for _ in range(10):\n",
        "    print(do_step())"
      ],
      "metadata": {
        "colab": {
          "base_uri": "https://localhost:8080/"
        },
        "id": "lFN41HYKFwrw",
        "outputId": "48d93649-58d9-4bec-82d1-22e93f469566"
      },
      "execution_count": null,
      "outputs": [
        {
          "output_type": "stream",
          "name": "stdout",
          "text": [
            "10\n",
            "9\n",
            "8\n",
            "7\n",
            "6\n",
            "5\n",
            "4\n",
            "3\n",
            "2\n",
            "1\n"
          ]
        }
      ]
    },
    {
      "cell_type": "markdown",
      "source": [
        "## Декораторы"
      ],
      "metadata": {
        "id": "CRbkA-reBlOz"
      }
    },
    {
      "cell_type": "markdown",
      "source": [
        "Позволяет модифицировать поведение функций или классов, без изменения исходного кода, основной синтаксис:"
      ],
      "metadata": {
        "id": "K6sMRTmwWKUX"
      }
    },
    {
      "cell_type": "code",
      "source": [
        "def my_decorator(func):\n",
        "    def wrapper():\n",
        "        print(\"До вызова\")\n",
        "        func()\n",
        "        print(\"После вызова\")\n",
        "    return wrapper\n",
        "\n",
        "\n",
        "@my_decorator\n",
        "def my_func():\n",
        "    print(\"Основная функция\")"
      ],
      "metadata": {
        "id": "neBfwuU9unAN"
      },
      "execution_count": null,
      "outputs": []
    },
    {
      "cell_type": "code",
      "source": [
        "my_func()"
      ],
      "metadata": {
        "colab": {
          "base_uri": "https://localhost:8080/"
        },
        "id": "qoHyM8-FvFil",
        "outputId": "cb9e8488-cfe9-418d-c8cc-e9fb611974c5"
      },
      "execution_count": null,
      "outputs": [
        {
          "output_type": "stream",
          "name": "stdout",
          "text": [
            "До вызова\n",
            "Основная функция\n",
            "После вызова\n"
          ]
        }
      ]
    },
    {
      "cell_type": "markdown",
      "source": [
        "#### Универсальный декоратор"
      ],
      "metadata": {
        "id": "XoR1iHKawC3a"
      }
    },
    {
      "cell_type": "code",
      "source": [
        "def universal_decorator(func):\n",
        "    def wrapper(*args, **kwargs):\n",
        "        print(f\"Вызов функции, {func.__name__}\")\n",
        "        print(f\"Аргументы: {args}\")\n",
        "        print(f\"Ключевые аргументы: {kwargs}\")\n",
        "\n",
        "        result = func(*args, **kwargs)\n",
        "\n",
        "        print(f\"Результат: {result}\")\n",
        "\n",
        "        return result\n",
        "    return wrapper"
      ],
      "metadata": {
        "id": "I_J-VDhJwGvn"
      },
      "execution_count": null,
      "outputs": []
    },
    {
      "cell_type": "code",
      "source": [
        "@universal_decorator\n",
        "def multiply(a: int, b: int) -> int:\n",
        "    return a * b"
      ],
      "metadata": {
        "id": "YrU2y8xFw2-Y"
      },
      "execution_count": null,
      "outputs": []
    },
    {
      "cell_type": "code",
      "source": [
        "result = multiply(3, 5)"
      ],
      "metadata": {
        "colab": {
          "base_uri": "https://localhost:8080/"
        },
        "id": "ehSDVxLdxJFN",
        "outputId": "7e943b6e-531c-4a03-d2a9-9fdf151a42dd"
      },
      "execution_count": null,
      "outputs": [
        {
          "output_type": "stream",
          "name": "stdout",
          "text": [
            "Вызов функции, multiply\n",
            "Аргументы: (3, 5)\n",
            "Ключевые аргументы: {}\n",
            "Результат: 15\n"
          ]
        }
      ]
    },
    {
      "cell_type": "code",
      "source": [
        "@universal_decorator\n",
        "def dict_add(**kwargs) -> dict:\n",
        "    return dict(kwargs)"
      ],
      "metadata": {
        "id": "wGngxWhwxdCa"
      },
      "execution_count": null,
      "outputs": []
    },
    {
      "cell_type": "code",
      "source": [
        "result = dict_add(a=5, b=3, c=10)"
      ],
      "metadata": {
        "colab": {
          "base_uri": "https://localhost:8080/"
        },
        "id": "PFGp8eUgx08u",
        "outputId": "6685eece-cc51-4d85-947e-9b43b91fd5b0"
      },
      "execution_count": null,
      "outputs": [
        {
          "output_type": "stream",
          "name": "stdout",
          "text": [
            "Вызов функции, dict_add\n",
            "Аргументы: ()\n",
            "Ключевые аргументы: {'a': 5, 'b': 3, 'c': 10}\n",
            "Результат: {'a': 5, 'b': 3, 'c': 10}\n"
          ]
        }
      ]
    },
    {
      "cell_type": "markdown",
      "source": [
        "* К функции может применяться несколько декораторов. Порядок применения декораторов будет зависеть от того в каком порядке они записаны:"
      ],
      "metadata": {
        "id": "vQwGmX6OzEjG"
      }
    },
    {
      "cell_type": "code",
      "source": [
        "def stars(func):\n",
        "    def wrapper(*args, **kwargs):\n",
        "        print('*'*30)\n",
        "        return func(*args, **kwargs)\n",
        "    return wrapper\n",
        "\n",
        "\n",
        "def lines(func):\n",
        "    def wrapper(*args, **kwargs):\n",
        "        print('-'*30)\n",
        "        return func(*args, **kwargs)\n",
        "    return wrapper\n",
        "\n",
        "\n",
        "def equals(func):\n",
        "    def wrapper(*args, **kwargs):\n",
        "        print('='*30)\n",
        "        return func(*args, **kwargs)\n",
        "    return wrapper\n",
        "\n",
        "\n",
        "@stars\n",
        "@lines\n",
        "@equals\n",
        "def func(a, b):\n",
        "    return a + b\n",
        "\n",
        "func(3, 5)"
      ],
      "metadata": {
        "colab": {
          "base_uri": "https://localhost:8080/"
        },
        "id": "e819G6Kpywny",
        "outputId": "91439684-3fc4-4b51-c7eb-9e9239edcc6a"
      },
      "execution_count": null,
      "outputs": [
        {
          "output_type": "stream",
          "name": "stdout",
          "text": [
            "******************************\n",
            "------------------------------\n",
            "==============================\n"
          ]
        },
        {
          "output_type": "execute_result",
          "data": {
            "text/plain": [
              "8"
            ]
          },
          "metadata": {},
          "execution_count": 23
        }
      ]
    },
    {
      "cell_type": "markdown",
      "source": [
        "Иногда необходимо чтобы у декоратора была возможность принимать аргументы. В таком случае надо добавить еще один уровень вложенности для декоратора.\n",
        "\n",
        "Самый базовый вариант декоратора с аргументами, когда функция не подменяется и аргументы функции не перехватываются. Тут к функции только добавляются атрибуты, которые указаны при вызове декоратора:"
      ],
      "metadata": {
        "id": "rdT3bjIj0S_Y"
      }
    },
    {
      "cell_type": "code",
      "source": [
        "def add_mark(**kwargs):\n",
        "    def decorator(func):\n",
        "        for key, value in kwargs.items():\n",
        "            setattr(func, key, value)\n",
        "        return func\n",
        "    return decorator\n",
        "\n",
        "\n",
        "@add_mark(test=False, ordered=True)\n",
        "def test_function(a, b):\n",
        "    return a + b"
      ],
      "metadata": {
        "id": "ipsn5cZE0UCi"
      },
      "execution_count": null,
      "outputs": []
    },
    {
      "cell_type": "code",
      "source": [
        "test_function(3,5)"
      ],
      "metadata": {
        "colab": {
          "base_uri": "https://localhost:8080/"
        },
        "id": "2YR-mWCq0eoG",
        "outputId": "6a89765f-e698-4c00-8709-ade5bf048403"
      },
      "execution_count": null,
      "outputs": [
        {
          "output_type": "execute_result",
          "data": {
            "text/plain": [
              "8"
            ]
          },
          "metadata": {},
          "execution_count": 25
        }
      ]
    },
    {
      "cell_type": "code",
      "source": [
        "test_function.ordered"
      ],
      "metadata": {
        "colab": {
          "base_uri": "https://localhost:8080/"
        },
        "id": "XVUixKjg0j5d",
        "outputId": "46f8e535-0dd8-4bdf-cc06-27bb47e09c51"
      },
      "execution_count": null,
      "outputs": [
        {
          "output_type": "execute_result",
          "data": {
            "text/plain": [
              "True"
            ]
          },
          "metadata": {},
          "execution_count": 26
        }
      ]
    },
    {
      "cell_type": "code",
      "source": [
        "test_function.test"
      ],
      "metadata": {
        "colab": {
          "base_uri": "https://localhost:8080/"
        },
        "id": "-RuRr1z30umV",
        "outputId": "1b2e8505-e32f-4986-a8a4-90a072fa7a01"
      },
      "execution_count": null,
      "outputs": [
        {
          "output_type": "execute_result",
          "data": {
            "text/plain": [
              "False"
            ]
          },
          "metadata": {},
          "execution_count": 27
        }
      ]
    },
    {
      "cell_type": "markdown",
      "source": [
        "#### Декораторы в стандартной библиотеке (Часто используемые)"
      ],
      "metadata": {
        "id": "G7ylcKwM1yiL"
      }
    },
    {
      "cell_type": "markdown",
      "source": [
        "1) **@property** и @<<attribute>>.setter - используется для определения свойств класса, которые контролируют доступ к атрибутам объектов\n",
        "\n",
        "2) **@staticmethod** - для объявления статического метода в классе\n",
        "\n",
        "3) **@classmethod** - для оъявления метода класса, первый аргумент (cls), а не экземпляр класса (self)\n",
        "\n",
        "4) **@abstractmethod** - используется в абстрактных классах (наследуемых от ABC: **from abc import ABC, abstractmethod**), для создания абстрактных методов\n",
        "\n",
        "5) **@lru_cache(maxsize=None)** - предоставляет механизм кеширования результатов функций, используя механизм \"Least Recently Used\"(LRU) для ограничения размера кеша\n",
        "\n",
        "6) **@total_ordering** - позволяет автоматически генерировать методы стравнения (к примеру __eq __, __ lt __, __ le __ и т.д.) на основе определенных методов сравнения"
      ],
      "metadata": {
        "id": "0jkh1OF-17zw"
      }
    },
    {
      "cell_type": "markdown",
      "source": [
        "Пример сравнения:"
      ],
      "metadata": {
        "id": "tFOepul74ERM"
      }
    },
    {
      "cell_type": "code",
      "source": [
        "from functools import total_ordering\n",
        "\n",
        "# Декорируем класс\n",
        "@total_ordering\n",
        "class Student:\n",
        "    def __init__(self, name, age):\n",
        "        self.name = name\n",
        "        self.grade = age\n",
        "\n",
        "    # обязательно эти два метода\n",
        "    def __eq__(self, other):\n",
        "        return self.grade == other.grade\n",
        "\n",
        "    def __lt__(self, other):\n",
        "        return self.grade > other.grade"
      ],
      "metadata": {
        "id": "g2q9CIEF1MLS"
      },
      "execution_count": null,
      "outputs": []
    },
    {
      "cell_type": "code",
      "source": [
        "st1 = Student(\"Mikhail\", 36)\n",
        "st2 = Student(\"Sergey\", 40)\n",
        "st3 = Student(\"Oleg\", 36)"
      ],
      "metadata": {
        "id": "1LwTU6ds5FtR"
      },
      "execution_count": null,
      "outputs": []
    },
    {
      "cell_type": "code",
      "source": [
        "print(st1 < st2)\n",
        "print(st1 > st2)\n",
        "print(st1 == st3)\n",
        "print(st1 <= st3)\n",
        "print(st3 >= st2)"
      ],
      "metadata": {
        "colab": {
          "base_uri": "https://localhost:8080/"
        },
        "id": "QLrbykuZ5YCg",
        "outputId": "03b1889a-45dd-4ebe-a37a-f5f93e32f5e1"
      },
      "execution_count": null,
      "outputs": [
        {
          "output_type": "stream",
          "name": "stdout",
          "text": [
            "False\n",
            "True\n",
            "True\n",
            "True\n",
            "True\n"
          ]
        }
      ]
    },
    {
      "cell_type": "markdown",
      "source": [
        "Самый простой способ последующего ускорения работы функции"
      ],
      "metadata": {
        "id": "_d329XTo5zbr"
      }
    },
    {
      "cell_type": "code",
      "source": [
        "from functools import lru_cache\n",
        "\n",
        "# maxsize=128 - int, максимальный размер кеша (128 по умолчанию)\n",
        "@lru_cache(maxsize=16)\n",
        "def fibonacci(n):\n",
        "    if n < 2:\n",
        "        return n\n",
        "    return fibonacci(n-1) + fibonacci(n-2)"
      ],
      "metadata": {
        "id": "BlXdJsSg55lQ"
      },
      "execution_count": null,
      "outputs": []
    },
    {
      "cell_type": "code",
      "source": [
        "%%time\n",
        "fibonacci(250)"
      ],
      "metadata": {
        "colab": {
          "base_uri": "https://localhost:8080/"
        },
        "id": "2WAXL11e79Qy",
        "outputId": "edaa3dd8-01a0-43fd-a961-0986a07d1966"
      },
      "execution_count": null,
      "outputs": [
        {
          "output_type": "stream",
          "name": "stdout",
          "text": [
            "CPU times: user 444 µs, sys: 55 µs, total: 499 µs\n",
            "Wall time: 505 µs\n"
          ]
        },
        {
          "output_type": "execute_result",
          "data": {
            "text/plain": [
              "7896325826131730509282738943634332893686268675876375"
            ]
          },
          "metadata": {},
          "execution_count": 32
        }
      ]
    },
    {
      "cell_type": "code",
      "source": [
        "%%time\n",
        "fibonacci(250)"
      ],
      "metadata": {
        "colab": {
          "base_uri": "https://localhost:8080/"
        },
        "id": "UFahyOd68HOf",
        "outputId": "07df0de6-2ed1-4fa0-c659-2a84a0f0792b"
      },
      "execution_count": null,
      "outputs": [
        {
          "output_type": "stream",
          "name": "stdout",
          "text": [
            "CPU times: user 6 µs, sys: 1 µs, total: 7 µs\n",
            "Wall time: 9.78 µs\n"
          ]
        },
        {
          "output_type": "execute_result",
          "data": {
            "text/plain": [
              "7896325826131730509282738943634332893686268675876375"
            ]
          },
          "metadata": {},
          "execution_count": 33
        }
      ]
    },
    {
      "cell_type": "markdown",
      "source": [
        "## Дополнительные материалы"
      ],
      "metadata": {
        "id": "NiZvo3JI8WYg"
      }
    },
    {
      "cell_type": "markdown",
      "source": [
        "<div class=\"markdown-google-sans\">\n",
        "  <h2>Примеры декораторов</h2>\n",
        "</div>\n",
        "\n",
        "<div class=\"markdown-google-sans\">\n",
        "    <li><a href=\"https://github.com/carlmontanari/scrapli/blob/master/scrapli/decorators.py#L193\">scrapli ChannelTimeout</a></li>\n",
        "</div>\n",
        "\n",
        "<div class=\"markdown-google-sans\">\n",
        "    <li><a href=\"https://github.com/pallets/click/blob/main/src/click/decorators.py\">click</a></li>\n",
        "</div>\n",
        "\n",
        "<div class=\"markdown-google-sans\">\n",
        "    <li><a href=\"https://github.com/litl/backoff/blob/master/backoff/_decorator.py\">backoff</a></li>\n",
        "</div>\n",
        "\n",
        "<div class=\"markdown-google-sans\">\n",
        "    <li><a href=\"https://github.com/python/cpython/blob/3.10/Lib/functools.py#L479\">functools.lru_cache</a></li>\n",
        "</div>\n",
        "\n",
        "<div class=\"markdown-google-sans\">\n",
        "    <li><a href=\"https://github.com/python/cpython/blob/3.10/Lib/dataclasses.py#L1150\">dataclasses.dataclass</a></li>\n",
        "</div>\n",
        "\n",
        "\n",
        "<div class=\"markdown-google-sans\">\n",
        "  <h2>Ссылки</h2>\n",
        "</div>\n",
        "\n",
        "<div class=\"markdown-google-sans\">\n",
        "    <li><a href=\"https://wiki.python.org/moin/PythonDecoratorLibrary\">Примеры и идеи декораторов</a></li>\n",
        "</div>\n",
        "\n",
        "<div class=\"markdown-google-sans\">\n",
        "    <li><a href=\"https://realpython.com/primer-on-python-decorators\">Primer on Python Decorators</a></li>\n",
        "</div>"
      ],
      "metadata": {
        "id": "XFLTox7n8abs"
      }
    }
  ]
}