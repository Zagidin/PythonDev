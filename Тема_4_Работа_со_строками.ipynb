{
  "nbformat": 4,
  "nbformat_minor": 0,
  "metadata": {
    "colab": {
      "provenance": [],
      "include_colab_link": true
    },
    "kernelspec": {
      "name": "python3",
      "display_name": "Python 3"
    },
    "language_info": {
      "name": "python"
    }
  },
  "cells": [
    {
      "cell_type": "markdown",
      "metadata": {
        "id": "view-in-github",
        "colab_type": "text"
      },
      "source": [
        "<a href=\"https://colab.research.google.com/github/Zagidin/PythonDev/blob/main/%D0%A2%D0%B5%D0%BC%D0%B0_4_%D0%A0%D0%B0%D0%B1%D0%BE%D1%82%D0%B0_%D1%81%D0%BE_%D1%81%D1%82%D1%80%D0%BE%D0%BA%D0%B0%D0%BC%D0%B8.ipynb\" target=\"_parent\"><img src=\"https://colab.research.google.com/assets/colab-badge.svg\" alt=\"Open In Colab\"/></a>"
      ]
    },
    {
      "cell_type": "markdown",
      "source": [
        "**<h1>Работа со строками**"
      ],
      "metadata": {
        "id": "5p6C_vIwSngW"
      }
    },
    {
      "cell_type": "markdown",
      "source": [
        "Строка представляет последовательность символов в кодировке Unicode, заключенных в кавычки. Причем для определения строк Python позволяет использовать как одинарные, так и двойные кавычики:"
      ],
      "metadata": {
        "id": "goSOA8i3Svj2"
      }
    },
    {
      "cell_type": "code",
      "source": [
        "message = \"Привет студент\"\n",
        "print(message)  # Привет студент\n",
        "\n",
        "name = 'Михаил'\n",
        "print(name)  # Михаил"
      ],
      "metadata": {
        "colab": {
          "base_uri": "https://localhost:8080/"
        },
        "id": "nMRpQWdjS3JW",
        "outputId": "90841fc8-4f30-48e7-e2d2-48e0c1ec9494"
      },
      "execution_count": null,
      "outputs": [
        {
          "output_type": "stream",
          "name": "stdout",
          "text": [
            "Привет студент\n",
            "Михаил\n"
          ]
        }
      ]
    },
    {
      "cell_type": "markdown",
      "source": [
        "Если строка длинная, ее можно разбить на части и разместить их на разных строках кода. В этом случае вся строка заключается в круглые скобки, а ее отдельные части - в кавычки:"
      ],
      "metadata": {
        "id": "2zsErXQNTBRI"
      }
    },
    {
      "cell_type": "code",
      "source": [
        "text = (\"Учиться, учиться\"\n",
        "        \" и еще раз учиться!\")\n",
        "print(text)"
      ],
      "metadata": {
        "colab": {
          "base_uri": "https://localhost:8080/"
        },
        "id": "D0Az-UhlTENq",
        "outputId": "192e469a-e953-4cc5-f4f1-abac948c7c94"
      },
      "execution_count": null,
      "outputs": [
        {
          "output_type": "stream",
          "name": "stdout",
          "text": [
            "Учиться, учиться и еще раз учиться!\n"
          ]
        }
      ]
    },
    {
      "cell_type": "markdown",
      "source": [
        "Если же мы хотим определить многострочный текст, то такой текст заключается в тройные двойные или одинарные кавычки:"
      ],
      "metadata": {
        "id": "aNcxV00ZTYwe"
      }
    },
    {
      "cell_type": "code",
      "source": [
        "'''\n",
        "Это комментарий\n",
        "'''\n",
        "text = '''Славьте все народы\n",
        "Великолепный в веках\n",
        "И восхваляй мою душу\n",
        "Великолепный в веках\n",
        "'''\n",
        "print(text)"
      ],
      "metadata": {
        "colab": {
          "base_uri": "https://localhost:8080/"
        },
        "id": "rXIPE-YATbJH",
        "outputId": "edc0e412-f632-4158-e6ee-90ac50ef6baa"
      },
      "execution_count": null,
      "outputs": [
        {
          "output_type": "stream",
          "name": "stdout",
          "text": [
            "Славьте все народы\n",
            "Великолепный в веках\n",
            "И восхваляй мою душу\n",
            "Великолепный в веках\n",
            "\n"
          ]
        }
      ]
    },
    {
      "cell_type": "markdown",
      "source": [
        "***При использовани тройных одинарных кавычек не стоит путать их с комментариями***: если текст в тройных одинарных кавычках присваивается переменной, то это строка, а не комментарий.\n",
        "\n",
        "**<h3>Управляющие последовательности в строке**\n",
        "\n",
        "Строка может содержать ряд специальных символов - управляющих последовательностей или escape-последовательности. Некоторые из них:\n",
        "\n",
        "\\ \\\\: позволяет добавить внутрь строки слеш\n",
        "\n",
        "\\\\': позволяет добавить внутрь строки одинарную кавычку\n",
        "\n",
        "\\\\\": позволяет добавить внутрь строки двойную кавычку\n",
        "\n",
        "\\\\n: осуществляет переход на новую строку\n",
        "\n",
        "\\t: добавляет табуляцию (4 отступа)\n",
        "\n",
        "Используем некоторые последовательностей:"
      ],
      "metadata": {
        "id": "v7nkvcLGTj3O"
      }
    },
    {
      "cell_type": "code",
      "source": [
        "text = \"Сообщение:\\n\\\"Вход выполнен\\\"\"\n",
        "print(text)"
      ],
      "metadata": {
        "colab": {
          "base_uri": "https://localhost:8080/"
        },
        "id": "ieCQI-kGTvS2",
        "outputId": "be88dc1c-3cbf-48ce-d681-de4c8d7f8268"
      },
      "execution_count": null,
      "outputs": [
        {
          "output_type": "stream",
          "name": "stdout",
          "text": [
            "Сообщение:\n",
            "\"Вход выполнен\"\n"
          ]
        }
      ]
    },
    {
      "cell_type": "markdown",
      "source": [
        "Хотя подобные последовательности могут нам помочь в некоторых делах, например, поместить в строку кавычку, сделать табуляцию, перенос на другую строку. Но они также могут и мешать. Например:\n",
        "```\n",
        "path = \"C:\\python\\name.txt\"\n",
        "print(path)\n",
        "```\n",
        "Здесь переменная path содержит некоторый путь к файлу. Однако внутри строки встречаются символы \"\\n\", которые будут интерпретированы как управляющая последовательность. Так, мы получим следующий консольный вывод:"
      ],
      "metadata": {
        "id": "GNstaHhQUDhM"
      }
    },
    {
      "cell_type": "code",
      "source": [
        "path = r\"C:/python/name.txt\"\n",
        "print(path)"
      ],
      "metadata": {
        "colab": {
          "base_uri": "https://localhost:8080/"
        },
        "id": "_G4CtGAXUO0b",
        "outputId": "4fe3d46b-4ce0-48c7-ce6a-f60e6b8ab342"
      },
      "execution_count": null,
      "outputs": [
        {
          "output_type": "stream",
          "name": "stdout",
          "text": [
            "C:/python/name.txt\n"
          ]
        }
      ]
    },
    {
      "cell_type": "markdown",
      "source": [
        "**Вставка значений в строку**\n",
        "\n",
        "Python позволяет встравивать в строку значения других переменных. Для этого внутри строки переменные размещаются в фигурных скобках {}, а перед всей строкой ставится символ f:"
      ],
      "metadata": {
        "id": "etlneRvCUXt8"
      }
    },
    {
      "cell_type": "code",
      "source": [
        "userName = \"Михаил\"\n",
        "userAge = 36\n",
        "user = f\"Имя: {userName}  Возраст: {userAge}\"\n",
        "print(user)   # Имя: Михаил  Возраст: 36"
      ],
      "metadata": {
        "colab": {
          "base_uri": "https://localhost:8080/"
        },
        "id": "vUSEvXBqUd8k",
        "outputId": "ca00c20c-d722-4fde-dc0b-8f2283463374"
      },
      "execution_count": null,
      "outputs": [
        {
          "output_type": "stream",
          "name": "stdout",
          "text": [
            "Имя: Михаил  Возраст: 36\n"
          ]
        }
      ]
    },
    {
      "cell_type": "markdown",
      "source": [
        "**Обращение к символам строки:**"
      ],
      "metadata": {
        "id": "F5rBag-DUnOs"
      }
    },
    {
      "cell_type": "code",
      "source": [
        "string = \"Михаил\"\n",
        "c0 = string[0]  # М\n",
        "print(c0)\n",
        "c6 = string[3]  # а\n",
        "print(c6)\n",
        "c_last = string[-1]  # л\n",
        "print(c_last)\n",
        "\n",
        "# c11 = string[11]  # ошибка IndexError: string index out of range\n",
        "# print(c11)"
      ],
      "metadata": {
        "colab": {
          "base_uri": "https://localhost:8080/"
        },
        "id": "NOysfCsoUraq",
        "outputId": "fcf7ffbb-f460-4a4a-8cac-a5c018131d27"
      },
      "execution_count": null,
      "outputs": [
        {
          "output_type": "stream",
          "name": "stdout",
          "text": [
            "М\n",
            "а\n",
            "л\n"
          ]
        }
      ]
    },
    {
      "cell_type": "markdown",
      "source": [
        "**Перебор строки**"
      ],
      "metadata": {
        "id": "WkmfopKDVKt0"
      }
    },
    {
      "cell_type": "code",
      "source": [
        "string = \"Михаил\"\n",
        "for char in string:\n",
        "    print(char)"
      ],
      "metadata": {
        "colab": {
          "base_uri": "https://localhost:8080/"
        },
        "id": "1CttqETtVOE6",
        "outputId": "19b6a6fa-51ca-4307-e805-6b4a9f6c2ce2"
      },
      "execution_count": null,
      "outputs": [
        {
          "output_type": "stream",
          "name": "stdout",
          "text": [
            "М\n",
            "и\n",
            "х\n",
            "а\n",
            "и\n",
            "л\n"
          ]
        }
      ]
    },
    {
      "cell_type": "markdown",
      "source": [
        "**<h3>Получение подстроки**\n",
        "\n",
        "При необходимости мы можем получить из строки не только отдельные символы, но и подстроку. Для этого используется следующий синтаксис:\n",
        "\n",
        "**string[:end]:** извлекается последовательность символов начиная с 0-го индекса по индекс end (не включая)\n",
        "\n",
        "**string[start:end]:** извлекается последовательность символов начиная с индекса start по индекс end (не включая)\n",
        "\n",
        "**string[start:end:step]:** извлекается последовательность символов начиная с индекса start по индекс end (не включая) через шаг step\n",
        "\n",
        "Используем все варианты получения подстроки:"
      ],
      "metadata": {
        "id": "-WTGoRr2VTJE"
      }
    },
    {
      "cell_type": "code",
      "source": [
        "string = \"Как много информации, на неделю точно хватит\"\n",
        "\n",
        "# с 0 до 5 индекса\n",
        "sub_string1 = string[:5]\n",
        "print(sub_string1)      # Как м\n",
        "\n",
        "# со 2 до 5 индекса\n",
        "sub_string2 = string[2:5]\n",
        "print(sub_string2)      # к м\n",
        "\n",
        "# с 2 по 9 индекса через один символ\n",
        "sub_string3 = string[2:9:2]\n",
        "print(sub_string3)      # кмоо"
      ],
      "metadata": {
        "colab": {
          "base_uri": "https://localhost:8080/"
        },
        "id": "cavV5Tc-VeuN",
        "outputId": "cafcb979-4e33-48cc-9aa8-c84c54a9576d"
      },
      "execution_count": null,
      "outputs": [
        {
          "output_type": "stream",
          "name": "stdout",
          "text": [
            "Как м\n",
            "к м\n",
            "кмоо\n"
          ]
        }
      ]
    },
    {
      "cell_type": "markdown",
      "source": [
        "**Объединение строк**\n",
        "\n",
        "Одной из самых распространенных операций со строками является их объединение или конкатенация. Для объединения строк применяется операция сложения:"
      ],
      "metadata": {
        "id": "OhnCiSM7Vua7"
      }
    },
    {
      "cell_type": "code",
      "source": [
        "name = \"Михаил\"\n",
        "surname = \"Деркунов\"\n",
        "fullname = name + \" \" + surname\n",
        "print(fullname)  # Михаил Деркунов"
      ],
      "metadata": {
        "colab": {
          "base_uri": "https://localhost:8080/"
        },
        "id": "jKiEVM4nV1eN",
        "outputId": "364b791c-d4e0-40c1-9669-cf94c2dd0e70"
      },
      "execution_count": null,
      "outputs": [
        {
          "output_type": "stream",
          "name": "stdout",
          "text": [
            "Михаил Деркунов\n"
          ]
        }
      ]
    },
    {
      "cell_type": "markdown",
      "source": [
        "С объединением двух строк все просто, но что, если нам надо сложить строку и число? В этом случае необходимо привести число к строке с помощью функции str():"
      ],
      "metadata": {
        "id": "zwy_6WxpV8mr"
      }
    },
    {
      "cell_type": "code",
      "source": [
        "name = \"Михаил\"\n",
        "age = 36\n",
        "info = \"Имя: \" + name + \" Возраст: \" + str(age)\n",
        "print(info)  # Имя: Михаил Возраст: 36"
      ],
      "metadata": {
        "colab": {
          "base_uri": "https://localhost:8080/"
        },
        "id": "hLrT9MBlV-TU",
        "outputId": "b645cd9d-d550-4fba-a670-94b1a2e56c6a"
      },
      "execution_count": null,
      "outputs": [
        {
          "output_type": "stream",
          "name": "stdout",
          "text": [
            "Имя: Михаил Возраст: 36\n"
          ]
        }
      ]
    },
    {
      "cell_type": "markdown",
      "source": [
        "**Повторение строки**"
      ],
      "metadata": {
        "id": "oeEeSDxGWOZ0"
      }
    },
    {
      "cell_type": "code",
      "source": [
        "print(\"а\" * 3)  # aaa\n",
        "print(\"ха\" * 4)  # хахахаха"
      ],
      "metadata": {
        "colab": {
          "base_uri": "https://localhost:8080/"
        },
        "id": "8K9P_eC7WREq",
        "outputId": "374c2e8b-1613-4038-a994-0fa213bd7ede"
      },
      "execution_count": null,
      "outputs": [
        {
          "output_type": "stream",
          "name": "stdout",
          "text": [
            "ааа\n",
            "хахахаха\n"
          ]
        }
      ]
    },
    {
      "cell_type": "markdown",
      "source": [
        "**Поиск в строке**\n",
        "\n",
        "С помощью выражения term in string можно найти подстроку term в строке string. Если подстрока найдена, то выражение вернет значение True, иначе возвращается значение False:"
      ],
      "metadata": {
        "id": "PGmNpCfGWf6r"
      }
    },
    {
      "cell_type": "code",
      "source": [
        "text = \"Как много информации, на неделю точно хватит\"\n",
        "exist = \"точно\" in text\n",
        "print(exist)    # True\n",
        "\n",
        "exist = \"потому\" in text\n",
        "print(exist)    # False\n",
        "\n",
        "print(\"привет\" not in text)    # True\n",
        "print(\"много\" not in text)    # False"
      ],
      "metadata": {
        "colab": {
          "base_uri": "https://localhost:8080/"
        },
        "id": "-v6Y6kslWmUS",
        "outputId": "2a5ebd8d-2570-40ba-e5d1-750b40fa78f2"
      },
      "execution_count": null,
      "outputs": [
        {
          "output_type": "stream",
          "name": "stdout",
          "text": [
            "True\n",
            "False\n",
            "True\n",
            "False\n"
          ]
        }
      ]
    },
    {
      "cell_type": "markdown",
      "source": [
        "**<h2>Основные методы строк**\n",
        "\n",
        "\n",
        "Рассмотрим основные методы строк, которые мы можем применить в приложениях:\n",
        "\n",
        "**isalpha():** возвращает True, если строка состоит только из алфавитных символов\n",
        "\n",
        "**islower():** возвращает True, если строка состоит только из символов в нижнем регистре\n",
        "\n",
        "**isupper():** возвращает True, если все символы строки в верхнем регистре\n",
        "\n",
        "**isdigit():** возвращает True, если все символы строки - цифры\n",
        "\n",
        "**isnumeric():** возвращает True, если строка представляет собой число\n",
        "\n",
        "**startswith(str):** возвращает True, если строка начинается с подстроки str\n",
        "\n",
        "**endswith(str):** возвращает True, если строка заканчивается на подстроку str\n",
        "\n",
        "**lower():** переводит строку в нижний регистр\n",
        "\n",
        "**upper():** переводит строку в вехний регистр\n",
        "\n",
        "**title():** начальные символы всех слов в строке переводятся в верхний регистр\n",
        "\n",
        "**capitalize():** переводит в верхний регистр первую букву только самого первого слова строки\n",
        "\n",
        "**lstrip():** удаляет начальные пробелы из строки\n",
        "\n",
        "**rstrip():** удаляет конечные пробелы из строки\n",
        "\n",
        "**strip():** удаляет начальные и конечные пробелы из строки\n",
        "\n",
        "**ljust(width):** если длина строки меньше параметра width, то справа от строки добавляются пробелы, чтобы дополнить значение width, а сама строка выравнивается по левому краю\n",
        "\n",
        "**rjust(width):** если длина строки меньше параметра width, то слева от строки добавляются пробелы, чтобы дополнить значение width, а сама строка выравнивается по правому краю\n",
        "\n",
        "**center(width)**: если длина строки меньше параметра width, то слева и справа от строки равномерно добавляются пробелы, чтобы дополнить значение width, а сама строка выравнивается по центру\n",
        "\n",
        "**find(str[, start [, end]):** возвращает индекс подстроки в строке. Если подстрока не найдена, возвращается число -1\n",
        "\n",
        "replace(old, new[, num]): заменяет в строке одну подстроку на другую\n",
        "\n",
        "**split([delimeter[, num]]):** разбивает строку на подстроки в зависимости от разделителя\n",
        "\n",
        "**partition(delimeter):** разбивает строку по разделителю на три подстроки и возвращает кортеж из трех элементов - подстрока до разделителя, разделитель и подстрока после разделителя\n",
        "\n",
        "**join(strs):** объединяет строки в одну строку, вставляя между ними определенный разделитель"
      ],
      "metadata": {
        "id": "kkcanZxjW_A7"
      }
    },
    {
      "cell_type": "markdown",
      "source": [
        "**<h1>Форматирование**\n",
        "\n",
        "В прошлых темах было рассмотрено, как можно вставлять в строку некоторые значения, предваряя строку символом f:"
      ],
      "metadata": {
        "id": "GJ48aO8yXshr"
      }
    },
    {
      "cell_type": "code",
      "source": [
        "first_name=\"Михаил\"\n",
        "text = f\"Привет, {first_name}.\"\n",
        "print(text)     # Привет, Михаил.\n",
        "\n",
        "name=\"Татьяна\"\n",
        "age=23\n",
        "info = f\"Имя: {name}\\t Возраст: {age}\"\n",
        "print(info)     # Имя: Татьяна\t Возраст: 23"
      ],
      "metadata": {
        "colab": {
          "base_uri": "https://localhost:8080/"
        },
        "id": "ojhWw7hkX4yC",
        "outputId": "15bc22a5-e871-417b-c95f-6d6ed346de53"
      },
      "execution_count": null,
      "outputs": [
        {
          "output_type": "stream",
          "name": "stdout",
          "text": [
            "Привет, Михаил.\n",
            "Имя: Татьяна\t Возраст: 23\n"
          ]
        }
      ]
    },
    {
      "cell_type": "markdown",
      "source": [
        "**Установка длины строки**\n",
        "\n",
        "С помощью специальных символов можно задать длину строки при форматировании:\n",
        "\n",
        "'<N': выравнивает строку по левому краю и дополняет ее пробелами с правой стороны до длины N\n",
        "\n",
        "'>N': выравнивает строку по правому краю и дополняет ее пробелами с левой стороны до длины N\n",
        "\n",
        "'^N': выравнивает строку по центру и дополняет ее пробелами с левой и правой стороны до длины N\n",
        "\n",
        "'.N': задает точную длину строки. Если в ней больше N символов, то она усекается\n",
        "\n",
        "Например:"
      ],
      "metadata": {
        "id": "agn40yC5YLar"
      }
    },
    {
      "cell_type": "code",
      "source": [
        "str = \"строка\"\n",
        "num_one = 5\n",
        "num_two = 0.341514811848158481205\n",
        "\n",
        "\n",
        "print(f\"|{str:>20}|\")\n",
        "print(f\"|{str:<20}|\")\n",
        "print(f\"|{str:^20}|\")\n",
        "print(f\"|{num_one:.5f}|\")\n",
        "print(f\"|{num_two:.3f}|\")"
      ],
      "metadata": {
        "colab": {
          "base_uri": "https://localhost:8080/"
        },
        "id": "XY9X3ZqNYZhx",
        "outputId": "e42fc165-d798-4404-94fe-d290dcfb8ab2"
      },
      "execution_count": null,
      "outputs": [
        {
          "output_type": "stream",
          "name": "stdout",
          "text": [
            "|              строка|\n",
            "|строка              |\n",
            "|       строка       |\n",
            "|5.00000|\n",
            "|0.342|\n"
          ]
        }
      ]
    },
    {
      "cell_type": "markdown",
      "metadata": {
        "id": "AYRRqnU1M-t8"
      },
      "source": [
        "## **Отлично!**\n",
        "\n",
        "На этом вы завершаете подготовительные блок Python. Дальше вас ждет еще множество новой и интересной информации. Верим в успех и прикладываем максимум усилий! :)"
      ]
    },
    {
      "cell_type": "markdown",
      "metadata": {
        "id": "CGWmmCleVIXC"
      },
      "source": [
        "Теперь вы полностью готовы к выполнению первого домашнего задания.\n",
        "Но советуем вам прежде попробовать свои силы и порешать примеры из задачника\n",
        "\n",
        "\n",
        "---\n",
        "\n",
        "[УИИ **Задачник** к теме \"Синтаксис Python\"](https://colab.research.google.com/drive/1ZwgxxVOUn7WTYlOYyfV564_6_br2nlnu?usp=sharing)\n",
        "\n",
        "---\n",
        "\n"
      ]
    },
    {
      "cell_type": "markdown",
      "source": [
        "[УИИ **Задачник 2** к теме \"Синтаксис Python\"](https://colab.research.google.com/drive/1Fc4JqOS_PpHktHmT36430N_mvW_90btu?usp=sharing)"
      ],
      "metadata": {
        "id": "CrzNyUGBPEKc"
      }
    }
  ]
}