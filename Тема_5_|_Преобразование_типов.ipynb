{
  "nbformat": 4,
  "nbformat_minor": 0,
  "metadata": {
    "colab": {
      "provenance": [],
      "include_colab_link": true
    },
    "kernelspec": {
      "name": "python3",
      "display_name": "Python 3"
    },
    "language_info": {
      "name": "python"
    }
  },
  "cells": [
    {
      "cell_type": "markdown",
      "metadata": {
        "id": "view-in-github",
        "colab_type": "text"
      },
      "source": [
        "<a href=\"https://colab.research.google.com/github/Zagidin/PythonDev/blob/main/%D0%A2%D0%B5%D0%BC%D0%B0_5_%7C_%D0%9F%D1%80%D0%B5%D0%BE%D0%B1%D1%80%D0%B0%D0%B7%D0%BE%D0%B2%D0%B0%D0%BD%D0%B8%D0%B5_%D1%82%D0%B8%D0%BF%D0%BE%D0%B2.ipynb\" target=\"_parent\"><img src=\"https://colab.research.google.com/assets/colab-badge.svg\" alt=\"Open In Colab\"/></a>"
      ]
    },
    {
      "cell_type": "markdown",
      "metadata": {
        "id": "VWxTY812Es7Y"
      },
      "source": [
        "## **Преобразования типов**. Встроенные функции"
      ]
    },
    {
      "cell_type": "markdown",
      "metadata": {
        "id": "0TSzInbyoApL"
      },
      "source": [
        "Попробуйте решить несколько простых задач с использованием типов коллекций."
      ]
    },
    {
      "cell_type": "markdown",
      "metadata": {
        "id": "tSW12qzEoK8x"
      },
      "source": [
        "Задача №1:\n",
        "\n",
        ">Выявите количество уникальных имен в списке `names_list`.\n",
        "\n",
        "Для решения этой задачи необходимо взять список имен и обернуть его в функцию `set`, которая преобразует любую структуру в множество.\n",
        "\n",
        "Тогда это множество будет содержать только уникальные имена. Останется только узнать его размер функцией `len`."
      ]
    },
    {
      "cell_type": "code",
      "metadata": {
        "id": "kpO12rODyI6g",
        "colab": {
          "base_uri": "https://localhost:8080/"
        },
        "outputId": "36fc4e80-7192-4ccc-fffd-d3c072fd7890"
      },
      "source": [
        "names_list = ['Катя', 'Катя', 'Кира', 'Марк', 'Катя', 'Света', 'Максим', 'Света']\n",
        "print('Количество имен в списке:', len(names_list))\n",
        "names_set = set(names_list)\n",
        "print('Множество имен:', names_set, type(names_set))\n",
        "print('Количество уникальных имен во множестве:',len(names_set))\n",
        "uniq_names = list(names_set)\n",
        "print(uniq_names, f\"\\t{type(uniq_names)}\")"
      ],
      "execution_count": null,
      "outputs": [
        {
          "output_type": "stream",
          "name": "stdout",
          "text": [
            "Количество имен в списке: 8\n",
            "Множество имен: {'Максим', 'Кира', 'Марк', 'Катя', 'Света'} <class 'set'>\n",
            "Количество уникальных имен во множестве: 5\n",
            "['Максим', 'Кира', 'Марк', 'Катя', 'Света'] \t<class 'list'>\n"
          ]
        }
      ]
    },
    {
      "cell_type": "markdown",
      "metadata": {
        "id": "aKYaV1gUqhxq"
      },
      "source": [
        "Задача №2:\n",
        "\n",
        ">Защитите список и множество имен от возможных изменений, используя преобразование типов.\n",
        "\n",
        "Для решения этой задачи достаточно вспомнить, что в Python есть структуры данных, которые не поддаются изменениям — кортежи.\n",
        "\n",
        "Остается только преобразовать ваш список в множество или в кортеж.\n",
        "\n"
      ]
    },
    {
      "cell_type": "code",
      "metadata": {
        "id": "usQ4182Fxsm7",
        "colab": {
          "base_uri": "https://localhost:8080/"
        },
        "outputId": "35e4e08b-b40d-43c7-e0b9-7df56310c659"
      },
      "source": [
        "names_list"
      ],
      "execution_count": null,
      "outputs": [
        {
          "output_type": "execute_result",
          "data": {
            "text/plain": [
              "['Катя', 'Катя', 'Кира', 'Марк', 'Катя', 'Света', 'Максим', 'Света']"
            ]
          },
          "metadata": {},
          "execution_count": 2
        }
      ]
    },
    {
      "cell_type": "code",
      "metadata": {
        "id": "h78LMUo_QTZW",
        "colab": {
          "base_uri": "https://localhost:8080/"
        },
        "outputId": "07e6b14a-d0eb-4bee-d6ec-5266863f5609"
      },
      "source": [
        "# Первый вариант решения – кортеж\n",
        "list_to_tuple = tuple(names_list)\n",
        "\n",
        "print(list_to_tuple)"
      ],
      "execution_count": null,
      "outputs": [
        {
          "output_type": "stream",
          "name": "stdout",
          "text": [
            "('Катя', 'Катя', 'Кира', 'Марк', 'Катя', 'Света', 'Максим', 'Света')\n"
          ]
        }
      ]
    },
    {
      "cell_type": "code",
      "metadata": {
        "id": "41rs-yfDxyke",
        "colab": {
          "base_uri": "https://localhost:8080/",
          "height": 158
        },
        "outputId": "0f2cbf1b-dac2-4f9b-db99-c561f1b31135"
      },
      "source": [
        "# Попытка изменить кортеж\n",
        "list_to_tuple[0] = 'Борис'"
      ],
      "execution_count": null,
      "outputs": [
        {
          "output_type": "error",
          "ename": "TypeError",
          "evalue": "'tuple' object does not support item assignment",
          "traceback": [
            "\u001b[0;31m---------------------------------------------------------------------------\u001b[0m",
            "\u001b[0;31mTypeError\u001b[0m                                 Traceback (most recent call last)",
            "\u001b[0;32m<ipython-input-4-e7dd9779ea8c>\u001b[0m in \u001b[0;36m<cell line: 2>\u001b[0;34m()\u001b[0m\n\u001b[1;32m      1\u001b[0m \u001b[0;31m# Попытка изменить кортеж\u001b[0m\u001b[0;34m\u001b[0m\u001b[0;34m\u001b[0m\u001b[0m\n\u001b[0;32m----> 2\u001b[0;31m \u001b[0mlist_to_tuple\u001b[0m\u001b[0;34m[\u001b[0m\u001b[0;36m0\u001b[0m\u001b[0;34m]\u001b[0m \u001b[0;34m=\u001b[0m \u001b[0;34m'Борис'\u001b[0m\u001b[0;34m\u001b[0m\u001b[0;34m\u001b[0m\u001b[0m\n\u001b[0m",
            "\u001b[0;31mTypeError\u001b[0m: 'tuple' object does not support item assignment"
          ]
        }
      ]
    },
    {
      "cell_type": "code",
      "metadata": {
        "id": "t2w5t5hZxQye",
        "colab": {
          "base_uri": "https://localhost:8080/"
        },
        "outputId": "64ba095d-ba37-4cad-ab54-8ef5f3787df7"
      },
      "source": [
        "# Второй вариант решения – множество\n",
        "list_to_set = set(names_list)\n",
        "print(list_to_set)"
      ],
      "execution_count": null,
      "outputs": [
        {
          "output_type": "stream",
          "name": "stdout",
          "text": [
            "{'Максим', 'Кира', 'Марк', 'Катя', 'Света'}\n"
          ]
        }
      ]
    },
    {
      "cell_type": "code",
      "metadata": {
        "id": "T_Hfv-pGyNq4",
        "colab": {
          "base_uri": "https://localhost:8080/",
          "height": 158
        },
        "outputId": "468234c0-d4e0-49fa-a4aa-7dd0f0a20e69"
      },
      "source": [
        "# Попытка изменить множество\n",
        "list_to_set[1] = 'Виктор'"
      ],
      "execution_count": null,
      "outputs": [
        {
          "output_type": "error",
          "ename": "TypeError",
          "evalue": "'set' object does not support item assignment",
          "traceback": [
            "\u001b[0;31m---------------------------------------------------------------------------\u001b[0m",
            "\u001b[0;31mTypeError\u001b[0m                                 Traceback (most recent call last)",
            "\u001b[0;32m<ipython-input-6-9d5b7a4f0632>\u001b[0m in \u001b[0;36m<cell line: 2>\u001b[0;34m()\u001b[0m\n\u001b[1;32m      1\u001b[0m \u001b[0;31m# Попытка изменить множество\u001b[0m\u001b[0;34m\u001b[0m\u001b[0;34m\u001b[0m\u001b[0m\n\u001b[0;32m----> 2\u001b[0;31m \u001b[0mlist_to_set\u001b[0m\u001b[0;34m[\u001b[0m\u001b[0;36m1\u001b[0m\u001b[0;34m]\u001b[0m \u001b[0;34m=\u001b[0m \u001b[0;34m'Виктор'\u001b[0m\u001b[0;34m\u001b[0m\u001b[0;34m\u001b[0m\u001b[0m\n\u001b[0m",
            "\u001b[0;31mTypeError\u001b[0m: 'set' object does not support item assignment"
          ]
        }
      ]
    },
    {
      "cell_type": "markdown",
      "metadata": {
        "id": "MsNahNyAt4Gx"
      },
      "source": [
        "Задача №3:\n",
        "\n",
        ">Преобразуйте строковые данные в список.\n",
        "\n",
        "Чтобы преобразовать строку в список, воспользуйтесь функцией `list`:"
      ]
    },
    {
      "cell_type": "code",
      "metadata": {
        "id": "FFFYO8xQ8Fic",
        "colab": {
          "base_uri": "https://localhost:8080/"
        },
        "outputId": "75d3724c-fb27-4753-fab8-905541eed448"
      },
      "source": [
        "# Преобразуйте строковые данные в список:\n",
        "string = 'список'\n",
        "print(string)"
      ],
      "execution_count": null,
      "outputs": [
        {
          "output_type": "stream",
          "name": "stdout",
          "text": [
            "список\n"
          ]
        }
      ]
    },
    {
      "cell_type": "code",
      "metadata": {
        "id": "eF0yBx-yyqF8",
        "colab": {
          "base_uri": "https://localhost:8080/"
        },
        "outputId": "e5443b0e-b3e1-4bd9-e1b4-8d1b76958d9f"
      },
      "source": [
        "str_to_list = list(string)\n",
        "print(str_to_list)"
      ],
      "execution_count": null,
      "outputs": [
        {
          "output_type": "stream",
          "name": "stdout",
          "text": [
            "['с', 'п', 'и', 'с', 'о', 'к']\n"
          ]
        }
      ]
    },
    {
      "cell_type": "code",
      "metadata": {
        "id": "P52WgULEyw6k",
        "colab": {
          "base_uri": "https://localhost:8080/"
        },
        "outputId": "08be1925-71cc-4b68-e554-68f8965ac795"
      },
      "source": [
        "print('Первый элемент списка:', str_to_list[0])\n",
        "print('Первый элемент строки:', string[0])"
      ],
      "execution_count": null,
      "outputs": [
        {
          "output_type": "stream",
          "name": "stdout",
          "text": [
            "Первый элемент списка: с\n",
            "Первый элемент строки: с\n"
          ]
        }
      ]
    },
    {
      "cell_type": "code",
      "metadata": {
        "id": "uZ9kHnz8y9TS",
        "colab": {
          "base_uri": "https://localhost:8080/"
        },
        "outputId": "1cbae722-c84e-4d9b-a995-bab57e3debee"
      },
      "source": [
        "print('Срез от 4-го элемента списка до конца:', str_to_list[3:])\n",
        "print('Срез от 4-го элемента строки до конца:', string[3:])"
      ],
      "execution_count": null,
      "outputs": [
        {
          "output_type": "stream",
          "name": "stdout",
          "text": [
            "Срез от 4-го элемента списка до конца: ['с', 'о', 'к']\n",
            "Срез от 4-го элемента строки до конца: сок\n"
          ]
        }
      ]
    },
    {
      "cell_type": "markdown",
      "metadata": {
        "id": "3VzhPk4KgQN4"
      },
      "source": [
        "## Материалы"
      ]
    },
    {
      "cell_type": "markdown",
      "metadata": {
        "id": "QtPAAgor70kg"
      },
      "source": [
        "1. **Пол Берри «Изучаем программирование на Python»**. Хорошая книга по Python для новичков, которая на доступном и игровом языке поможет понять основные вещи:\n",
        "https://drive.google.com/open?id=1-wzGnovWmB9wDafH20eBPqgNzmPZlIP0\n",
        "\n",
        "2. **Byte of Python («Укус Питона»)**. Для тех, кому понимание дается проще. Более компактная, но сильная книга: https://drive.google.com/open?id=1a3G3HBW_qQK8OPSSg7pni1LlQD-pzOkW\n",
        "\n",
        "3. **«Python. К вершинам мастерства»**. Для продвинутых программистов. Русскоязычная версия оригинальной книги Fluent Python: https://drive.google.com/file/d/1lz7aK6CXdFtEVSzoTdoJ01Uxsq1TAjZw/view?usp=sharing\n",
        "\n",
        "4. **Адитья Бхаргава «Грокаем алгоритмы»**. Небольшая книга, признанная многими программистами. В ней на доступном языке объяснены алгоритмы программирования:\n",
        "https://drive.google.com/open?id=1pr3q0geXJsrFz2p4E8CYowYKPbuKC5_M.\n"
      ]
    }
  ]
}