{
  "nbformat": 4,
  "nbformat_minor": 0,
  "metadata": {
    "colab": {
      "provenance": [],
      "include_colab_link": true
    },
    "kernelspec": {
      "name": "python3",
      "display_name": "Python 3"
    },
    "language_info": {
      "name": "python"
    }
  },
  "cells": [
    {
      "cell_type": "markdown",
      "metadata": {
        "id": "view-in-github",
        "colab_type": "text"
      },
      "source": [
        "<a href=\"https://colab.research.google.com/github/Zagidin/PythonDev/blob/main/%D0%A2%D0%B5%D0%BC%D0%B0_3_%7C_%D0%A1%D0%BB%D0%BE%D0%B2%D0%B0%D1%80%D0%B8.ipynb\" target=\"_parent\"><img src=\"https://colab.research.google.com/assets/colab-badge.svg\" alt=\"Open In Colab\"/></a>"
      ]
    },
    {
      "cell_type": "markdown",
      "metadata": {
        "id": "WSUcoFPG-8oi"
      },
      "source": [
        "## **Словари (`dict`)**"
      ]
    },
    {
      "cell_type": "markdown",
      "metadata": {
        "id": "ra7anKwu2bsz"
      },
      "source": [
        "Словари отличаются от списков. Это неупорядоченный набор данных, т.е. вы не можете получить доступ к его элементам по индексу. Но вы можете получить доступ по ключу.\n",
        "\n",
        "Данные в словаре хранятся в виде пар:\n",
        "\n",
        "    `{ключ1: значение1, ключ2: значение2, ...}`.\n",
        "\n",
        "Ключ и значение разделяют двоеточием, пары друг от друга отделяют запятыми. Все это заключают в фигурные скобки.\n",
        "\n",
        "Можно сравнить с контактами в телефоне, где по имени можно найти номер и информацию о человеке. Либо с простеньким словарем, где одному слову на английском соответствует одно слово на русском. Ключ должен быть уникальным. Нельзя получить корректную информацию, если в контактах есть несколько людей с полностью одинаковыми именами."
      ]
    },
    {
      "cell_type": "code",
      "metadata": {
        "id": "M6LtGZE6AiIR",
        "colab": {
          "base_uri": "https://localhost:8080/"
        },
        "outputId": "123a5995-bb4d-4ec5-a4a9-f3c257da4900"
      },
      "source": [
        "# Создание пустого словаря. Версия 1\n",
        "empty_dict = {}\n",
        "\n",
        "# Создание пустого словаря. Версия 2\n",
        "empty_dict2 = dict()\n",
        "print(empty_dict, '  ', type(empty_dict))  # вывести переменную и ее тип по первому варианту\n",
        "print(empty_dict2, '  ', type(empty_dict2))  # вывести переменную и ее тип по второму варианту"
      ],
      "execution_count": null,
      "outputs": [
        {
          "output_type": "stream",
          "name": "stdout",
          "text": [
            "{}    <class 'dict'>\n",
            "{}    <class 'dict'>\n"
          ]
        }
      ]
    },
    {
      "cell_type": "markdown",
      "metadata": {
        "id": "qhsNsZqVpzve"
      },
      "source": [
        "Чтобы создать словарь с элементами, вам необходимо через запятую в фигурных скобках указать пары `{ключ1: значение1}`. Обращение к элементам происходит не посредством индексов, как было в списках или кортежах, а с помощью ключей:"
      ]
    },
    {
      "cell_type": "code",
      "metadata": {
        "id": "5013wiMpyhPA",
        "colab": {
          "base_uri": "https://localhost:8080/"
        },
        "outputId": "5d173648-2bcf-43fb-bf78-562629884b5b"
      },
      "source": [
        "# Создание словаря с баллами студентов. Пары {ключ: значение} в данном случае – {имя: балл}\n",
        "\n",
        "scores_dict = {'Андрей': 90, 'Ирина': 99, 'Никита': 88, 'Виктор': 53, 'Ксения': 88}\n",
        "\n",
        "print('Словарь:', scores_dict, type(scores_dict))\n",
        "print('Андрей получил', scores_dict['Андрей'], 'баллов')\n",
        "print('Ирина получила', scores_dict['Ирина'], 'баллов')"
      ],
      "execution_count": null,
      "outputs": [
        {
          "output_type": "stream",
          "name": "stdout",
          "text": [
            "Словарь: {'Андрей': 90, 'Ирина': 99, 'Никита': 88, 'Виктор': 53, 'Ксения': 88} <class 'dict'>\n",
            "Андрей получил 90 баллов\n",
            "Ирина получила 99 баллов\n"
          ]
        }
      ]
    },
    {
      "cell_type": "markdown",
      "source": [
        "Альтернативный способ создания:"
      ],
      "metadata": {
        "id": "tPXKiX4KwE4S"
      }
    },
    {
      "cell_type": "code",
      "source": [
        "lst = [\n",
        "    ['Андрей', 90],\n",
        "    ['Ирина', 99],\n",
        "    ['Никита', 88],\n",
        "    ['Виктор', 53],\n",
        "    ['Ксения', 88],\n",
        "]\n",
        "scores_dict = dict(lst)\n",
        "\n",
        "print('Словарь:', scores_dict, type(scores_dict))\n",
        "print('Андрей получил', scores_dict['Андрей'], 'баллов')\n",
        "print('Ирина получила', scores_dict['Ирина'], 'баллов')"
      ],
      "metadata": {
        "colab": {
          "base_uri": "https://localhost:8080/"
        },
        "id": "60E09DeiwH3K",
        "outputId": "c7a7770d-f92d-479f-8f59-7e43d4464884"
      },
      "execution_count": null,
      "outputs": [
        {
          "output_type": "stream",
          "name": "stdout",
          "text": [
            "Словарь: {'Андрей': 90, 'Ирина': 99, 'Никита': 88, 'Виктор': 53, 'Ксения': 88} <class 'dict'>\n",
            "Андрей получил 90 баллов\n",
            "Ирина получила 99 баллов\n"
          ]
        }
      ]
    },
    {
      "cell_type": "code",
      "source": [
        "# Удобный вывод словарей\n",
        "import pprint\n",
        "\n",
        "some_dir = {\n",
        "    'user_1': {\n",
        "        \"name\": \"Андрей\",\n",
        "        \"age\": 30,\n",
        "    },\n",
        "    'user_2': {\n",
        "        \"name\": \"Виктор\",\n",
        "        \"age\": 33,\n",
        "    },\n",
        "    'user_3': {\n",
        "        \"name\": \"Ирина\",\n",
        "        \"age\": 40,\n",
        "    }\n",
        "}\n",
        "\n",
        "print(some_dir)\n",
        "print()\n",
        "pprint.pprint(some_dir)\n",
        "print()\n",
        "print(some_dir['user_2']['name'])"
      ],
      "metadata": {
        "colab": {
          "base_uri": "https://localhost:8080/"
        },
        "id": "ObvGdj3jwmpK",
        "outputId": "2898a68e-0948-4747-a1f5-ac5a449bbbb6"
      },
      "execution_count": null,
      "outputs": [
        {
          "output_type": "stream",
          "name": "stdout",
          "text": [
            "{'user_1': {'name': 'Андрей', 'age': 30}, 'user_2': {'name': 'Виктор', 'age': 33}, 'user_3': {'name': 'Ирина', 'age': 40}}\n",
            "\n",
            "{'user_1': {'age': 30, 'name': 'Андрей'},\n",
            " 'user_2': {'age': 33, 'name': 'Виктор'},\n",
            " 'user_3': {'age': 40, 'name': 'Ирина'}}\n",
            "\n",
            "Виктор\n"
          ]
        }
      ]
    },
    {
      "cell_type": "markdown",
      "metadata": {
        "id": "V9R8dgvFqUwC"
      },
      "source": [
        "Вы можете изменять содержимое словарей так же, как и в списках, обращаясь к элементам по их ключу. Кроме того, к словарям применима функция `len`.\n",
        "\n",
        "Если вы хотите добавить новый элемент в словарь, вам нужно как бы обратиться к несуществующему элементу словаря по новому ключу и присвоить ему какое-нибудь значение:"
      ]
    },
    {
      "cell_type": "code",
      "source": [
        "scores_dict"
      ],
      "metadata": {
        "colab": {
          "base_uri": "https://localhost:8080/"
        },
        "id": "5nlXXXh8kmqA",
        "outputId": "5bea05dd-4290-4561-b41e-5af0bf7a8f9d"
      },
      "execution_count": null,
      "outputs": [
        {
          "output_type": "execute_result",
          "data": {
            "text/plain": [
              "{'Андрей': 90, 'Ирина': 99, 'Никита': 88, 'Виктор': 53, 'Ксения': 88}"
            ]
          },
          "metadata": {},
          "execution_count": 5
        }
      ]
    },
    {
      "cell_type": "code",
      "metadata": {
        "id": "XrTJPHO3pJLH",
        "colab": {
          "base_uri": "https://localhost:8080/"
        },
        "outputId": "32525310-0457-422f-f50c-7c3c5814c24e"
      },
      "source": [
        "# Длина словаря\n",
        "print('Длина словаря:', len(scores_dict), 'пар')"
      ],
      "execution_count": null,
      "outputs": [
        {
          "output_type": "stream",
          "name": "stdout",
          "text": [
            "Длина словаря: 5 пар\n"
          ]
        }
      ]
    },
    {
      "cell_type": "markdown",
      "metadata": {
        "id": "tMH_SwOypKqb"
      },
      "source": [
        "Измените значение уже существующего ключа:"
      ]
    },
    {
      "cell_type": "code",
      "metadata": {
        "id": "95sPGuzOz_4y"
      },
      "source": [
        "# Изменение значения существующего ключа 'Андрей'\n",
        "scores_dict['Андрей'] = 95"
      ],
      "execution_count": null,
      "outputs": []
    },
    {
      "cell_type": "code",
      "metadata": {
        "id": "YGh_ChblozRL",
        "colab": {
          "base_uri": "https://localhost:8080/"
        },
        "outputId": "fe3db9eb-b07a-4cb5-eec4-a7435237f4db"
      },
      "source": [
        "# Вывод всего словаря\n",
        "print('Словарь:', scores_dict)"
      ],
      "execution_count": null,
      "outputs": [
        {
          "output_type": "stream",
          "name": "stdout",
          "text": [
            "Словарь: {'Андрей': 95, 'Ирина': 99, 'Никита': 88, 'Виктор': 53, 'Ксения': 88}\n"
          ]
        }
      ]
    },
    {
      "cell_type": "code",
      "metadata": {
        "id": "InWyOZgDo0eW",
        "colab": {
          "base_uri": "https://localhost:8080/"
        },
        "outputId": "a5fc6ea0-eda0-466e-e057-2f12019efd29"
      },
      "source": [
        "# Длина словаря\n",
        "print('Длина словаря:', len(scores_dict), 'пар')"
      ],
      "execution_count": null,
      "outputs": [
        {
          "output_type": "stream",
          "name": "stdout",
          "text": [
            "Длина словаря: 5 пар\n"
          ]
        }
      ]
    },
    {
      "cell_type": "markdown",
      "metadata": {
        "id": "aJzHwk72pcWb"
      },
      "source": [
        "Длина словаря не изменилась, так как в нем не появилось новых пар `{ключ: значение}`.\n",
        "\n",
        "Теперь добавьте новую пару. Эта операция ничем не отличается от изменения существующей пары:"
      ]
    },
    {
      "cell_type": "code",
      "metadata": {
        "id": "RtjDSbSBoxB_"
      },
      "source": [
        "# Запись в словарь новой пары\n",
        "scores_dict['Мария'] = 77"
      ],
      "execution_count": null,
      "outputs": []
    },
    {
      "cell_type": "code",
      "metadata": {
        "id": "fY0m62qLp1OR",
        "colab": {
          "base_uri": "https://localhost:8080/"
        },
        "outputId": "8db7a0b4-84b1-4875-d67d-5e8e13f18666"
      },
      "source": [
        "# Актуальный словарь\n",
        "print('Словарь:', scores_dict)"
      ],
      "execution_count": null,
      "outputs": [
        {
          "output_type": "stream",
          "name": "stdout",
          "text": [
            "Словарь: {'Андрей': 95, 'Ирина': 99, 'Никита': 88, 'Виктор': 53, 'Ксения': 88, 'Мария': 77}\n"
          ]
        }
      ]
    },
    {
      "cell_type": "code",
      "metadata": {
        "id": "LMDYkiCGp6_E",
        "colab": {
          "base_uri": "https://localhost:8080/"
        },
        "outputId": "ab6dd56d-d7dc-4d1f-d7ea-fa2aab2b8276"
      },
      "source": [
        "print('Длина словаря:', len(scores_dict), 'пар')"
      ],
      "execution_count": null,
      "outputs": [
        {
          "output_type": "stream",
          "name": "stdout",
          "text": [
            "Длина словаря: 6 пар\n"
          ]
        }
      ]
    },
    {
      "cell_type": "markdown",
      "metadata": {
        "id": "3So0GslTqt-8"
      },
      "source": [
        "Длина словаря увеличилась с 5 до 6, так как была добавлена еще одна пара `{ключ: значение}`.\n",
        "\n",
        "Теперь попробуйте решить простую задачу со словарем:\n",
        "\n",
        ">Прибавьте единицу каждому элементу словаря.\n",
        "\n",
        "Для этого пройдитесь по нему циклом `for`. Переменная `key`  в этом случае принимает значения ключей этого словаря, то есть первое значение из пары элемента.\n",
        "\n",
        "Далее вы можете изменять данные в словаре, обращаясь посредством полученного ключа в переменной `key`."
      ]
    },
    {
      "cell_type": "code",
      "metadata": {
        "id": "A5TixRYXZAe-",
        "colab": {
          "base_uri": "https://localhost:8080/"
        },
        "outputId": "27f08d15-e085-4d12-8ccb-423572381679"
      },
      "source": [
        "# У экзаменатора хорошее настроение. Всем добавить по баллу!\n",
        "\n",
        "for key in scores_dict:\n",
        "  scores_dict[key] += 1\n",
        "\n",
        "print(scores_dict)"
      ],
      "execution_count": null,
      "outputs": [
        {
          "output_type": "stream",
          "name": "stdout",
          "text": [
            "{'Андрей': 96, 'Ирина': 100, 'Никита': 89, 'Виктор': 54, 'Ксения': 89, 'Мария': 78}\n"
          ]
        }
      ]
    },
    {
      "cell_type": "markdown",
      "metadata": {
        "id": "aq6FsQQ_uC9n"
      },
      "source": [
        "Ключи и значения в словарях необязательно должны быть строковыми и целочисленными соответственно.\n",
        "\n",
        "То есть вы можете в качестве значения элемента указать строковый или любой другой тип данных. Ключ также необязательно является строкой:"
      ]
    },
    {
      "cell_type": "code",
      "metadata": {
        "id": "Z_l0P15B3szF",
        "colab": {
          "base_uri": "https://localhost:8080/"
        },
        "outputId": "c001456a-1839-48fa-fbbb-6737026040e1"
      },
      "source": [
        "# Словарь — адресная книга. {имя: адрес}\n",
        "\n",
        "contacts = {'Леонард': 'leo@hoffsted.com',\n",
        "           'Шелдон': 'shelly@moonpie.org',\n",
        "           'Пенни': 'penni@blondie.org',\n",
        "           'Раджеш': 'radzh@indmail.com'\n",
        "           }\n",
        "print(contacts)\n",
        "print('Адрес Пенни:', contacts['Пенни'])"
      ],
      "execution_count": null,
      "outputs": [
        {
          "output_type": "stream",
          "name": "stdout",
          "text": [
            "{'Леонард': 'leo@hoffsted.com', 'Шелдон': 'shelly@moonpie.org', 'Пенни': 'penni@blondie.org', 'Раджеш': 'radzh@indmail.com'}\n",
            "Адрес Пенни: penni@blondie.org\n"
          ]
        }
      ]
    },
    {
      "cell_type": "markdown",
      "metadata": {
        "id": "uA_ZSoeucNpT"
      },
      "source": [
        "### **Методы словарей**"
      ]
    },
    {
      "cell_type": "markdown",
      "metadata": {
        "id": "Ax4DOccZTSX8"
      },
      "source": [
        "Метод `update` позволяет добавить в словарь сразу несколько пар `ключ:значение`."
      ]
    },
    {
      "cell_type": "code",
      "metadata": {
        "id": "qw4HwOr4So-u",
        "colab": {
          "base_uri": "https://localhost:8080/"
        },
        "outputId": "292ca069-deca-44ca-a520-02ba48eaec46"
      },
      "source": [
        "# Добавьте две пары в словарь dictionary, используя метод update\n",
        "\n",
        "# Создание словаря, который будет дополнен\n",
        "shop_dict = {1: 'хлеб', 2: 'молоко', 3: 'мясо'}\n",
        "print('Словарь до:', shop_dict)"
      ],
      "execution_count": null,
      "outputs": [
        {
          "output_type": "stream",
          "name": "stdout",
          "text": [
            "Словарь до: {1: 'хлеб', 2: 'молоко', 3: 'мясо'}\n"
          ]
        }
      ]
    },
    {
      "cell_type": "code",
      "metadata": {
        "id": "Upf_VVa18aNM",
        "colab": {
          "base_uri": "https://localhost:8080/"
        },
        "outputId": "0b22374c-97ee-4f34-f27d-7110a1f73cdc"
      },
      "source": [
        "# Дополнение словаря путем добавления другого\n",
        "shop_dict.update({4: 'творог', 5: 'ягоды'})\n",
        "print('Словарь после:', shop_dict)"
      ],
      "execution_count": null,
      "outputs": [
        {
          "output_type": "stream",
          "name": "stdout",
          "text": [
            "Словарь после: {1: 'хлеб', 2: 'молоко', 3: 'мясо', 4: 'творог', 5: 'ягоды'}\n"
          ]
        }
      ]
    },
    {
      "cell_type": "markdown",
      "metadata": {
        "id": "s3PVPR-yUA-K"
      },
      "source": [
        "Для получения данных словаря в различном виде можно использовать несколько методов:"
      ]
    },
    {
      "cell_type": "code",
      "metadata": {
        "id": "SUcmCnjJE0TA",
        "colab": {
          "base_uri": "https://localhost:8080/"
        },
        "outputId": "a84a9bbb-bb68-448d-baf2-e9c5f79d2ee8"
      },
      "source": [
        "# Получение всех ключей словаря\n",
        "print(shop_dict.keys())"
      ],
      "execution_count": null,
      "outputs": [
        {
          "output_type": "stream",
          "name": "stdout",
          "text": [
            "dict_keys([1, 2, 3, 4, 5])\n"
          ]
        }
      ]
    },
    {
      "cell_type": "markdown",
      "source": [
        "Перебрать элементы словаря в цикле можно, например, следующим образом:"
      ],
      "metadata": {
        "id": "I6DktBYcDHNu"
      }
    },
    {
      "cell_type": "code",
      "source": [
        "# Пример цикла по ключам словаря\n",
        "for key in shop_dict.keys():\n",
        "  print(key, '  -->  ' , shop_dict[key])"
      ],
      "metadata": {
        "colab": {
          "base_uri": "https://localhost:8080/"
        },
        "id": "2uv9PsCCCz0q",
        "outputId": "234b638b-5d9b-46fe-c3e3-019ecdfb6a64"
      },
      "execution_count": null,
      "outputs": [
        {
          "output_type": "stream",
          "name": "stdout",
          "text": [
            "1   -->   хлеб\n",
            "2   -->   молоко\n",
            "3   -->   мясо\n",
            "4   -->   творог\n",
            "5   -->   ягоды\n"
          ]
        }
      ]
    },
    {
      "cell_type": "code",
      "source": [
        "# Возможно получение значение элемента словаря, обратившись по его ключу\n",
        "shop_dict[2]"
      ],
      "metadata": {
        "colab": {
          "base_uri": "https://localhost:8080/",
          "height": 35
        },
        "id": "77noI032cMER",
        "outputId": "bc3ee5b0-0e05-443b-94bb-843b3b92e65b"
      },
      "execution_count": null,
      "outputs": [
        {
          "output_type": "execute_result",
          "data": {
            "text/plain": [
              "'молоко'"
            ],
            "application/vnd.google.colaboratory.intrinsic+json": {
              "type": "string"
            }
          },
          "metadata": {},
          "execution_count": 20
        }
      ]
    },
    {
      "cell_type": "code",
      "source": [
        "# Однако невозможно получить ключ элемента словаря по соответствующему значению\n",
        "shop_dict['молоко']"
      ],
      "metadata": {
        "colab": {
          "base_uri": "https://localhost:8080/",
          "height": 158
        },
        "id": "nhY2QdSJcn24",
        "outputId": "0dbdf95d-856b-468c-9957-89617a6b0152"
      },
      "execution_count": null,
      "outputs": [
        {
          "output_type": "error",
          "ename": "KeyError",
          "evalue": "'молоко'",
          "traceback": [
            "\u001b[0;31m---------------------------------------------------------------------------\u001b[0m",
            "\u001b[0;31mKeyError\u001b[0m                                  Traceback (most recent call last)",
            "\u001b[0;32m<ipython-input-21-dcc4018a9ade>\u001b[0m in \u001b[0;36m<cell line: 2>\u001b[0;34m()\u001b[0m\n\u001b[1;32m      1\u001b[0m \u001b[0;31m# Однако невозможно получить ключ элемента словаря по соответствующему значению\u001b[0m\u001b[0;34m\u001b[0m\u001b[0;34m\u001b[0m\u001b[0m\n\u001b[0;32m----> 2\u001b[0;31m \u001b[0mshop_dict\u001b[0m\u001b[0;34m[\u001b[0m\u001b[0;34m'молоко'\u001b[0m\u001b[0;34m]\u001b[0m\u001b[0;34m\u001b[0m\u001b[0;34m\u001b[0m\u001b[0m\n\u001b[0m",
            "\u001b[0;31mKeyError\u001b[0m: 'молоко'"
          ]
        }
      ]
    },
    {
      "cell_type": "code",
      "source": [
        "shop_dict"
      ],
      "metadata": {
        "colab": {
          "base_uri": "https://localhost:8080/"
        },
        "id": "7TZQLoVinaGw",
        "outputId": "c24f6a54-4dd5-4055-84cc-9417e334c393"
      },
      "execution_count": null,
      "outputs": [
        {
          "output_type": "execute_result",
          "data": {
            "text/plain": [
              "{1: 'хлеб', 2: 'молоко', 3: 'мясо', 4: 'творог', 5: 'ягоды'}"
            ]
          },
          "metadata": {},
          "execution_count": 22
        }
      ]
    },
    {
      "cell_type": "code",
      "metadata": {
        "id": "nSe9Wm338qoc",
        "colab": {
          "base_uri": "https://localhost:8080/"
        },
        "outputId": "e299b5bc-b00e-4670-d2ad-7dca1ce0c680"
      },
      "source": [
        "# Получение всех значений словаря\n",
        "print(shop_dict.values())"
      ],
      "execution_count": null,
      "outputs": [
        {
          "output_type": "stream",
          "name": "stdout",
          "text": [
            "dict_values(['хлеб', 'молоко', 'мясо', 'творог', 'ягоды'])\n"
          ]
        }
      ]
    },
    {
      "cell_type": "code",
      "source": [
        "# Цикл по значениям словаря\n",
        "for val in shop_dict.values():\n",
        "  print(val)"
      ],
      "metadata": {
        "colab": {
          "base_uri": "https://localhost:8080/"
        },
        "id": "qrJi0UpTZ_SR",
        "outputId": "c2838750-8b54-431e-831c-a349e26ef849"
      },
      "execution_count": null,
      "outputs": [
        {
          "output_type": "stream",
          "name": "stdout",
          "text": [
            "хлеб\n",
            "молоко\n",
            "мясо\n",
            "творог\n",
            "ягоды\n"
          ]
        }
      ]
    },
    {
      "cell_type": "code",
      "metadata": {
        "id": "v5vDNYYa8sJg",
        "colab": {
          "base_uri": "https://localhost:8080/"
        },
        "outputId": "ca89990b-5a30-4d61-8e98-1479278e202b"
      },
      "source": [
        "# Получение всех пар словаря\n",
        "print(shop_dict.items())"
      ],
      "execution_count": null,
      "outputs": [
        {
          "output_type": "stream",
          "name": "stdout",
          "text": [
            "dict_items([(1, 'хлеб'), (2, 'молоко'), (3, 'мясо'), (4, 'творог'), (5, 'ягоды')])\n"
          ]
        }
      ]
    },
    {
      "cell_type": "code",
      "source": [
        "# Цикл по элементам (всех пар) словаря\n",
        "for item in shop_dict.items():\n",
        "  print(item)"
      ],
      "metadata": {
        "colab": {
          "base_uri": "https://localhost:8080/"
        },
        "id": "Vr4qtYKmDer3",
        "outputId": "1aff9898-a71c-4934-c7a3-d943caa124df"
      },
      "execution_count": null,
      "outputs": [
        {
          "output_type": "stream",
          "name": "stdout",
          "text": [
            "(1, 'хлеб')\n",
            "(2, 'молоко')\n",
            "(3, 'мясо')\n",
            "(4, 'творог')\n",
            "(5, 'ягоды')\n"
          ]
        }
      ]
    },
    {
      "cell_type": "code",
      "source": [
        "for k, v in shop_dict.items():\n",
        "  print(\"key:\", k, \" val:\", v)"
      ],
      "metadata": {
        "colab": {
          "base_uri": "https://localhost:8080/"
        },
        "id": "u7YkRcT4ZrBR",
        "outputId": "1170e870-36d0-4957-b91f-82caabdad147"
      },
      "execution_count": null,
      "outputs": [
        {
          "output_type": "stream",
          "name": "stdout",
          "text": [
            "key: 1  val: хлеб\n",
            "key: 2  val: молоко\n",
            "key: 3  val: мясо\n",
            "key: 4  val: творог\n",
            "key: 5  val: ягоды\n"
          ]
        }
      ]
    },
    {
      "cell_type": "code",
      "source": [
        "# Получаем значение по ключу\n",
        "shop_dict.get(3, \"Такого нет ключа\")"
      ],
      "metadata": {
        "colab": {
          "base_uri": "https://localhost:8080/",
          "height": 35
        },
        "id": "Ork5aCaEaiJZ",
        "outputId": "c0bf9837-3cc1-485a-8616-be61fccd2d50"
      },
      "execution_count": null,
      "outputs": [
        {
          "output_type": "execute_result",
          "data": {
            "text/plain": [
              "'мясо'"
            ],
            "application/vnd.google.colaboratory.intrinsic+json": {
              "type": "string"
            }
          },
          "metadata": {},
          "execution_count": 32
        }
      ]
    },
    {
      "cell_type": "code",
      "source": [
        "# Удаляем значение по ключу\n",
        "\n",
        "if 3 in shop_dict.keys():\n",
        "    shop_dict.pop(3)\n",
        "\n",
        "print(shop_dict)"
      ],
      "metadata": {
        "colab": {
          "base_uri": "https://localhost:8080/"
        },
        "id": "s3rIkz3Pa1g3",
        "outputId": "29bad357-04fb-49dc-ef16-7191e5356b1e"
      },
      "execution_count": null,
      "outputs": [
        {
          "output_type": "stream",
          "name": "stdout",
          "text": [
            "{1: 'хлеб', 2: 'молоко', 4: 'творог', 5: 'ягоды'}\n"
          ]
        }
      ]
    },
    {
      "cell_type": "markdown",
      "metadata": {
        "id": "nkfXRlarEpB8"
      },
      "source": [
        "**Методы словарей**\n",
        "\n",
        "- `clear()`\tудаляет все элементы из словаря;\n",
        "\n",
        "- `copy()`\tделает копию словаря;\n",
        "\n",
        "- `fromkeys()`\tвозвращает словарь с указанными ключами и значениями;\n",
        "\n",
        "- `get()`\tвозвращает значение по ключу;\n",
        "\n",
        "- `pop()`\tудаляет элементы по ключу;\n",
        "\n",
        "- `popitem()`\tудаляет последнюю пару ключа со значением;\n",
        "\n",
        "- `setdefault()`\tзадает значение по ключу. Если ключа нет в словаре, добавляет его с указанным значением или `None`."
      ]
    },
    {
      "cell_type": "markdown",
      "metadata": {
        "id": "YZi_tu9BMrj7"
      },
      "source": [
        "\n",
        "---\n",
        "Дополнительная информация ([База знаний УИИ - «**Методы работы со словарями**»](https://colab.research.google.com/drive/16jySAW85TgkxJbOgM1kM4Ej7UAbcG6w8?usp=sharing))\n",
        "\n",
        "---\n",
        "\n",
        "\n",
        "\n"
      ]
    }
  ]
}
