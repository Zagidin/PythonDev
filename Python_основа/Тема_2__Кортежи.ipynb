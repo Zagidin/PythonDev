{
  "nbformat": 4,
  "nbformat_minor": 0,
  "metadata": {
    "colab": {
      "provenance": [],
      "include_colab_link": true
    },
    "kernelspec": {
      "name": "python3",
      "display_name": "Python 3"
    },
    "language_info": {
      "name": "python"
    }
  },
  "cells": [
    {
      "cell_type": "markdown",
      "metadata": {
        "id": "view-in-github",
        "colab_type": "text"
      },
      "source": [
        "<a href=\"https://colab.research.google.com/github/Zagidin/PythonDev/blob/main/%D0%A2%D0%B5%D0%BC%D0%B0_2_%7C_%D0%9A%D0%BE%D1%80%D1%82%D0%B5%D0%B6%D0%B8.ipynb\" target=\"_parent\"><img src=\"https://colab.research.google.com/assets/colab-badge.svg\" alt=\"Open In Colab\"/></a>"
      ]
    },
    {
      "cell_type": "markdown",
      "metadata": {
        "id": "DKvkVSz9-8Tr"
      },
      "source": [
        "## **Кортежи (`tuple`)**"
      ]
    },
    {
      "cell_type": "markdown",
      "metadata": {
        "id": "DF2ptzjFra8c"
      },
      "source": [
        "**Кортеж (tuple)** – это тот же список, только в нем нельзя изменять значения. Кортежи занимают меньше памяти и работают быстрее, а потому рекомендуется использовать кортеж вместо списка там, где не требуется менять содержимое.\n",
        "\n",
        "Например, чтобы хранить дни недели по порядку (понедельник, вторник, среда и т.д.) лучше использовать кортеж, так как менять дни недели не придется – их всегда 7 и они всегда следуют в одном порядке.\n",
        "\n",
        "Однако чтобы хранить изменяемые данные, например, количество употребленных калорий за последние 7 дней, следует использовать список, так как каждый день его содержимое будет обновляться.\n",
        "\n",
        "Кортежи заключают в круглые `()` скобки.\n",
        "\n",
        "А теперь создадим разные кортежи:\n"
      ]
    },
    {
      "cell_type": "code",
      "metadata": {
        "id": "H6qSiEux-sQN",
        "colab": {
          "base_uri": "https://localhost:8080/"
        },
        "outputId": "d96eaac1-012c-4155-8a1b-52172877761b"
      },
      "source": [
        "# Создание пустого кортежа. Вариант 1\n",
        "empty_tuple = ()\n",
        "\n",
        "# Создание пустого кортежа. Вариант 2\n",
        "empty_tuple2 = tuple()\n",
        "\n",
        "print(empty_tuple, '  ', type(empty_tuple))\n",
        "print(empty_tuple2, '  ', type(empty_tuple2))"
      ],
      "execution_count": null,
      "outputs": [
        {
          "output_type": "stream",
          "name": "stdout",
          "text": [
            "()    <class 'tuple'>\n",
            "()    <class 'tuple'>\n"
          ]
        }
      ]
    },
    {
      "cell_type": "markdown",
      "metadata": {
        "id": "dbBcKck9dVYV"
      },
      "source": [
        "Также можно объявлять кортежи без скобок, но тогда нужно задать хотя бы два элемента или один элемент и поставить запятую:"
      ]
    },
    {
      "cell_type": "code",
      "metadata": {
        "id": "phgSUgoEdWKA",
        "colab": {
          "base_uri": "https://localhost:8080/"
        },
        "outputId": "7c0db5ca-6a24-458c-c3f1-eb54e2b45b95"
      },
      "source": [
        "my_tuple = 3, 7, True, [1, 2, 3]\n",
        "print(my_tuple, '  ', type(my_tuple))\n",
        "\n",
        "my_tuple[3][1] = 5\n",
        "my_tuple"
      ],
      "execution_count": null,
      "outputs": [
        {
          "output_type": "stream",
          "name": "stdout",
          "text": [
            "(3, 7, True, [1, 2, 3])    <class 'tuple'>\n"
          ]
        },
        {
          "output_type": "execute_result",
          "data": {
            "text/plain": [
              "(3, 7, True, [1, 5, 3])"
            ]
          },
          "metadata": {},
          "execution_count": 10
        }
      ]
    },
    {
      "cell_type": "code",
      "metadata": {
        "id": "BXWGoYChtisB",
        "colab": {
          "base_uri": "https://localhost:8080/"
        },
        "outputId": "e547bd79-9931-4ded-ce67-cef6c226a883"
      },
      "source": [
        "# Создание кортежа с элементами\n",
        "my_tuple = (1, 3.5, 'котик', -123)\n",
        "print(my_tuple, '  ', type(my_tuple))\n",
        "\n",
        "# Второй способ создания — без скобок\n",
        "my_tuple2 = 1, 3.5, 'котик', -123\n",
        "print(my_tuple2, '  ', type(my_tuple2))"
      ],
      "execution_count": null,
      "outputs": [
        {
          "output_type": "stream",
          "name": "stdout",
          "text": [
            "(1, 3.5, 'котик', -123)    <class 'tuple'>\n",
            "(1, 3.5, 'котик', -123)    <class 'tuple'>\n"
          ]
        }
      ]
    },
    {
      "cell_type": "markdown",
      "metadata": {
        "id": "iGEO8WAraa_E"
      },
      "source": [
        "Кортежи можно склеивать (конкатенировать) так же, как и строки, списки:"
      ]
    },
    {
      "cell_type": "code",
      "metadata": {
        "id": "a0PYexKWvEVz",
        "colab": {
          "base_uri": "https://localhost:8080/"
        },
        "outputId": "576c2b14-55c2-4c16-c7dc-c3ff2a8acb0a"
      },
      "source": [
        "# Сложение кортежей. Тогда второй присоединится в конец первого (конкатенация)\n",
        "sum_tuple = my_tuple + my_tuple2\n",
        "print(sum_tuple)"
      ],
      "execution_count": null,
      "outputs": [
        {
          "output_type": "stream",
          "name": "stdout",
          "text": [
            "(1, 3.5, 'котик', -123, 1, 3.5, 'котик', -123)\n"
          ]
        }
      ]
    },
    {
      "cell_type": "markdown",
      "metadata": {
        "id": "FmBYTdQtafi3"
      },
      "source": [
        "Так же, как и по спискам, вы можете пройти по кортежу циклом `for`:"
      ]
    },
    {
      "cell_type": "code",
      "metadata": {
        "id": "npCSUThIzhwE",
        "colab": {
          "base_uri": "https://localhost:8080/"
        },
        "outputId": "a6339912-aaba-41b5-f275-5120c5bfe964"
      },
      "source": [
        "# Пройдитесь циклом по кортежу\n",
        "for element in sum_tuple:\n",
        "  print(element)"
      ],
      "execution_count": null,
      "outputs": [
        {
          "output_type": "stream",
          "name": "stdout",
          "text": [
            "1\n",
            "3.5\n",
            "котик\n",
            "-123\n",
            "1\n",
            "3.5\n",
            "котик\n",
            "-123\n"
          ]
        }
      ]
    },
    {
      "cell_type": "markdown",
      "metadata": {
        "id": "OIveWEQhanQB"
      },
      "source": [
        "Доступ по индексам и срезам осуществляют так же, как и в случае со списками:"
      ]
    },
    {
      "cell_type": "code",
      "metadata": {
        "id": "nv6hEQkizzMM",
        "colab": {
          "base_uri": "https://localhost:8080/"
        },
        "outputId": "bee53225-6826-4194-ca7a-17fb3ad51ced"
      },
      "source": [
        "# Доступ к чтению элементов кортежа и к его срезам такой же, как и у списков\n",
        "\n",
        "print('Ваш кортеж:', sum_tuple)\n",
        "print('Доступ к первому элементу:', sum_tuple[0])\n",
        "print('Доступ к первому элементу с конца:', sum_tuple[-1])\n",
        "print('Срез данных от третьего до последнего элемента(вкл):', sum_tuple[2:])"
      ],
      "execution_count": null,
      "outputs": [
        {
          "output_type": "stream",
          "name": "stdout",
          "text": [
            "Ваш кортеж: (1, 3.5, 'котик', -123, 1, 3.5, 'котик', -123)\n",
            "Доступ к первому элементу: 1\n",
            "Доступ к первому элементу с конца: -123\n",
            "Срез данных от третьего до последнего элемента(вкл): ('котик', -123, 1, 3.5, 'котик', -123)\n"
          ]
        }
      ]
    },
    {
      "cell_type": "markdown",
      "metadata": {
        "id": "TDyucvO2awGT"
      },
      "source": [
        "Если же вы попробуете изменить элементы кортежа, то Python выдаст ошибку, так как это неизменяемый тип данных:"
      ]
    },
    {
      "cell_type": "code",
      "source": [
        "sum_tuple"
      ],
      "metadata": {
        "colab": {
          "base_uri": "https://localhost:8080/"
        },
        "id": "blbaL7ThhxNi",
        "outputId": "c03e8f85-01d5-499c-ff89-d0553fb5426b"
      },
      "execution_count": null,
      "outputs": [
        {
          "output_type": "execute_result",
          "data": {
            "text/plain": [
              "(1, 3.5, 'котик', -123, 1, 3.5, 'котик', -123)"
            ]
          },
          "metadata": {},
          "execution_count": 15
        }
      ]
    },
    {
      "cell_type": "code",
      "metadata": {
        "id": "-bPgk6oE0T6j",
        "colab": {
          "base_uri": "https://localhost:8080/",
          "height": 158
        },
        "outputId": "6a42fb78-21b5-4d5d-dbca-615591b6b478"
      },
      "source": [
        "# Менять элементы НЕЛЬЗЯ\n",
        "sum_tuple[2] = 'другой котик'"
      ],
      "execution_count": null,
      "outputs": [
        {
          "output_type": "error",
          "ename": "TypeError",
          "evalue": "'tuple' object does not support item assignment",
          "traceback": [
            "\u001b[0;31m---------------------------------------------------------------------------\u001b[0m",
            "\u001b[0;31mTypeError\u001b[0m                                 Traceback (most recent call last)",
            "\u001b[0;32m<ipython-input-16-b1a00686a8f3>\u001b[0m in \u001b[0;36m<cell line: 2>\u001b[0;34m()\u001b[0m\n\u001b[1;32m      1\u001b[0m \u001b[0;31m# Менять элементы НЕЛЬЗЯ\u001b[0m\u001b[0;34m\u001b[0m\u001b[0;34m\u001b[0m\u001b[0m\n\u001b[0;32m----> 2\u001b[0;31m \u001b[0msum_tuple\u001b[0m\u001b[0;34m[\u001b[0m\u001b[0;36m2\u001b[0m\u001b[0;34m]\u001b[0m \u001b[0;34m=\u001b[0m \u001b[0;34m'другой котик'\u001b[0m\u001b[0;34m\u001b[0m\u001b[0;34m\u001b[0m\u001b[0m\n\u001b[0m",
            "\u001b[0;31mTypeError\u001b[0m: 'tuple' object does not support item assignment"
          ]
        }
      ]
    },
    {
      "cell_type": "code",
      "metadata": {
        "id": "25tlGalM0av-",
        "colab": {
          "base_uri": "https://localhost:8080/",
          "height": 228
        },
        "outputId": "79201cb1-6bec-4aac-8173-4d0a85dd918c"
      },
      "source": [
        "# Менять элементы НЕЛЬЗЯ\n",
        "\n",
        "numbers_tuple = (5, 6, 7, 8, 9)\n",
        "print(numbers_tuple)\n",
        "for i in range(len(numbers_tuple)):\n",
        "  numbers_tuple[i] += 5\n",
        "\n",
        "print(numbers_tuple)"
      ],
      "execution_count": null,
      "outputs": [
        {
          "output_type": "stream",
          "name": "stdout",
          "text": [
            "(5, 6, 7, 8, 9)\n"
          ]
        },
        {
          "output_type": "error",
          "ename": "TypeError",
          "evalue": "'tuple' object does not support item assignment",
          "traceback": [
            "\u001b[0;31m---------------------------------------------------------------------------\u001b[0m",
            "\u001b[0;31mTypeError\u001b[0m                                 Traceback (most recent call last)",
            "\u001b[0;32m<ipython-input-17-f84f6a9fb274>\u001b[0m in \u001b[0;36m<cell line: 5>\u001b[0;34m()\u001b[0m\n\u001b[1;32m      4\u001b[0m \u001b[0mprint\u001b[0m\u001b[0;34m(\u001b[0m\u001b[0mnumbers_tuple\u001b[0m\u001b[0;34m)\u001b[0m\u001b[0;34m\u001b[0m\u001b[0;34m\u001b[0m\u001b[0m\n\u001b[1;32m      5\u001b[0m \u001b[0;32mfor\u001b[0m \u001b[0mi\u001b[0m \u001b[0;32min\u001b[0m \u001b[0mrange\u001b[0m\u001b[0;34m(\u001b[0m\u001b[0mlen\u001b[0m\u001b[0;34m(\u001b[0m\u001b[0mnumbers_tuple\u001b[0m\u001b[0;34m)\u001b[0m\u001b[0;34m)\u001b[0m\u001b[0;34m:\u001b[0m\u001b[0;34m\u001b[0m\u001b[0;34m\u001b[0m\u001b[0m\n\u001b[0;32m----> 6\u001b[0;31m   \u001b[0mnumbers_tuple\u001b[0m\u001b[0;34m[\u001b[0m\u001b[0mi\u001b[0m\u001b[0;34m]\u001b[0m \u001b[0;34m+=\u001b[0m \u001b[0;36m5\u001b[0m\u001b[0;34m\u001b[0m\u001b[0;34m\u001b[0m\u001b[0m\n\u001b[0m\u001b[1;32m      7\u001b[0m \u001b[0;34m\u001b[0m\u001b[0m\n\u001b[1;32m      8\u001b[0m \u001b[0mprint\u001b[0m\u001b[0;34m(\u001b[0m\u001b[0mnumbers_tuple\u001b[0m\u001b[0;34m)\u001b[0m\u001b[0;34m\u001b[0m\u001b[0;34m\u001b[0m\u001b[0m\n",
            "\u001b[0;31mTypeError\u001b[0m: 'tuple' object does not support item assignment"
          ]
        }
      ]
    },
    {
      "cell_type": "markdown",
      "metadata": {
        "id": "JpxxiKR7cNbA"
      },
      "source": [
        "### **Методы кортежей**"
      ]
    },
    {
      "cell_type": "markdown",
      "metadata": {
        "id": "XFDZZzQJMLHD"
      },
      "source": [
        "У кортежей всего два полезных метода: `index` и `count`.\n",
        "\n"
      ]
    },
    {
      "cell_type": "markdown",
      "metadata": {
        "id": "OdQb2PqiRFjD"
      },
      "source": [
        "Метод `index` принимает на вход какой-то элемент из кортежа и возвращает его индекс (позицию). Если этот элемент встречается в кортеже несколько раз, то метод `index` вернет индекс первого встретившегося элемента:"
      ]
    },
    {
      "cell_type": "code",
      "metadata": {
        "id": "IpxqSssO-RaX",
        "colab": {
          "base_uri": "https://localhost:8080/"
        },
        "outputId": "4e3da82b-0e24-4fff-9c8e-91661324d0be"
      },
      "source": [
        "# Метод .index() выводит индекс первого встречного элемента с указанным значением\n",
        "tuple_1 = (3, 'ночь', 124, 15, 124, -3.5)\n",
        "print(tuple_1)\n",
        "print(tuple_1.index(124))"
      ],
      "execution_count": null,
      "outputs": [
        {
          "output_type": "stream",
          "name": "stdout",
          "text": [
            "(3, 'ночь', 124, 15, 124, -3.5)\n",
            "2\n"
          ]
        }
      ]
    },
    {
      "cell_type": "markdown",
      "metadata": {
        "id": "feAyd7QLSEE8"
      },
      "source": [
        "Метод `count` тоже принимает на вход элемент из кортежа и возвращает количество таких элементов в нем:"
      ]
    },
    {
      "cell_type": "code",
      "metadata": {
        "id": "ijnpAqd_-R0n",
        "colab": {
          "base_uri": "https://localhost:8080/"
        },
        "outputId": "93233e1d-d0fa-4ba5-b770-00428a438fb2"
      },
      "source": [
        "# Метод .count() показывает, сколько раз элемент встречается в кортеже\n",
        "print(tuple_1.count(124))\n",
        "print(tuple_1.count('ночь'))"
      ],
      "execution_count": null,
      "outputs": [
        {
          "output_type": "stream",
          "name": "stdout",
          "text": [
            "2\n",
            "1\n"
          ]
        }
      ]
    },
    {
      "cell_type": "markdown",
      "source": [
        "Длину кортежа можно узнать с помощью функции `len()`"
      ],
      "metadata": {
        "id": "E-0bvP1BCQZ6"
      }
    },
    {
      "cell_type": "code",
      "source": [
        "len(tuple_1)"
      ],
      "metadata": {
        "id": "rKPh3FCqCI5Q"
      },
      "execution_count": null,
      "outputs": []
    },
    {
      "cell_type": "markdown",
      "metadata": {
        "id": "XPgO9fm5Mi3h"
      },
      "source": [
        "---\n",
        "Дополнительная информация ([База знаний УИИ - «**Методы работы с кортежами**»](https://colab.research.google.com/drive/1pAysntvUrXSs32_WYL1iqmnpcUIdVsLa?usp=sharing))\n",
        "\n",
        "---\n",
        "\n",
        "\n",
        "\n"
      ]
    }
  ]
}
