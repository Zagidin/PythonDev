{
  "nbformat": 4,
  "nbformat_minor": 0,
  "metadata": {
    "colab": {
      "provenance": [],
      "include_colab_link": true
    },
    "kernelspec": {
      "name": "python3",
      "display_name": "Python 3"
    },
    "language_info": {
      "name": "python"
    }
  },
  "cells": [
    {
      "cell_type": "markdown",
      "metadata": {
        "id": "view-in-github",
        "colab_type": "text"
      },
      "source": [
        "<a href=\"https://colab.research.google.com/github/Zagidin/PythonDev/blob/main/%D0%A2%D0%B5%D0%BC%D0%B0_1_%7C_%D0%A1%D0%BF%D0%B8%D1%81%D0%BA%D0%B8.ipynb\" target=\"_parent\"><img src=\"https://colab.research.google.com/assets/colab-badge.svg\" alt=\"Open In Colab\"/></a>"
      ]
    },
    {
      "cell_type": "markdown",
      "metadata": {
        "id": "IU5Lb-O3pE6Z"
      },
      "source": [
        "Сегодня вы изучите тему, которую можно назвать фундаментом всего обучения. Для лучшего понимания вы примените уже пройденные конструкции и приемы. Структуры данных — практически бездонный раздел. В этом уроке вы изучите основы, а оставшиеся детали и методы примените на практике при дальнейшем обучении.\n",
        "\n",
        "Рассмотрите четыре структуры данных в Python:\n",
        " - списки;\n",
        " - кортежи;\n",
        " - словари;\n",
        " - множества."
      ]
    },
    {
      "cell_type": "markdown",
      "metadata": {
        "id": "J6sM-sABw_ms"
      },
      "source": [
        "**Структуры данных** – структуры, которые могут хранить некоторые данные вместе. То есть их используют для хранения связанных данных. В Python существуют четыре встроенных структуры данных: список, кортеж, словарь и множество."
      ]
    },
    {
      "cell_type": "markdown",
      "metadata": {
        "id": "Vio7W_SZ7qgs"
      },
      "source": [
        "## **Списки (`list`)**"
      ]
    },
    {
      "cell_type": "markdown",
      "metadata": {
        "id": "BXdJ2WlJqV5J"
      },
      "source": [
        "**Списки** (`list`) — структура данных, которую чаще всего используют."
      ]
    },
    {
      "cell_type": "markdown",
      "metadata": {
        "id": "1KkpzeE0ziBa"
      },
      "source": [
        "Список хранит упорядоченный набор (последовательность) элементов различных типов. Краткая сводка:\n",
        "\n",
        "1. Доступ к элементам осуществляют по индексам.\n",
        "2. Список заключают в квадратные `[]` скобки.\n",
        "3. Элементы в списке идут через запятую.\n",
        "\n",
        "Список — это  **изменяемый**  тип данных, т.е в него можно добавлять, вставлять элементы. В нем же можно их удалять и заменять. У каждого элемента в списке есть свой порядковый номер — индекс. По этому индексу и обращаются к элементам в списках.\n",
        "\n",
        "Ниже представлены два варианта создания пустого списка. Пустые списки создают для того, чтобы впоследствии заполнять их нужными элементами."
      ]
    },
    {
      "cell_type": "code",
      "metadata": {
        "id": "XvZRruwv4vkR"
      },
      "source": [
        "# Создание пустого списка. Вариант 1\n",
        "empty_list = []\n",
        "# Создание пустого списка. Вариант 2\n",
        "empty_list2 = list()"
      ],
      "execution_count": null,
      "outputs": []
    },
    {
      "cell_type": "code",
      "metadata": {
        "id": "-Ql518u6RMgg",
        "colab": {
          "base_uri": "https://localhost:8080/"
        },
        "outputId": "6f6f56a1-7842-49e0-c0fe-1e3b5eaa1784"
      },
      "source": [
        "print(empty_list, '  ', type(empty_list))\n",
        "print(empty_list2, '  ', type(empty_list2))"
      ],
      "execution_count": null,
      "outputs": [
        {
          "output_type": "stream",
          "name": "stdout",
          "text": [
            "[]    <class 'list'>\n",
            "[]    <class 'list'>\n"
          ]
        }
      ]
    },
    {
      "cell_type": "markdown",
      "metadata": {
        "id": "o0wW_7Szq6Vi"
      },
      "source": [
        "Чтобы создать непустой список, поместите объекты в квадратные скобки через запятую:"
      ]
    },
    {
      "cell_type": "code",
      "metadata": {
        "id": "rffs9pblBMoO",
        "colab": {
          "base_uri": "https://localhost:8080/"
        },
        "outputId": "689d7ccc-8a09-44d0-e0ff-cd8bbf669dfa"
      },
      "source": [
        "# Создаем список с элементами разного типа\n",
        "my_list = [1, 3.5, 'котик', -123]\n",
        "print(my_list, '  ', type(my_list))"
      ],
      "execution_count": null,
      "outputs": [
        {
          "output_type": "stream",
          "name": "stdout",
          "text": [
            "[1, 3.5, 'котик', -123]    <class 'list'>\n"
          ]
        }
      ]
    },
    {
      "cell_type": "markdown",
      "metadata": {
        "id": "LL0OwbQ1raD6"
      },
      "source": [
        "Примечательно, что в список можно помещать элементы любых типов данных. Например, можно поместить в список еще один список:"
      ]
    },
    {
      "cell_type": "code",
      "metadata": {
        "id": "NGO7-8G_VRA2",
        "colab": {
          "base_uri": "https://localhost:8080/"
        },
        "outputId": "813688e3-e405-4d16-8a2b-95d0ac72d4f7"
      },
      "source": [
        "# Создание второго списка, внутри которого находится вложенный список\n",
        "my_list2 = [0, False, [1, 'str']]\n",
        "print(my_list2, type(my_list2))"
      ],
      "execution_count": null,
      "outputs": [
        {
          "output_type": "stream",
          "name": "stdout",
          "text": [
            "[0, False, [1, 'str']] <class 'list'>\n"
          ]
        }
      ]
    },
    {
      "cell_type": "markdown",
      "metadata": {
        "id": "AxBT3xOdrz8F"
      },
      "source": [
        "Что делать с только что созданными списками? Для начала сложите их вместе: эта операция просто «склеит» перечисленные списки один за другим, конкатенирует их. Ранее вы уже сталкивались с этой операцией, когда складывали строки."
      ]
    },
    {
      "cell_type": "code",
      "source": [
        "print(my_list)\n",
        "print(my_list2)"
      ],
      "metadata": {
        "colab": {
          "base_uri": "https://localhost:8080/"
        },
        "id": "lJGTO4dxLyLA",
        "outputId": "47dd0d06-50af-4b35-abb2-895d7027e459"
      },
      "execution_count": null,
      "outputs": [
        {
          "output_type": "stream",
          "name": "stdout",
          "text": [
            "[1, 3.5, 'котик', -123]\n",
            "[0, False, [1, 'str']]\n"
          ]
        }
      ]
    },
    {
      "cell_type": "code",
      "metadata": {
        "id": "xCIXDVlMVeSw",
        "colab": {
          "base_uri": "https://localhost:8080/"
        },
        "outputId": "4ff7feff-e2af-460d-e30d-e79a5755dab9"
      },
      "source": [
        "# Конкатенация списков\n",
        "sum_list = my_list + my_list2\n",
        "print(sum_list)"
      ],
      "execution_count": null,
      "outputs": [
        {
          "output_type": "stream",
          "name": "stdout",
          "text": [
            "[1, 3.5, 'котик', -123, 0, False, [1, 'str']]\n"
          ]
        }
      ]
    },
    {
      "cell_type": "markdown",
      "metadata": {
        "id": "xWPRYzZisIrl"
      },
      "source": [
        "Еще вы можете умножить список на целое число. Это приведет к тому, что элементы списка повторятся столько раз, сколько указано в множителе (опять же, аналогично строкам). То есть список приклеится сам к себе столько раз, на сколько вы умножили:"
      ]
    },
    {
      "cell_type": "code",
      "metadata": {
        "id": "KDy2J-y6agns",
        "colab": {
          "base_uri": "https://localhost:8080/"
        },
        "outputId": "f882eb85-4e6a-412a-c7c1-75e0d4ec645b"
      },
      "source": [
        "# Списки можно умножить на целое число\n",
        "\n",
        "multi_list = my_list * 3  # произведение списка и числа\n",
        "print(multi_list)"
      ],
      "execution_count": null,
      "outputs": [
        {
          "output_type": "stream",
          "name": "stdout",
          "text": [
            "[1, 3.5, 'котик', -123, 1, 3.5, 'котик', -123, 1, 3.5, 'котик', -123]\n"
          ]
        }
      ]
    },
    {
      "cell_type": "markdown",
      "metadata": {
        "id": "VetCXoAaT6ta"
      },
      "source": [
        "Однако у вас не получится умножить один список на другой:"
      ]
    },
    {
      "cell_type": "code",
      "metadata": {
        "id": "f0LUAZ0VT48B",
        "colab": {
          "base_uri": "https://localhost:8080/",
          "height": 141
        },
        "outputId": "4b5d91e3-7b35-4a66-e590-a8eb8904a77c"
      },
      "source": [
        "multi_list = my_list * my_list2  # но список на список умножить нельзя!"
      ],
      "execution_count": null,
      "outputs": [
        {
          "output_type": "error",
          "ename": "TypeError",
          "evalue": "can't multiply sequence by non-int of type 'list'",
          "traceback": [
            "\u001b[0;31m---------------------------------------------------------------------------\u001b[0m",
            "\u001b[0;31mTypeError\u001b[0m                                 Traceback (most recent call last)",
            "\u001b[0;32m<ipython-input-11-2f22480455cc>\u001b[0m in \u001b[0;36m<cell line: 1>\u001b[0;34m()\u001b[0m\n\u001b[0;32m----> 1\u001b[0;31m \u001b[0mmulti_list\u001b[0m \u001b[0;34m=\u001b[0m \u001b[0mmy_list\u001b[0m \u001b[0;34m*\u001b[0m \u001b[0mmy_list2\u001b[0m  \u001b[0;31m# но список на список умножить нельзя!\u001b[0m\u001b[0;34m\u001b[0m\u001b[0;34m\u001b[0m\u001b[0m\n\u001b[0m",
            "\u001b[0;31mTypeError\u001b[0m: can't multiply sequence by non-int of type 'list'"
          ]
        }
      ]
    },
    {
      "cell_type": "markdown",
      "metadata": {
        "id": "vPLOEGfOtNJv"
      },
      "source": [
        "Элементы списка можно перебрать циклом, то есть итеративно пройтись по списку циклом `for`. Похожее вы уже делали со строками, когда изучали, что цикл `for` отлично работает с последовательностями:"
      ]
    },
    {
      "cell_type": "code",
      "source": [
        "sum_list"
      ],
      "metadata": {
        "colab": {
          "base_uri": "https://localhost:8080/"
        },
        "id": "z-ss7ELhMcUO",
        "outputId": "58c6930f-07ff-4862-8fb3-751c0f1608bd"
      },
      "execution_count": null,
      "outputs": [
        {
          "output_type": "execute_result",
          "data": {
            "text/plain": [
              "[1, 3.5, 'котик', -123, 0, False, [1, 'str']]"
            ]
          },
          "metadata": {},
          "execution_count": 12
        }
      ]
    },
    {
      "cell_type": "code",
      "metadata": {
        "id": "DyJHURWgILr4",
        "colab": {
          "base_uri": "https://localhost:8080/"
        },
        "outputId": "70200d20-0ae4-4a8b-e3c8-df957d9dd5ce"
      },
      "source": [
        "# Пройдитесь циклом по списку\n",
        "\n",
        "for element in sum_list:\n",
        "  print(element, '\\t', type(element))"
      ],
      "execution_count": null,
      "outputs": [
        {
          "output_type": "stream",
          "name": "stdout",
          "text": [
            "1 \t <class 'int'>\n",
            "3.5 \t <class 'float'>\n",
            "котик \t <class 'str'>\n",
            "-123 \t <class 'int'>\n",
            "0 \t <class 'int'>\n",
            "False \t <class 'bool'>\n",
            "[1, 'str'] \t <class 'list'>\n"
          ]
        }
      ]
    },
    {
      "cell_type": "markdown",
      "metadata": {
        "id": "un6q1U5REVMu"
      },
      "source": [
        "**Функция `len()`**"
      ]
    },
    {
      "cell_type": "markdown",
      "metadata": {
        "id": "zbGM7lV1tn_g"
      },
      "source": [
        "При работе с коллекциями данных часто необходимо узнать длину этой коллекции, то есть узнать число элементов. Для этого в Python есть специальная встроенная функция:\n",
        "\n",
        ">`len()` выдает длину коллекции данных, т.е. количество элементов, хранящихся в ней.\n",
        "\n",
        "Вы можете вызвать ее как обычную функцию и передать внутри скобок коллекцию, длину которой вам необходимо узнать:"
      ]
    },
    {
      "cell_type": "code",
      "metadata": {
        "id": "19ojyO65hVLC",
        "colab": {
          "base_uri": "https://localhost:8080/"
        },
        "outputId": "f95e0331-2188-497d-9dec-5c95a0de66da"
      },
      "source": [
        "# Узнать длину пустого списка\n",
        "len([])"
      ],
      "execution_count": null,
      "outputs": [
        {
          "output_type": "execute_result",
          "data": {
            "text/plain": [
              "0"
            ]
          },
          "metadata": {},
          "execution_count": 14
        }
      ]
    },
    {
      "cell_type": "markdown",
      "metadata": {
        "id": "zrap6qriuSoa"
      },
      "source": [
        "Теперь подайте список, внутри которого есть элементы:"
      ]
    },
    {
      "cell_type": "code",
      "metadata": {
        "id": "BmX-Zg_FU3nx",
        "colab": {
          "base_uri": "https://localhost:8080/"
        },
        "outputId": "60248211-bfb0-484e-8e19-834b33fb488e"
      },
      "source": [
        "# Узнать длину списка с некоторым числом элементов\n",
        "lst_1= [1, 2, 3, 4, 5, '6', 7.0, 'восемь']\n",
        "len(lst_1)"
      ],
      "execution_count": null,
      "outputs": [
        {
          "output_type": "execute_result",
          "data": {
            "text/plain": [
              "8"
            ]
          },
          "metadata": {},
          "execution_count": 15
        }
      ]
    },
    {
      "cell_type": "markdown",
      "metadata": {
        "id": "y3xmiF8GuYGp"
      },
      "source": [
        "Также вы можете передать в функцию заранее подготовленный список, сохраненный в переменной:"
      ]
    },
    {
      "cell_type": "code",
      "metadata": {
        "id": "pOl_U3uqS9eH",
        "colab": {
          "base_uri": "https://localhost:8080/"
        },
        "outputId": "0b316dfe-7896-474e-ef03-efa272d6c8ee"
      },
      "source": [
        "print(my_list)\n",
        "print('Количество элементов в списке:', len(my_list))"
      ],
      "execution_count": null,
      "outputs": [
        {
          "output_type": "stream",
          "name": "stdout",
          "text": [
            "[1, 3.5, 'котик', -123]\n",
            "Количество элементов в списке: 4\n"
          ]
        }
      ]
    },
    {
      "cell_type": "code",
      "source": [
        "%who"
      ],
      "metadata": {
        "colab": {
          "base_uri": "https://localhost:8080/"
        },
        "id": "5n-sfMdrNKHN",
        "outputId": "6fcb6eed-9e35-4f8c-c155-e165b24ddc81"
      },
      "execution_count": null,
      "outputs": [
        {
          "output_type": "stream",
          "name": "stdout",
          "text": [
            "element\t empty_list\t empty_list2\t lst_1\t multi_list\t my_list\t my_list2\t sum_list\t \n"
          ]
        }
      ]
    },
    {
      "cell_type": "markdown",
      "metadata": {
        "id": "SFw201uNuw25"
      },
      "source": [
        "Вы можете создать переменную строкового типа, и в отдельных случаях она будет себя вести как коллекция данных, хоть и является базовым типом данных:"
      ]
    },
    {
      "cell_type": "code",
      "metadata": {
        "id": "UZwESC-1g14E"
      },
      "source": [
        "# Создание строки\n",
        "text = 'Привет, Мир!'"
      ],
      "execution_count": null,
      "outputs": []
    },
    {
      "cell_type": "code",
      "metadata": {
        "id": "jjAr31J0VjOY",
        "colab": {
          "base_uri": "https://localhost:8080/"
        },
        "outputId": "8235b5f3-4b1e-4e17-b1ad-25f2209100f2"
      },
      "source": [
        "# Вывод типа и содержание переменной\n",
        "print(text, type(text))"
      ],
      "execution_count": null,
      "outputs": [
        {
          "output_type": "stream",
          "name": "stdout",
          "text": [
            "Привет, Мир! <class 'str'>\n"
          ]
        }
      ]
    },
    {
      "cell_type": "code",
      "metadata": {
        "id": "lfFn3hbHVwN8",
        "colab": {
          "base_uri": "https://localhost:8080/"
        },
        "outputId": "0e0d884c-af66-4a3a-9363-f8f0187c0585"
      },
      "source": [
        "# Запрос размера строки\n",
        "print('Количество элементов в строке:', len(text))"
      ],
      "execution_count": null,
      "outputs": [
        {
          "output_type": "stream",
          "name": "stdout",
          "text": [
            "Количество элементов в строке: 12\n"
          ]
        }
      ]
    },
    {
      "cell_type": "markdown",
      "metadata": {
        "id": "tV90YrXuvLzN"
      },
      "source": [
        "Обратите внимание: в функцию `len` можно передавать только один объект. Функция не обрабатывает несколько объектов, поданных через запятую:"
      ]
    },
    {
      "cell_type": "code",
      "metadata": {
        "id": "_BHIPXGAThMN",
        "colab": {
          "base_uri": "https://localhost:8080/"
        },
        "outputId": "c822d674-64c3-4e19-d5e4-6ce0e4516cc9"
      },
      "source": [
        "len((1, 3, 'hi'))"
      ],
      "execution_count": null,
      "outputs": [
        {
          "output_type": "execute_result",
          "data": {
            "text/plain": [
              "3"
            ]
          },
          "metadata": {},
          "execution_count": 23
        }
      ]
    },
    {
      "cell_type": "markdown",
      "metadata": {
        "id": "JSTbCUz3vfjk"
      },
      "source": [
        "В последовательностях, в частности и в списках, элементы не просто собраны в бесструктурную кучу. Они пронумерованы (проиндексированы), и каждый элемент имеет свой номер или индекс. В программировании индексация всегда начинается с 0, поэтому первый элемент в последовательности имеет индекс 0, второй — 1, третий — 2 и так далее.\n",
        "\n",
        "Также вы можете обращаться к элементам последовательности посредством отрицательных индексов. Чаще всего это используют в тех случаях, когда необходимо обратиться к элементам где-то в конце коллекции. Либо когда известно, что нужная информация находится в определенной позиции с конца, а размер всего списка варьируется. Соответственно, проще найти нужный элемент, ориентируясь на конец списка.\n",
        "\n",
        "Это работает следующим образом. Последнему элементу в списке соответствует индекс `-1`. Предпоследнему — `-2` и так далее."
      ]
    },
    {
      "cell_type": "markdown",
      "metadata": {
        "id": "ib5hoWOoX3YO"
      },
      "source": [
        "**Индексация**\n",
        "\n",
        "![списки.png](data:image/png;base64,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)"
      ]
    },
    {
      "cell_type": "markdown",
      "metadata": {
        "id": "Lj2Hx_X9xeAd"
      },
      "source": [
        "Вы можете обращаться к элементам списка посредством положительных индексов:"
      ]
    },
    {
      "cell_type": "code",
      "source": [
        "my_list"
      ],
      "metadata": {
        "colab": {
          "base_uri": "https://localhost:8080/"
        },
        "id": "1_Ty9hccOYpW",
        "outputId": "56c293ca-f82e-4aad-a61b-48fa4edba7e2"
      },
      "execution_count": null,
      "outputs": [
        {
          "output_type": "execute_result",
          "data": {
            "text/plain": [
              "[1, 3.5, 'котик', -123]"
            ]
          },
          "metadata": {},
          "execution_count": 24
        }
      ]
    },
    {
      "cell_type": "code",
      "metadata": {
        "id": "zgb1Cp8_isA_",
        "colab": {
          "base_uri": "https://localhost:8080/"
        },
        "outputId": "2f14c535-b786-4a20-a8f7-dc93d56b7cda"
      },
      "source": [
        "# Последовательный вывод элементов списка с начала\n",
        "\n",
        "print('Наш список:', my_list)\n",
        "print('Доступ к первому элементу:\\t', my_list[0])\n",
        "print('Доступ ко второму элементу:\\t', my_list[1])\n",
        "print('Доступ к третьему элементу:\\t', my_list[2])\n",
        "print('Доступ к четвертому элементу:\\t', my_list[3])"
      ],
      "execution_count": null,
      "outputs": [
        {
          "output_type": "stream",
          "name": "stdout",
          "text": [
            "Наш список: [1, 3.5, 'котик', -123]\n",
            "Доступ к первому элементу:\t 1\n",
            "Доступ ко второму элементу:\t 3.5\n",
            "Доступ к третьему элементу:\t котик\n",
            "Доступ к четвертому элементу:\t -123\n"
          ]
        }
      ]
    },
    {
      "cell_type": "markdown",
      "metadata": {
        "id": "7EyMQ57Txl2b"
      },
      "source": [
        "Или посредством отрицательных индексов:"
      ]
    },
    {
      "cell_type": "code",
      "metadata": {
        "id": "7t9Kwj11jS5V",
        "colab": {
          "base_uri": "https://localhost:8080/"
        },
        "outputId": "95901ff9-cf13-4153-8826-f43d983b0da5"
      },
      "source": [
        "# Последовательный вывод элементов списка с конца\n",
        "print('Наш список:', my_list)\n",
        "print('Доступ к первому элементу с конца:\\t', my_list[-1])\n",
        "print('Доступ ко второму элементу с конца:\\t', my_list[-2])\n",
        "print('Доступ к третьему элементу с конца:\\t', my_list[-3])\n",
        "print('Доступ к четвертому элементу с конца:\\t', my_list[-4])"
      ],
      "execution_count": null,
      "outputs": [
        {
          "output_type": "stream",
          "name": "stdout",
          "text": [
            "Наш список: [1, 3.5, 'котик', -123]\n",
            "Доступ к первому элементу с конца:\t -123\n",
            "Доступ ко второму элементу с конца:\t котик\n",
            "Доступ к третьему элементу с конца:\t 3.5\n",
            "Доступ к четвертому элементу с конца:\t 1\n"
          ]
        }
      ]
    },
    {
      "cell_type": "markdown",
      "metadata": {
        "id": "4bHI-xvAx1jh"
      },
      "source": [
        "Как вы могли заметить, отрицательная индексация начинается не с `-0`, а с `-1`.\n",
        "\n",
        "Еще одна интересная особенность. Если внутри списка содержится еще одна коллекция, то вы также можете обращаться к ее элементам с помощью индексов:"
      ]
    },
    {
      "cell_type": "code",
      "metadata": {
        "id": "FybjEpDUW33K",
        "colab": {
          "base_uri": "https://localhost:8080/",
          "height": 70
        },
        "outputId": "5d3c99e9-ef52-4d3c-9b0e-14c1a0780546"
      },
      "source": [
        "# Доступ к элементам вложенного списка\n",
        "\n",
        "print(sum_list)\n",
        "print(len(sum_list))\n",
        "last_elem = len(sum_list) -1\n",
        "sum_list[last_elem][1]"
      ],
      "execution_count": null,
      "outputs": [
        {
          "output_type": "stream",
          "name": "stdout",
          "text": [
            "[1, 3.5, 'котик', -123, 0, False, [1, 'str']]\n",
            "7\n"
          ]
        },
        {
          "output_type": "execute_result",
          "data": {
            "text/plain": [
              "'str'"
            ],
            "application/vnd.google.colaboratory.intrinsic+json": {
              "type": "string"
            }
          },
          "metadata": {},
          "execution_count": 27
        }
      ]
    },
    {
      "cell_type": "code",
      "source": [
        "sum_list[-1][-2]"
      ],
      "metadata": {
        "colab": {
          "base_uri": "https://localhost:8080/"
        },
        "id": "ums1VzZtVFyd",
        "outputId": "c02a45ed-0fcd-4c32-b044-340acd7e6f0b"
      },
      "execution_count": null,
      "outputs": [
        {
          "output_type": "execute_result",
          "data": {
            "text/plain": [
              "1"
            ]
          },
          "metadata": {},
          "execution_count": 31
        }
      ]
    },
    {
      "cell_type": "markdown",
      "metadata": {
        "id": "qhRZ36dJkAKP"
      },
      "source": [
        "**Срезы данных в последовательностях**\n",
        "\n",
        "Вы можете не только выбирать какие-либо одиночные элементы из списков, но и целые группы элементов с помощью срезов. Для этого вам нужно указать индексы в квадратных скобках. Только не один, а два, поскольку они указывают на промежуток списка, элементы которого вы хотите выбрать без включения правой границы. Если же вы не укажите одну из границ среза, то Python посчитает этой границей тот или иной конец списка:"
      ]
    },
    {
      "cell_type": "code",
      "source": [
        "lst_exp = [i for i in range(5000)]\n",
        "result = lst_exp[0:5] + lst_exp[-5:]\n",
        "result"
      ],
      "metadata": {
        "colab": {
          "base_uri": "https://localhost:8080/"
        },
        "id": "KIn2oKNTREEG",
        "outputId": "9c112a6a-bc9f-4185-987a-0b803ae790bf"
      },
      "execution_count": null,
      "outputs": [
        {
          "output_type": "execute_result",
          "data": {
            "text/plain": [
              "[0, 1, 2, 3, 4, 4995, 4996, 4997, 4998, 4999]"
            ]
          },
          "metadata": {},
          "execution_count": 32
        }
      ]
    },
    {
      "cell_type": "code",
      "source": [
        "lst = [1, 3.5, 'котик', -123, 0, False, [1, 'str']]\n",
        "lst[-1].append(True)\n",
        "lst"
      ],
      "metadata": {
        "colab": {
          "base_uri": "https://localhost:8080/"
        },
        "id": "xEIjP_ecpl0q",
        "outputId": "09a1e202-743e-42f8-bfd1-e12ed1dd736d"
      },
      "execution_count": null,
      "outputs": [
        {
          "output_type": "execute_result",
          "data": {
            "text/plain": [
              "[1, 3.5, 'котик', -123, 0, False, [1, 'str', True]]"
            ]
          },
          "metadata": {},
          "execution_count": 3
        }
      ]
    },
    {
      "cell_type": "code",
      "metadata": {
        "id": "pVwfoFZHjxAC",
        "colab": {
          "base_uri": "https://localhost:8080/"
        },
        "outputId": "0565b852-0ccb-4ce2-ba3c-20f2230c423c"
      },
      "source": [
        "print('Ваш список:', sum_list, '\\n')\n",
        "print('Срез данных с первыми тремя элементами:', sum_list[0:3])\n",
        "print('Срез данных от второго до пятого элемента (вкл):', sum_list[1:5])\n",
        "print('Срез данных от третьего до последнего элемента (вкл):', sum_list[2:])\n",
        "print('Срез данных от первого до третьего элемента (вкл):', sum_list[:3])\n",
        "print('Срез данных от первого до третьего элемента (вкл):', sum_list[::-1])"
      ],
      "execution_count": null,
      "outputs": [
        {
          "output_type": "stream",
          "name": "stdout",
          "text": [
            "Ваш список: [1, 3.5, 'котик', -123, 0, False, [1, 'str']] \n",
            "\n",
            "Срез данных с первыми тремя элементами: [1, 3.5, 'котик']\n",
            "Срез данных от второго до пятого элемента (вкл): [3.5, 'котик', -123, 0]\n",
            "Срез данных от третьего до последнего элемента (вкл): ['котик', -123, 0, False, [1, 'str']]\n",
            "Срез данных от первого до третьего элемента (вкл): [1, 3.5, 'котик']\n",
            "Срез данных от первого до третьего элемента (вкл): [[1, 'str'], False, 0, -123, 'котик', 3.5, 1]\n"
          ]
        }
      ]
    },
    {
      "cell_type": "markdown",
      "source": [
        "Еще пример. Если у вас есть список длиной 60000 элементов. Необходимо поделить его на 3 части.\n",
        "\n",
        "Делим его на три части с помощью срезов:\n",
        "- от 0 до 48000, обозначается `[:48000]`\n",
        "- от 48000 до 54000, обозначается `[48000:54000]`\n",
        "- от 54000 до конца, обозначается `[54000:]`\n",
        "\n",
        "\n",
        "---\n",
        "\n"
      ],
      "metadata": {
        "id": "QB2uJBcm3lkr"
      }
    },
    {
      "cell_type": "markdown",
      "metadata": {
        "id": "qS8Ke33Do2yg"
      },
      "source": [
        "С помощью доступа по индексам можно менять элементы списка. Чтобы манипулировать элементами списка, обратитесь к нужному элементу по индексу и перезапишите его с помощью оператора присваивания `=`."
      ]
    },
    {
      "cell_type": "code",
      "metadata": {
        "id": "loByCtiMpDfk",
        "colab": {
          "base_uri": "https://localhost:8080/"
        },
        "outputId": "1a1d92a0-7cfa-4916-a84a-28778f11aa55"
      },
      "source": [
        "# Замена котика из списка на другого котика\n",
        "print('Изначальный список:', sum_list)"
      ],
      "execution_count": null,
      "outputs": [
        {
          "output_type": "stream",
          "name": "stdout",
          "text": [
            "Изначальный список: [1, 3.5, 'котик', -123, 0, False, [1, 'str']]\n"
          ]
        }
      ]
    },
    {
      "cell_type": "code",
      "metadata": {
        "id": "w-uqe3GCa3Nc",
        "colab": {
          "base_uri": "https://localhost:8080/"
        },
        "outputId": "7375a5d8-b274-4b6a-c514-16b94e5624be"
      },
      "source": [
        "print('Изначальный элемент по индексу 2:', sum_list[2])"
      ],
      "execution_count": null,
      "outputs": [
        {
          "output_type": "stream",
          "name": "stdout",
          "text": [
            "Изначальный элемент по индексу 2: котик\n"
          ]
        }
      ]
    },
    {
      "cell_type": "code",
      "metadata": {
        "id": "xcix3Bnpa4_S"
      },
      "source": [
        "# Замена по индексу. Название_списка[номер индекса элемента] = новый_объект\n",
        "sum_list[2] = 'другой котик'"
      ],
      "execution_count": null,
      "outputs": []
    },
    {
      "cell_type": "code",
      "metadata": {
        "id": "24QTH2Goa6HT",
        "colab": {
          "base_uri": "https://localhost:8080/"
        },
        "outputId": "af75a6bd-bc26-4cde-9da0-888b6741e615"
      },
      "source": [
        "print('Новый список:', sum_list)"
      ],
      "execution_count": null,
      "outputs": [
        {
          "output_type": "stream",
          "name": "stdout",
          "text": [
            "Новый список: [1, 3.5, 'другой котик', -123, 0, False, [1, 'str']]\n"
          ]
        }
      ]
    },
    {
      "cell_type": "markdown",
      "metadata": {
        "id": "ztRjI9ZD1BaM"
      },
      "source": [
        "Теперь пример поинтересней: создайте простой список чисел, выведите его на экран.\n",
        "\n",
        "Создайте цикл `for`, но немного в другой конструкции. Создайте диапазон чисел с помощью функции `range`, но длину этого диапазона укажите не числом, а длиной списка — `numbers_list`. Так цикл запустит пять итераций и переменная `i` примет значения от 0 до 4. С помощью нее вы можете обращаться к элементам списка, используя ее как индекс.\n",
        "\n",
        "Попробуйте увеличить каждый элемент списка на пять:"
      ]
    },
    {
      "cell_type": "code",
      "metadata": {
        "id": "baFPgkGZn0kp",
        "colab": {
          "base_uri": "https://localhost:8080/"
        },
        "outputId": "1052a29f-fc9c-4c31-cca5-379366637284"
      },
      "source": [
        "# Изменение элементов списка с помощью цикла\n",
        "\n",
        "numbers_list = [5, 6, 7, 8, 9, \"str\"]\n",
        "print('Было: ', numbers_list)\n",
        "\n",
        "for i in range(len(numbers_list)):\n",
        "  if isinstance(numbers_list[i], str):\n",
        "    numbers_list.pop(i)\n",
        "\n",
        "print('Стало:', numbers_list)"
      ],
      "execution_count": null,
      "outputs": [
        {
          "output_type": "stream",
          "name": "stdout",
          "text": [
            "Было:  [5, 6, 7, 8, 9, 'str']\n",
            "Стало: [5, 6, 7, 8, 9]\n"
          ]
        }
      ]
    },
    {
      "cell_type": "code",
      "source": [
        "list(range(len(numbers_list)))"
      ],
      "metadata": {
        "id": "-Khz4ZXq0nzP",
        "colab": {
          "base_uri": "https://localhost:8080/"
        },
        "outputId": "012a090f-bd4f-4ceb-f717-8e2b506f288b"
      },
      "execution_count": null,
      "outputs": [
        {
          "output_type": "execute_result",
          "data": {
            "text/plain": [
              "[0, 1, 2, 3, 4]"
            ]
          },
          "metadata": {},
          "execution_count": 41
        }
      ]
    },
    {
      "cell_type": "markdown",
      "metadata": {
        "id": "R73OjXz4X18I"
      },
      "source": [
        "Вы можете спросить, зачем использовать функции `len` и `range`, если можно сделать проще:\n",
        "\n",
        "`for number in numbers_list:`?\n",
        "\n",
        "Но если вы увеличите переменную `number`, это никак не повлияет на элементы списка."
      ]
    },
    {
      "cell_type": "code",
      "metadata": {
        "id": "ZKtxXmjHtm5G",
        "colab": {
          "base_uri": "https://localhost:8080/"
        },
        "outputId": "9ee1b435-5567-4dc4-e973-876086ced5d6"
      },
      "source": [
        "# Такой вариант только для чтения! Изменить список не получится\n",
        "\n",
        "numbers_list = [5, 6, 7, 8, 9]\n",
        "print('Было: ', numbers_list)\n",
        "\n",
        "for number in numbers_list:\n",
        "  number += 5\n",
        "  print(number, end=\"; \")\n",
        "print()\n",
        "\n",
        "print('Стало:', numbers_list)"
      ],
      "execution_count": null,
      "outputs": [
        {
          "output_type": "stream",
          "name": "stdout",
          "text": [
            "Было:  [5, 6, 7, 8, 9]\n",
            "10; 11; 12; 13; 14; \n",
            "Стало: [5, 6, 7, 8, 9]\n"
          ]
        }
      ]
    },
    {
      "cell_type": "markdown",
      "metadata": {
        "id": "MjyfVK-scHyY"
      },
      "source": [
        "### **Методы списков**"
      ]
    },
    {
      "cell_type": "code",
      "source": [
        "lst_1 = [1, 3, 2, 3]\n",
        "lst_2 = [4, 5, 6]\n",
        "\n",
        "lst_1[2] = 17\n",
        "rmv = lst_1.pop(2)\n",
        "print(lst_1.count(3))\n",
        "print(rmv)"
      ],
      "metadata": {
        "colab": {
          "base_uri": "https://localhost:8080/"
        },
        "id": "uuqix9CmUcWy",
        "outputId": "e6efbcb0-7395-43ba-c701-a8c9beed90ad"
      },
      "execution_count": null,
      "outputs": [
        {
          "output_type": "stream",
          "name": "stdout",
          "text": [
            "2\n",
            "17\n"
          ]
        }
      ]
    },
    {
      "cell_type": "markdown",
      "source": [
        "\n",
        "* `list.append(x)`\tДобавляет элемент в конец списка\n",
        "* `list.extend(L)`\tРасширяет список `list`, добавляя в конец все элементы списка `L`\n",
        "* `list.insert(i, x)`\tВставляет на `i`-ый элемент значение `x`\n",
        "* `list.remove(x)`\tУдаляет первый элемент в списке, имеющий значение `x`. ValueError, если такого элемента не существует\n",
        "* `list.pop([i])`\tУдаляет `i`-ый элемент и возвращает его. Если индекс не указан, удаляется последний элемент\n",
        "* `list.index(x, [start [, end]])`\tВозвращает положение первого элемента со значением `x` (при этом поиск ведется от `start` до `end`)\n",
        "* `list.count(x)`\tВозвращает количество элементов со значением `x`\n",
        "* `list.sort([key=функция])`\tСортирует список на основе функции\n",
        "* `list.reverse()`\tРазворачивает список\n",
        "* `list.copy()`\tКопия списка\n",
        "* `list.clear()`\tОчищает список\n",
        "\n"
      ],
      "metadata": {
        "id": "3QMac4hLsJ01"
      }
    },
    {
      "cell_type": "markdown",
      "metadata": {
        "id": "eo14owLP08RW"
      },
      "source": [
        "Создайте переменную, которая содержит список продуктов.\n",
        "\n",
        "Когда вы создаете новую переменную, в пространстве Python появляется новый объект с данными. И каждый такой объект принадлежит тому или иному типу или структуре данных:"
      ]
    },
    {
      "cell_type": "code",
      "metadata": {
        "id": "RqXIM8rhT-Or",
        "colab": {
          "base_uri": "https://localhost:8080/"
        },
        "outputId": "04bff655-4211-43ae-cf7f-e22db2fd913f"
      },
      "source": [
        "# Создание объекта класса list\n",
        "shop_list = ['хлеб', 'каша', 'молоко', 'мясо', 'макороны', 'творог', 'торт', 'фрукты']\n",
        "print(shop_list)"
      ],
      "execution_count": null,
      "outputs": [
        {
          "output_type": "stream",
          "name": "stdout",
          "text": [
            "['хлеб', 'каша', 'молоко', 'мясо', 'макороны', 'творог', 'торт', 'фрукты']\n"
          ]
        }
      ]
    },
    {
      "cell_type": "markdown",
      "metadata": {
        "id": "68zxpzSI5QSR"
      },
      "source": [
        "Один из самых популярных методов для списков — `append`. Он добавляет в конец списка еще один элемент:"
      ]
    },
    {
      "cell_type": "code",
      "metadata": {
        "id": "3wlFKkrOV6w1",
        "colab": {
          "base_uri": "https://localhost:8080/"
        },
        "outputId": "353d02c4-6245-402d-9070-277cb75b2926"
      },
      "source": [
        "# Добавьте в список новую покупку с помощью метода списков .append()\n",
        "shop_list.append('ягоды')\n",
        "print(shop_list)"
      ],
      "execution_count": null,
      "outputs": [
        {
          "output_type": "stream",
          "name": "stdout",
          "text": [
            "['хлеб', 'каша', 'молоко', 'мясо', 'макороны', 'творог', 'торт', 'фрукты', 'ягоды']\n"
          ]
        }
      ]
    },
    {
      "cell_type": "markdown",
      "source": [
        "Часто метод `append` используют для заполнения пустого списка различными значениями."
      ],
      "metadata": {
        "id": "US7DO1JUwrgr"
      }
    },
    {
      "cell_type": "markdown",
      "source": [
        "Найдём элемент `'каша'` и удалим его.\n",
        "* `list.index(x, [start [, end]])`\tВозвращает положение первого элемента со значением `x` (при этом поиск ведется от `start` до `end`)\n",
        "* `list.pop([i])`\tУдаляет `i`-ый элемент и возвращает его."
      ],
      "metadata": {
        "id": "bC3WLj9Cu3IX"
      }
    },
    {
      "cell_type": "code",
      "source": [
        "# Поиск индекса элемента 'каша'\n",
        "ind = shop_list.index('каша')\n",
        "ind"
      ],
      "metadata": {
        "id": "R9OLtTHfu5Cn",
        "colab": {
          "base_uri": "https://localhost:8080/"
        },
        "outputId": "39ab6946-90ce-4acd-ab90-1bc42883b347"
      },
      "execution_count": null,
      "outputs": [
        {
          "output_type": "execute_result",
          "data": {
            "text/plain": [
              "1"
            ]
          },
          "metadata": {},
          "execution_count": 51
        }
      ]
    },
    {
      "cell_type": "code",
      "source": [
        "# Удаляем элемент по индексу ind\n",
        "shop_list.pop(ind)\n",
        "print(shop_list)"
      ],
      "metadata": {
        "id": "ENW48awVv9jV",
        "colab": {
          "base_uri": "https://localhost:8080/"
        },
        "outputId": "250a9210-86b5-4bed-9dcd-5dd95d4af884"
      },
      "execution_count": null,
      "outputs": [
        {
          "output_type": "stream",
          "name": "stdout",
          "text": [
            "['хлеб', 'мясо', 'макороны', 'творог', 'торт', 'фрукты', 'ягоды']\n"
          ]
        }
      ]
    },
    {
      "cell_type": "markdown",
      "source": [
        " Удалить элемент с заданным значением можно одной функцией:\n",
        " * `list.remove(x)`\tУдаляет первый элемент в списке, имеющий значение `x`. Если такого элемента не существует, то выдаст ошибку `ValueError`."
      ],
      "metadata": {
        "id": "B6TmBkyF2GH3"
      }
    },
    {
      "cell_type": "code",
      "source": [
        "# Удаляем элемент со значением 'макороны'\n",
        "if 'макороны' in shop_list:\n",
        "    shop_list.remove('макороны')\n",
        "print(shop_list)"
      ],
      "metadata": {
        "id": "FMOOkGiP2UYs",
        "colab": {
          "base_uri": "https://localhost:8080/"
        },
        "outputId": "ecfbde38-f490-49a2-f0b6-2bc85d43f11f"
      },
      "execution_count": null,
      "outputs": [
        {
          "output_type": "stream",
          "name": "stdout",
          "text": [
            "['хлеб', 'мясо', 'творог', 'торт', 'фрукты', 'ягоды']\n"
          ]
        }
      ]
    },
    {
      "cell_type": "markdown",
      "metadata": {
        "id": "Qg-JQQWY22t6"
      },
      "source": [
        "\n",
        "\n",
        "Решите задачу:\n",
        "\n",
        ">Получите список натуральных чисел до 10 включительно, используя `for` и метод списка `append`.\n",
        "\n",
        "Создайте пустой список, который скоро заполните натуральными числами. Далее пройдитесь циклом `for` по списку чисел. При условии, что текущее число положительное, добавьте его в список `integers`."
      ]
    },
    {
      "cell_type": "code",
      "metadata": {
        "id": "OtzSnNjI22bD",
        "colab": {
          "base_uri": "https://localhost:8080/"
        },
        "outputId": "9067229d-7717-46f1-e42c-d0387d6c250e"
      },
      "source": [
        "# Создание пустого списка\n",
        "integers = []\n",
        "\n",
        "# Использование цикла for и range для генерации чисел от 1 до 10 (вкл)\n",
        "for i in range(1, 11):\n",
        "\n",
        "  # Каждое число от 1 до 10 добавляется список\n",
        "  integers.append(i)\n",
        "\n",
        "print(integers)"
      ],
      "execution_count": null,
      "outputs": [
        {
          "output_type": "stream",
          "name": "stdout",
          "text": [
            "[1, 2, 3, 4, 5, 6, 7, 8, 9, 10]\n"
          ]
        }
      ]
    },
    {
      "cell_type": "markdown",
      "metadata": {
        "id": "nRCVa11q6mfV"
      },
      "source": [
        "Еще одна задача:\n",
        "\n",
        ">Есть список чисел. Получите список с этими же данными, но числа в нем должны быть только положительными.\n",
        "\n",
        "Создайте пустой список, который скоро заполните положительными числами. Пройдитесь циклом `for` по списку чисел. При условии, что текущее число положительное, добавьте его в список `positive_numbers`."
      ]
    },
    {
      "cell_type": "code",
      "metadata": {
        "id": "ZESbD94pV6u1",
        "colab": {
          "base_uri": "https://localhost:8080/"
        },
        "outputId": "89850c39-ec71-449d-b642-9c73817be6db"
      },
      "source": [
        "# Создание списка с вещественными числами\n",
        "numbers_list = [17, 1, -3, 2.5, -134, 94.3, -35]\n",
        "\n",
        "# Создание пустого списка для заполнения положительными числами\n",
        "pos_nums = []\n",
        "\n",
        "# Пробегание в цикле по всем числам списка\n",
        "for number in numbers_list:\n",
        "\n",
        "  # Если число положительное...\n",
        "  if number > 0:\n",
        "\n",
        "    # .. то оно добавляется в список положительных чисел\n",
        "    positive_numbers.append(number)\n",
        "\n",
        "print(positive_numbers)"
      ],
      "execution_count": null,
      "outputs": [
        {
          "output_type": "stream",
          "name": "stdout",
          "text": [
            "[17, 1, 2.5, 94.3]\n"
          ]
        }
      ]
    },
    {
      "cell_type": "markdown",
      "metadata": {
        "id": "dqFMhsmxQOaQ"
      },
      "source": [
        "Списки нередко приходится сортировать, то есть располагать их элементы в определенном порядке. Для этого есть специальная функция `sorted`:"
      ]
    },
    {
      "cell_type": "code",
      "metadata": {
        "id": "a5-mbdEV1TMm",
        "colab": {
          "base_uri": "https://localhost:8080/"
        },
        "outputId": "2481af86-0495-4838-9626-84685cf0ba54"
      },
      "source": [
        "print('Список до сортировки:', positive_numbers)"
      ],
      "execution_count": null,
      "outputs": [
        {
          "output_type": "stream",
          "name": "stdout",
          "text": [
            "Список до сортировки: [17, 1, 2.5, 94.3]\n"
          ]
        }
      ]
    },
    {
      "cell_type": "code",
      "source": [
        "positive_numbers.sort()"
      ],
      "metadata": {
        "id": "6RxsJMxqcIs6"
      },
      "execution_count": null,
      "outputs": []
    },
    {
      "cell_type": "code",
      "source": [
        "print('Список до сортировки:', positive_numbers)"
      ],
      "metadata": {
        "colab": {
          "base_uri": "https://localhost:8080/"
        },
        "id": "BJ9VoNONZKoj",
        "outputId": "1eb4570d-982c-4c9e-99bf-98c07375890c"
      },
      "execution_count": null,
      "outputs": [
        {
          "output_type": "stream",
          "name": "stdout",
          "text": [
            "Список до сортировки: [1, 2.5, 17, 94.3]\n"
          ]
        }
      ]
    },
    {
      "cell_type": "code",
      "metadata": {
        "id": "gpEdF7rl4qBW"
      },
      "source": [
        "# Создание копии, сортировка и сохранение результата в новую переменную\n",
        "sorted_list = sorted(positive_numbers)"
      ],
      "execution_count": null,
      "outputs": []
    },
    {
      "cell_type": "code",
      "metadata": {
        "id": "K8-MGN4i4un7",
        "colab": {
          "base_uri": "https://localhost:8080/"
        },
        "outputId": "074d4a16-a74f-4546-8791-d24f17ea449d"
      },
      "source": [
        "print('Список после сортировки:', sorted_list)"
      ],
      "execution_count": null,
      "outputs": [
        {
          "output_type": "stream",
          "name": "stdout",
          "text": [
            "Список после сортировки: [1, 2.5, 17, 94.3]\n"
          ]
        }
      ]
    },
    {
      "cell_type": "markdown",
      "metadata": {
        "id": "wowB1v2c5QBt"
      },
      "source": [
        "Оригинальный список при этом не сортируется:"
      ]
    },
    {
      "cell_type": "code",
      "metadata": {
        "id": "y9sIx2ac5kXC",
        "colab": {
          "base_uri": "https://localhost:8080/"
        },
        "outputId": "84ed4aac-634b-43d3-8ff4-c937e91ed028"
      },
      "source": [
        "# оригинальный (несортированный) список\n",
        "positive_numbers"
      ],
      "execution_count": null,
      "outputs": [
        {
          "output_type": "execute_result",
          "data": {
            "text/plain": [
              "[1, 2.5, 17, 94.3]"
            ]
          },
          "metadata": {},
          "execution_count": 69
        }
      ]
    },
    {
      "cell_type": "markdown",
      "metadata": {
        "id": "JVK3uaCo42Zt"
      },
      "source": [
        "Сортируется только его копия и сохраняется в новую переменную `sorted_list`.\n",
        "\n",
        "Для сортировки оригинального списка используйте метод списка `.sort()`:"
      ]
    },
    {
      "cell_type": "code",
      "source": [
        "# Сортировка оригинального списка по убыванию\n",
        "positive_numbers.sort(reverse=True)\n",
        "\n",
        "positive_numbers"
      ],
      "metadata": {
        "id": "Un5vJVStX-KZ",
        "colab": {
          "base_uri": "https://localhost:8080/"
        },
        "outputId": "6529290d-c4a3-4a08-f964-f1b78527fef1"
      },
      "execution_count": null,
      "outputs": [
        {
          "output_type": "execute_result",
          "data": {
            "text/plain": [
              "[94.3, 17, 2.5, 1]"
            ]
          },
          "metadata": {},
          "execution_count": 70
        }
      ]
    },
    {
      "cell_type": "code",
      "metadata": {
        "id": "taC2Lity5-Cs",
        "colab": {
          "base_uri": "https://localhost:8080/"
        },
        "outputId": "5b19e2f4-63d7-4c73-d84b-9e8c5c424636"
      },
      "source": [
        "# Сортировка оригинального списка по возрастанию\n",
        "positive_numbers.sort()\n",
        "\n",
        "positive_numbers"
      ],
      "execution_count": null,
      "outputs": [
        {
          "output_type": "execute_result",
          "data": {
            "text/plain": [
              "[1, 2.5, 17, 94.3]"
            ]
          },
          "metadata": {},
          "execution_count": 75
        }
      ]
    },
    {
      "cell_type": "markdown",
      "source": [
        "Более практичный пример:"
      ],
      "metadata": {
        "id": "y-IEaira8deC"
      }
    },
    {
      "cell_type": "code",
      "source": [
        "# Создаём новый список\n",
        "alpha_nums = ['три','один','два','четыре','пять']\n",
        "alpha_nums.sort(key=len)\n",
        "alpha_nums"
      ],
      "metadata": {
        "id": "9_IxaIEf8iPU",
        "colab": {
          "base_uri": "https://localhost:8080/"
        },
        "outputId": "5dc429f7-a212-4c74-d838-856d63053015"
      },
      "execution_count": null,
      "outputs": [
        {
          "output_type": "execute_result",
          "data": {
            "text/plain": [
              "['три', 'два', 'один', 'пять', 'четыре']"
            ]
          },
          "metadata": {},
          "execution_count": 77
        }
      ]
    },
    {
      "cell_type": "markdown",
      "source": [
        "**<h1>Дополнительная информация**"
      ],
      "metadata": {
        "id": "Ow6UJTCIp88e"
      }
    },
    {
      "cell_type": "markdown",
      "source": [
        "**<h2>Запаковка/распаковка и вхождение**"
      ],
      "metadata": {
        "id": "LWMmJ-rNq1TO"
      }
    },
    {
      "cell_type": "code",
      "source": [
        "lst = [1, 3.5, 'котик', -123, 0, False, [1, 'str']]\n",
        "\n",
        "if [1, 'str'] in lst:\n",
        "    lst.remove([1, 'str'])\n",
        "\n",
        "print(lst)\n",
        "\n",
        "if 'котик' in lst:\n",
        "    lst.remove('котик')\n",
        "\n",
        "print(lst)\n"
      ],
      "metadata": {
        "id": "05wuYcXWq8C2",
        "colab": {
          "base_uri": "https://localhost:8080/"
        },
        "outputId": "29a8bcd7-bbc6-467a-a6f1-93afe6d22f1f"
      },
      "execution_count": null,
      "outputs": [
        {
          "output_type": "stream",
          "name": "stdout",
          "text": [
            "[1, 3.5, 'котик', -123, 0, False]\n",
            "[1, 3.5, -123, 0, False]\n"
          ]
        }
      ]
    },
    {
      "cell_type": "code",
      "source": [
        "a, b, *c = [1, 3.5, -123, 0, False]\n",
        "print(a, b, c, sep=\"\\n\")"
      ],
      "metadata": {
        "id": "PCaGWMr2r2oN",
        "colab": {
          "base_uri": "https://localhost:8080/"
        },
        "outputId": "58f60c75-866b-4afe-9c85-dd0ecca97be1"
      },
      "execution_count": null,
      "outputs": [
        {
          "output_type": "stream",
          "name": "stdout",
          "text": [
            "1\n",
            "3.5\n",
            "[-123, 0, False]\n"
          ]
        }
      ]
    },
    {
      "cell_type": "code",
      "source": [
        "z, *_ = c\n",
        "z"
      ],
      "metadata": {
        "id": "5GGRt7pEsE9d",
        "colab": {
          "base_uri": "https://localhost:8080/"
        },
        "outputId": "2a4897d4-4dcd-41fc-839f-bec1e97c9731"
      },
      "execution_count": null,
      "outputs": [
        {
          "output_type": "execute_result",
          "data": {
            "text/plain": [
              "-123"
            ]
          },
          "metadata": {},
          "execution_count": 84
        }
      ]
    },
    {
      "cell_type": "code",
      "source": [
        "lst_1 = [1, 3.5, -123, 0, False]\n",
        "print(*lst_1, sep=\", \")"
      ],
      "metadata": {
        "colab": {
          "base_uri": "https://localhost:8080/"
        },
        "id": "mexLTOrYbOPf",
        "outputId": "91b4acbd-77b0-45ed-cdf2-017b41b5bc58"
      },
      "execution_count": null,
      "outputs": [
        {
          "output_type": "stream",
          "name": "stdout",
          "text": [
            "1, 3.5, -123, 0, False\n"
          ]
        }
      ]
    },
    {
      "cell_type": "markdown",
      "source": [
        "**<h2>List comprehension *(en-ru - Понимание списка)***\n",
        "\n",
        "быстрое создание списков\n",
        "\n",
        "Вариант 1 - Простая генерация:"
      ],
      "metadata": {
        "id": "bTP6nPhHjoje"
      }
    },
    {
      "cell_type": "code",
      "source": [
        "lst = []\n",
        "\n",
        "for i in range(0, 11):\n",
        "    lst.append(i)\n",
        "\n",
        "lst"
      ],
      "metadata": {
        "colab": {
          "base_uri": "https://localhost:8080/"
        },
        "id": "dwCQdMeeboc-",
        "outputId": "1ec82db9-d875-465d-c74b-c0e81f509495"
      },
      "execution_count": null,
      "outputs": [
        {
          "output_type": "execute_result",
          "data": {
            "text/plain": [
              "[0, 1, 2, 3, 4, 5, 6, 7, 8, 9, 10]"
            ]
          },
          "metadata": {},
          "execution_count": 88
        }
      ]
    },
    {
      "cell_type": "code",
      "source": [
        "lst = [i for i in range(0, 11)]\n",
        "lst"
      ],
      "metadata": {
        "id": "NTulN9mckKnY",
        "colab": {
          "base_uri": "https://localhost:8080/"
        },
        "outputId": "acf85864-6b61-4841-b268-728c5ef9d022"
      },
      "execution_count": null,
      "outputs": [
        {
          "output_type": "execute_result",
          "data": {
            "text/plain": [
              "[0, 1, 2, 3, 4, 5, 6, 7, 8, 9, 10]"
            ]
          },
          "metadata": {},
          "execution_count": 89
        }
      ]
    },
    {
      "cell_type": "code",
      "source": [
        "lst = [i.lower() for i in 'Привет']\n",
        "lst"
      ],
      "metadata": {
        "id": "vxg0vbMDmhXH",
        "colab": {
          "base_uri": "https://localhost:8080/"
        },
        "outputId": "88c6967a-c8fb-4c81-a457-c9972a2c069d"
      },
      "execution_count": null,
      "outputs": [
        {
          "output_type": "execute_result",
          "data": {
            "text/plain": [
              "['п', 'р', 'и', 'в', 'е', 'т']"
            ]
          },
          "metadata": {},
          "execution_count": 91
        }
      ]
    },
    {
      "cell_type": "markdown",
      "source": [
        "Вариант 2 - Генерация с условием"
      ],
      "metadata": {
        "id": "UDP3ZHx1mpJO"
      }
    },
    {
      "cell_type": "code",
      "source": [
        "lst = []\n",
        "\n",
        "for i in range(0, 11):\n",
        "    if i % 2 == 0:\n",
        "        lst.append(i)\n",
        "\n",
        "lst"
      ],
      "metadata": {
        "colab": {
          "base_uri": "https://localhost:8080/"
        },
        "id": "dCWKurtWcTM1",
        "outputId": "9fc176a9-1824-413a-adc1-1d5b87db3964"
      },
      "execution_count": null,
      "outputs": [
        {
          "output_type": "execute_result",
          "data": {
            "text/plain": [
              "[0, 2, 4, 6, 8, 10]"
            ]
          },
          "metadata": {},
          "execution_count": 92
        }
      ]
    },
    {
      "cell_type": "code",
      "source": [
        "lst = [i for i in range(0, 11) if i % 2 == 0]\n",
        "lst"
      ],
      "metadata": {
        "id": "tEVeR0Lmmr92",
        "colab": {
          "base_uri": "https://localhost:8080/"
        },
        "outputId": "1b17ea7d-e633-4276-e36d-88e1b40ceece"
      },
      "execution_count": null,
      "outputs": [
        {
          "output_type": "execute_result",
          "data": {
            "text/plain": [
              "[0, 2, 4, 6, 8, 10]"
            ]
          },
          "metadata": {},
          "execution_count": 93
        }
      ]
    },
    {
      "cell_type": "code",
      "source": [
        "lst = []\n",
        "\n",
        "for i in range(0, 11):\n",
        "    temp = 1 if i%2 == 0 else 0\n",
        "    lst.append(temp)\n",
        "\n",
        "lst"
      ],
      "metadata": {
        "colab": {
          "base_uri": "https://localhost:8080/"
        },
        "id": "ylviC-8jc7bF",
        "outputId": "af384b83-e0a8-4014-c074-37c12edcf706"
      },
      "execution_count": null,
      "outputs": [
        {
          "output_type": "execute_result",
          "data": {
            "text/plain": [
              "[1, 0, 1, 0, 1, 0, 1, 0, 1, 0, 1]"
            ]
          },
          "metadata": {},
          "execution_count": 94
        }
      ]
    },
    {
      "cell_type": "code",
      "source": [
        "arr = [i for i in range(0, 11)]\n",
        "lst = [1 if i%2 == 0 else 0 for i in range(0, 11)]\n",
        "print(f\"{arr}\\n{lst}\")"
      ],
      "metadata": {
        "id": "u5TCimr2m9Ne",
        "colab": {
          "base_uri": "https://localhost:8080/"
        },
        "outputId": "333a19e0-51e7-4fb9-a326-c02df5878093"
      },
      "execution_count": null,
      "outputs": [
        {
          "output_type": "stream",
          "name": "stdout",
          "text": [
            "[0, 1, 2, 3, 4, 5, 6, 7, 8, 9, 10]\n",
            "[1, 0, 1, 0, 1, 0, 1, 0, 1, 0, 1]\n"
          ]
        }
      ]
    },
    {
      "cell_type": "markdown",
      "source": [
        "Вариант 3 - Генератор с циклом"
      ],
      "metadata": {
        "id": "W9OnMhoBna0v"
      }
    },
    {
      "cell_type": "code",
      "source": [
        "lst = []\n",
        "\n",
        "for i in range(1, 5):\n",
        "    for j in range(2, 8):\n",
        "        lst.append(i * j)\n",
        "\n",
        "print(*lst)"
      ],
      "metadata": {
        "colab": {
          "base_uri": "https://localhost:8080/"
        },
        "id": "41-uF7rzdSy1",
        "outputId": "6083d028-266d-46c3-85b9-87cd4dfe6014"
      },
      "execution_count": null,
      "outputs": [
        {
          "output_type": "stream",
          "name": "stdout",
          "text": [
            "2 3 4 5 6 7 4 6 8 10 12 14 6 9 12 15 18 21 8 12 16 20 24 28\n"
          ]
        }
      ]
    },
    {
      "cell_type": "code",
      "source": [
        "lst = [i * j for i in range(1, 5) for j in range(2, 8)]\n",
        "print(*lst)"
      ],
      "metadata": {
        "id": "EqGgfqsRno8u",
        "colab": {
          "base_uri": "https://localhost:8080/"
        },
        "outputId": "9139fc51-f747-4ad3-bc42-aff0b27a4308"
      },
      "execution_count": null,
      "outputs": [
        {
          "output_type": "stream",
          "name": "stdout",
          "text": [
            "2 3 4 5 6 7 4 6 8 10 12 14 6 9 12 15 18 21 8 12 16 20 24 28\n"
          ]
        }
      ]
    },
    {
      "cell_type": "code",
      "source": [
        "# Напишем тоже самое в развернутом виде\n",
        "lst = []\n",
        "\n",
        "for i in range(1, 4):\n",
        "    for j in range(1, 4):\n",
        "        lst.append(i * j)\n",
        "\n",
        "print(lst)"
      ],
      "metadata": {
        "id": "4-GVekf5n5bm",
        "colab": {
          "base_uri": "https://localhost:8080/"
        },
        "outputId": "f66c5e8c-4468-448d-ede3-6aafb86b64e2"
      },
      "execution_count": null,
      "outputs": [
        {
          "output_type": "stream",
          "name": "stdout",
          "text": [
            "[1, 2, 3, 2, 4, 6, 3, 6, 9]\n"
          ]
        }
      ]
    },
    {
      "cell_type": "markdown",
      "source": [
        "Вариант 4 - Генерация вложенных списков"
      ],
      "metadata": {
        "id": "S52D9pQAodk3"
      }
    },
    {
      "cell_type": "code",
      "source": [
        "lst = [ [i * j for i in range(0, 4)] for j in range(0, 4)]\n",
        "print(lst)\n",
        "print()\n",
        "print(*lst, sep=\"\\n\")"
      ],
      "metadata": {
        "id": "1ZWqwvSBoitO",
        "colab": {
          "base_uri": "https://localhost:8080/"
        },
        "outputId": "ad148f5e-e820-4f7c-8409-aa5404823455"
      },
      "execution_count": null,
      "outputs": [
        {
          "output_type": "stream",
          "name": "stdout",
          "text": [
            "[[0, 0, 0, 0], [0, 1, 2, 3], [0, 2, 4, 6], [0, 3, 6, 9]]\n",
            "\n",
            "[0, 0, 0, 0]\n",
            "[0, 1, 2, 3]\n",
            "[0, 2, 4, 6]\n",
            "[0, 3, 6, 9]\n"
          ]
        }
      ]
    },
    {
      "cell_type": "code",
      "source": [
        "# Напишем тоже самое в развернутом виде\n",
        "lst = []\n",
        "\n",
        "for i in range(0, 4):\n",
        "    temp = []\n",
        "    for j in range(0, 4):\n",
        "        temp.append(i * j)\n",
        "    lst.append(temp)\n",
        "\n",
        "print(lst)\n",
        "print()\n",
        "print(*lst, sep=\"\\n\")"
      ],
      "metadata": {
        "id": "Ky7QSHeiqG_W",
        "colab": {
          "base_uri": "https://localhost:8080/"
        },
        "outputId": "26f30cec-81a2-402f-d68e-8767baac4c45"
      },
      "execution_count": null,
      "outputs": [
        {
          "output_type": "stream",
          "name": "stdout",
          "text": [
            "[[0, 0, 0, 0], [0, 1, 2, 3], [0, 2, 4, 6], [0, 3, 6, 9]]\n",
            "\n",
            "[0, 0, 0, 0]\n",
            "[0, 1, 2, 3]\n",
            "[0, 2, 4, 6]\n",
            "[0, 3, 6, 9]\n"
          ]
        }
      ]
    },
    {
      "cell_type": "code",
      "source": [
        "original = [1,2,3,4,5]\n",
        "result = []\n",
        "start = -1\n",
        "stop = len(original) * (-1) - 1\n",
        "step = -1\n",
        "for i in range(start, stop, step):\n",
        "    result.append(original[i])\n",
        "print(result)"
      ],
      "metadata": {
        "colab": {
          "base_uri": "https://localhost:8080/"
        },
        "id": "tfTLVm3NSQSi",
        "outputId": "64c6d671-ea2d-46da-9d6e-53a512ec5c49"
      },
      "execution_count": null,
      "outputs": [
        {
          "output_type": "stream",
          "name": "stdout",
          "text": [
            "[5, 4, 3, 2, 1]\n"
          ]
        }
      ]
    },
    {
      "cell_type": "code",
      "source": [],
      "metadata": {
        "id": "xfzkde-NSkIY"
      },
      "execution_count": null,
      "outputs": []
    }
  ]
}
