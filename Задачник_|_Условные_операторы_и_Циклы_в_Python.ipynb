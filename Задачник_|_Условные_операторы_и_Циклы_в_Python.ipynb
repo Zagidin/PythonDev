{
  "nbformat": 4,
  "nbformat_minor": 0,
  "metadata": {
    "colab": {
      "provenance": [],
      "collapsed_sections": [
        "eAwvfAjs1wdB",
        "rlSksCzR11II",
        "QnT1ye-QLIp8",
        "ZOOxPM8cLIqL",
        "puuINSDI1tA2",
        "P_G-JQqXVeuC",
        "Pj9V1jK8uTpw",
        "Dp3f8C93u1qa",
        "Zho634yCtIzW",
        "eSM6iL-DVeuE",
        "vlZDAfMwVeuF",
        "BGl26Yh6VeuF",
        "HB_V0XrcM6Za",
        "CbYATXlOM6Zq",
        "IW0IMLaUykun",
        "EaGP0aiCyy-S",
        "R11QJphROsnk",
        "ilXglilUOsoN",
        "oBmlRVY5SFxS",
        "TAerVFwpSFx2"
      ],
      "include_colab_link": true
    },
    "kernelspec": {
      "name": "python3",
      "display_name": "Python 3"
    },
    "language_info": {
      "name": "python"
    }
  },
  "cells": [
    {
      "cell_type": "markdown",
      "metadata": {
        "id": "view-in-github",
        "colab_type": "text"
      },
      "source": [
        "<a href=\"https://colab.research.google.com/github/Zagidin/PythonDev/blob/main/%D0%97%D0%B0%D0%B4%D0%B0%D1%87%D0%BD%D0%B8%D0%BA_%7C_%D0%A3%D1%81%D0%BB%D0%BE%D0%B2%D0%BD%D1%8B%D0%B5_%D0%BE%D0%BF%D0%B5%D1%80%D0%B0%D1%82%D0%BE%D1%80%D1%8B_%D0%B8_%D0%A6%D0%B8%D0%BA%D0%BB%D1%8B_%D0%B2_Python.ipynb\" target=\"_parent\"><img src=\"https://colab.research.google.com/assets/colab-badge.svg\" alt=\"Open In Colab\"/></a>"
      ]
    },
    {
      "cell_type": "markdown",
      "source": [
        "# Рассмотрим несколько задач по пройденной теме.\n",
        "\n",
        "Постарайтесь самостоятельно решить задачу и только после этого сравнить свое решение с представленным вариантом решения.\n"
      ],
      "metadata": {
        "id": "kAVrrqL_q6nq"
      }
    },
    {
      "cell_type": "markdown",
      "metadata": {
        "id": "eAwvfAjs1wdB"
      },
      "source": [
        "## Задача 1"
      ]
    },
    {
      "cell_type": "markdown",
      "source": [
        "Напишите программу, которая принимает на вход возраст пользователя и выводит сообщение о его категории возраста:\n",
        "*   Если возраст меньше 18 лет, выведите сообщение \"Вы являетесь несовершеннолетним\".\n",
        "*   Если возраст от 18 до 65 лет включительно, выведите сообщение \"Вы являетесь взрослым\".\n",
        "*   Если возраст больше 65 лет, выведите сообщение \"Вы являетесь пожилым человеком\".\n",
        "\n",
        "\n",
        "\n",
        "\n"
      ],
      "metadata": {
        "id": "hcJz8lRTOzBy"
      }
    },
    {
      "cell_type": "code",
      "metadata": {
        "id": "7X9mBLcS10Yk"
      },
      "source": [
        "# Ваш код\n"
      ],
      "execution_count": null,
      "outputs": []
    },
    {
      "cell_type": "markdown",
      "metadata": {
        "id": "rlSksCzR11II"
      },
      "source": [
        "### Решение"
      ]
    },
    {
      "cell_type": "code",
      "source": [
        "age = int(input(\"Введите ваш возраст: \"))\n",
        "\n",
        "# достаточно сравнения с одним числом, т.к. если оно будет верным, то другие условия проверяться не будут\n",
        "if age < 18:\n",
        "    print(\"Вы являетесь несовершеннолетним\")\n",
        "elif age <= 65:\n",
        "    print(\"Вы являетесь взрослым\")\n",
        "else:\n",
        "    print(\"Вы являетесь пожилым человеком\")"
      ],
      "metadata": {
        "colab": {
          "base_uri": "https://localhost:8080/"
        },
        "id": "0BN7_P1UO6vn",
        "outputId": "048ea12e-4a51-4bc8-dbcc-1a72d051449e"
      },
      "execution_count": null,
      "outputs": [
        {
          "output_type": "stream",
          "name": "stdout",
          "text": [
            "Введите ваш возраст: 40\n",
            "Вы являетесь взрослым\n"
          ]
        }
      ]
    },
    {
      "cell_type": "markdown",
      "metadata": {
        "id": "QnT1ye-QLIp8"
      },
      "source": [
        "## Задача 2"
      ]
    },
    {
      "cell_type": "markdown",
      "source": [
        "Любым способом задайте значения длин сторон треугольника. Проверьте, является ли треугольник прямоугольным, и выведите соответствующее сообщение, используя оператор if-else."
      ],
      "metadata": {
        "id": "n3YMtjd7LIqL"
      }
    },
    {
      "cell_type": "code",
      "metadata": {
        "id": "C1yg7kHtLIqL"
      },
      "source": [
        "# Ваш код\n"
      ],
      "execution_count": null,
      "outputs": []
    },
    {
      "cell_type": "markdown",
      "metadata": {
        "id": "ZOOxPM8cLIqL"
      },
      "source": [
        "### Решение"
      ]
    },
    {
      "cell_type": "code",
      "source": [
        "a = 3\n",
        "b = 4\n",
        "c = 5\n",
        "if a**2 + b**2 == c**2 or a**2 + c**2 == b**2 or b**2 + c**2 == a**2:\n",
        "    print(\"Треугольник прямоугольный\")\n",
        "else:\n",
        "    print(\"Треугольник не прямоугольный\")"
      ],
      "metadata": {
        "colab": {
          "base_uri": "https://localhost:8080/"
        },
        "outputId": "2e495ea4-d473-4936-8537-fb2905f191d5",
        "id": "fCUobLGqLIqb"
      },
      "execution_count": null,
      "outputs": [
        {
          "output_type": "stream",
          "name": "stdout",
          "text": [
            "Треугольник прямоугольный\n"
          ]
        }
      ]
    },
    {
      "cell_type": "markdown",
      "metadata": {
        "id": "puuINSDI1tA2"
      },
      "source": [
        "## Задача 3"
      ]
    },
    {
      "cell_type": "markdown",
      "metadata": {
        "id": "AgDE2WzRVeuB"
      },
      "source": [
        "Проверить, является ли введенное пользователем число четным или нечетным, и вывести соответствующее сообщение.\n",
        "\n"
      ]
    },
    {
      "cell_type": "code",
      "metadata": {
        "id": "M_vKpn6zpL-Q"
      },
      "source": [
        "# Ваше решение\n"
      ],
      "execution_count": null,
      "outputs": []
    },
    {
      "cell_type": "markdown",
      "metadata": {
        "id": "P_G-JQqXVeuC"
      },
      "source": [
        "### Решение:"
      ]
    },
    {
      "cell_type": "code",
      "metadata": {
        "colab": {
          "base_uri": "https://localhost:8080/"
        },
        "id": "1ZHT0Qt8VeuD",
        "outputId": "35c9f59f-9739-4cb2-deeb-26e8a4d2cc2d"
      },
      "source": [
        "num = int(input(\"Введите число: \"))\n",
        "if num % 2 == 0:\n",
        "    print('Число', num, 'четное')\n",
        "else:\n",
        "    print('Число', num, 'нечетное')"
      ],
      "execution_count": null,
      "outputs": [
        {
          "output_type": "stream",
          "name": "stdout",
          "text": [
            "Введите число: 11\n",
            "Число 11 нечетное\n"
          ]
        }
      ]
    },
    {
      "cell_type": "markdown",
      "metadata": {
        "id": "Pj9V1jK8uTpw"
      },
      "source": [
        "## Задача 4"
      ]
    },
    {
      "cell_type": "markdown",
      "source": [
        "Напишите программу, которая запрашивает у пользователя число и выводит все его делители. Формат вывода результатов должен быть таким с точностью до знаков препинания:\n",
        "\n",
        "\n",
        "```\n",
        "Введите число: 123\n",
        "Делители числа: 1,3,41,123.\n",
        "```\n",
        "\n"
      ],
      "metadata": {
        "id": "hY7N1PkbQXCb"
      }
    },
    {
      "cell_type": "code",
      "metadata": {
        "id": "rsaCf2Muu27I"
      },
      "source": [
        "# Ваше решение\n"
      ],
      "execution_count": null,
      "outputs": []
    },
    {
      "cell_type": "markdown",
      "metadata": {
        "id": "Dp3f8C93u1qa"
      },
      "source": [
        "### Решение"
      ]
    },
    {
      "cell_type": "code",
      "metadata": {
        "id": "VGOVaXspr5NK",
        "colab": {
          "base_uri": "https://localhost:8080/"
        },
        "outputId": "123def51-92c4-4484-a2b7-d4759080e05a"
      },
      "source": [
        "number = int(input(\"Введите число: \"))\n",
        "\n",
        "# задаем начало строки вывода\n",
        "print(\"Делители числа:\", end=' ')\n",
        "\n",
        "# проходим по всем числам от 1 до самого числа\n",
        "for i in range(1, number + 1):\n",
        "    # условие, что i является делителем\n",
        "    if number % i == 0:\n",
        "        # условие, которое ставит либо запятую после делителя, когда он меньше самого числа,\n",
        "        # либо точку, если делитель последний, т.е. равен самому числу\n",
        "        if i < number:\n",
        "            print(i, end=',')\n",
        "        else:\n",
        "            print(i, end='.')"
      ],
      "execution_count": null,
      "outputs": [
        {
          "output_type": "stream",
          "name": "stdout",
          "text": [
            "Введите число: 123\n",
            "Делители числа: 1,3,41,123."
          ]
        }
      ]
    },
    {
      "cell_type": "markdown",
      "metadata": {
        "id": "Zho634yCtIzW"
      },
      "source": [
        "## Задача 5"
      ]
    },
    {
      "cell_type": "markdown",
      "metadata": {
        "id": "alYA12S8VeuD"
      },
      "source": [
        "Проверить, является ли введенное пользователем число простым (делится нацело только на 1 и на само себя) и вывести соответствующее сообщение"
      ]
    },
    {
      "cell_type": "code",
      "metadata": {
        "id": "ZTnBS5gFo9K7"
      },
      "source": [
        "# Ваше решение\n"
      ],
      "execution_count": null,
      "outputs": []
    },
    {
      "cell_type": "markdown",
      "metadata": {
        "id": "eSM6iL-DVeuE"
      },
      "source": [
        "### Решение"
      ]
    },
    {
      "cell_type": "code",
      "metadata": {
        "colab": {
          "base_uri": "https://localhost:8080/"
        },
        "id": "DGKySTG7VeuE",
        "outputId": "ca2aadef-c997-4e9e-ccbb-958bb182fd0a"
      },
      "source": [
        "num = int(input(\"Введите число: \"))\n",
        "\n",
        "# is_prime - переменная, которая будет иметь значение True, если\n",
        "# число простое, и False, если составное. Это потребуется для правильного вывода результатов.\n",
        "# Сразу назначим значение True.\n",
        "is_prime = True\n",
        "\n",
        "# Имеет смысл работать, если число больше 1, которое точно простое\n",
        "if num > 1:\n",
        "    # Перебираем числа от 2 до, примерно, половины введенного числа. Больше нет смысла\n",
        "    for i in range(2, int(num/2) + 1):\n",
        "        # Если находим хоть один делитель, то число точно составное.\n",
        "        # Меняем значение is_prime на False\n",
        "        # С помощью break выходим из цикла\n",
        "        if num % i == 0:\n",
        "            is_prime = False\n",
        "            break\n",
        "\n",
        "# Вывод результатов\n",
        "if is_prime:\n",
        "    print(\"Число\", num, \"является простым\")\n",
        "else:\n",
        "    print(\"Число\", num, \"является составным\")"
      ],
      "execution_count": null,
      "outputs": [
        {
          "output_type": "stream",
          "name": "stdout",
          "text": [
            "Введите число: 15\n",
            "Число 15 является составным\n"
          ]
        }
      ]
    },
    {
      "cell_type": "markdown",
      "metadata": {
        "id": "vlZDAfMwVeuF"
      },
      "source": [
        "## Задача 6"
      ]
    },
    {
      "cell_type": "markdown",
      "metadata": {
        "id": "B6Rbug_qvbSF"
      },
      "source": [
        "Вывести на экран таблицу умножения на число 7"
      ]
    },
    {
      "cell_type": "code",
      "metadata": {
        "id": "qhP7evOWo48E"
      },
      "source": [
        "# Ваше решение\n"
      ],
      "execution_count": null,
      "outputs": []
    },
    {
      "cell_type": "markdown",
      "metadata": {
        "id": "BGl26Yh6VeuF"
      },
      "source": [
        "### Решение"
      ]
    },
    {
      "cell_type": "code",
      "metadata": {
        "id": "HQ9M680vVeuG",
        "colab": {
          "base_uri": "https://localhost:8080/"
        },
        "outputId": "bf5efff1-eaf7-49ad-cd59-d3f671c7d982"
      },
      "source": [
        "for i in range(1, 11):\n",
        "    print(\"7 x\", i, \"=\", 7*i)"
      ],
      "execution_count": null,
      "outputs": [
        {
          "output_type": "stream",
          "name": "stdout",
          "text": [
            "7 x 1 = 7\n",
            "7 x 2 = 14\n",
            "7 x 3 = 21\n",
            "7 x 4 = 28\n",
            "7 x 5 = 35\n",
            "7 x 6 = 42\n",
            "7 x 7 = 49\n",
            "7 x 8 = 56\n",
            "7 x 9 = 63\n",
            "7 x 10 = 70\n"
          ]
        }
      ]
    },
    {
      "cell_type": "markdown",
      "metadata": {
        "id": "HB_V0XrcM6Za"
      },
      "source": [
        "## Задача 7"
      ]
    },
    {
      "cell_type": "markdown",
      "metadata": {
        "id": "-apzfvNnM6Zq"
      },
      "source": [
        "Напишите программу, которая запрашивает у пользователя числа по одному и в результате выводит наименьшее и наибольшее из введенных чисел. Используйте цикл while с каким-либо условием на прекращение ввода чисел."
      ]
    },
    {
      "cell_type": "code",
      "metadata": {
        "id": "TB85dE1HM6Zq"
      },
      "source": [
        "# Ваше решение\n"
      ],
      "execution_count": null,
      "outputs": []
    },
    {
      "cell_type": "markdown",
      "metadata": {
        "id": "CbYATXlOM6Zq"
      },
      "source": [
        "### Решение"
      ]
    },
    {
      "cell_type": "code",
      "metadata": {
        "colab": {
          "base_uri": "https://localhost:8080/"
        },
        "outputId": "f408433c-b266-47e6-950c-28a2300a3170",
        "id": "YRw87hv-M6Zq"
      },
      "source": [
        "# Вводим первое число\n",
        "num_str = input(\"Введите число (или стоп, чтобы завершить): \")\n",
        "\n",
        "# проверяем не пора ли закончить программу\n",
        "if num_str != 'стоп':\n",
        "    num = int(num_str)\n",
        "\n",
        "    # Инициализируем переменные для минимального и максимального чисел\n",
        "    min_num = num\n",
        "    max_num = num\n",
        "\n",
        "# Запрашиваем последовательность чисел, пока не будет введено слово \"стоп\"\n",
        "while num_str != 'стоп':\n",
        "    # Проверяем, является ли текущее число новым минимальным или максимальным\n",
        "    if num < min_num:\n",
        "        min_num = num\n",
        "    if num > max_num:\n",
        "        max_num = num\n",
        "\n",
        "    # Вводим следующее число\n",
        "    num_str = input(\"Введите число (или стоп, чтобы завершить): \")\n",
        "    # проверяем не пора ли закончить программу\n",
        "    if num_str != 'стоп':\n",
        "        num = int(num_str)\n",
        "\n",
        "# Выводим результаты\n",
        "print(\"Наименьшее число:\", min_num)\n",
        "print(\"Наибольшее число:\", max_num)"
      ],
      "execution_count": null,
      "outputs": [
        {
          "output_type": "stream",
          "name": "stdout",
          "text": [
            "Введите число (или стоп, чтобы завершить): 1\n",
            "Введите число (или стоп, чтобы завершить): 5\n",
            "Введите число (или стоп, чтобы завершить): 10\n",
            "Введите число (или стоп, чтобы завершить): 7\n",
            "Введите число (или стоп, чтобы завершить): 12\n",
            "Введите число (или стоп, чтобы завершить): стоп\n",
            "Наименьшее число: 1\n",
            "Наибольшее число: 12\n"
          ]
        }
      ]
    },
    {
      "cell_type": "markdown",
      "metadata": {
        "id": "IW0IMLaUykun"
      },
      "source": [
        "## Задача 8"
      ]
    },
    {
      "cell_type": "markdown",
      "metadata": {
        "id": "z3SNcAHaygHd"
      },
      "source": [
        "Вывести на экран в обратном порядке все числа от 100 до 1, которые делятся на 7 без остатка,  c помощью циклов for и while"
      ]
    },
    {
      "cell_type": "code",
      "metadata": {
        "id": "3UZ9zpxIs5ct"
      },
      "source": [
        "# Ваше решение\n"
      ],
      "execution_count": null,
      "outputs": []
    },
    {
      "cell_type": "markdown",
      "metadata": {
        "id": "EaGP0aiCyy-S"
      },
      "source": [
        "### Решение"
      ]
    },
    {
      "cell_type": "code",
      "metadata": {
        "colab": {
          "base_uri": "https://localhost:8080/"
        },
        "id": "aCRdJoK0U_Ch",
        "outputId": "422bcfd7-4eca-40b4-8eda-a9094af1df2d"
      },
      "source": [
        "print('Цикл for')\n",
        "for i in range(100, 0, -1):\n",
        "    if i % 7 == 0:\n",
        "        print(i)\n",
        "\n",
        "print('\\nЦикл while')\n",
        "num = 100\n",
        "while num >= 1:\n",
        "    if num % 7 == 0:\n",
        "        print(num)\n",
        "    num -= 1\n"
      ],
      "execution_count": null,
      "outputs": [
        {
          "output_type": "stream",
          "name": "stdout",
          "text": [
            "Цикл for\n",
            "98\n",
            "91\n",
            "84\n",
            "77\n",
            "70\n",
            "63\n",
            "56\n",
            "49\n",
            "42\n",
            "35\n",
            "28\n",
            "21\n",
            "14\n",
            "7\n",
            "\n",
            "Цикл while\n",
            "98\n",
            "91\n",
            "84\n",
            "77\n",
            "70\n",
            "63\n",
            "56\n",
            "49\n",
            "42\n",
            "35\n",
            "28\n",
            "21\n",
            "14\n",
            "7\n"
          ]
        }
      ]
    },
    {
      "cell_type": "markdown",
      "metadata": {
        "id": "R11QJphROsnk"
      },
      "source": [
        "## Задача 9"
      ]
    },
    {
      "cell_type": "markdown",
      "metadata": {
        "id": "Mrhy47ToOsoM"
      },
      "source": [
        "Дополним условие предыдущей задачи следующим образом: если квадрат числа, делящееся нацело на 7, не равен 196, то вместо него выводится надпись \"Квадрат данного числа не равен 196\". Реализуйте с помощью continue в циклах for и while"
      ]
    },
    {
      "cell_type": "code",
      "metadata": {
        "id": "0vdljA94OsoM"
      },
      "source": [
        "# Ваше решение\n"
      ],
      "execution_count": null,
      "outputs": []
    },
    {
      "cell_type": "markdown",
      "metadata": {
        "id": "ilXglilUOsoN"
      },
      "source": [
        "### Решение"
      ]
    },
    {
      "cell_type": "code",
      "metadata": {
        "colab": {
          "base_uri": "https://localhost:8080/"
        },
        "outputId": "a24f86d6-7f0d-4e46-93e9-2c06aea89c27",
        "id": "l73h3yW9OsoN"
      },
      "source": [
        "print('Цикл for')\n",
        "for i in range(100, 0, -1):\n",
        "    if i % 7 == 0:\n",
        "        if i**2 != 196:\n",
        "            print('Квадрат данного числа не равен 196')\n",
        "            continue\n",
        "        print(i)\n",
        "\n",
        "print('\\nЦикл while')\n",
        "num = 100\n",
        "while num >= 1:\n",
        "    if num % 7 == 0:\n",
        "        if num **2 != 196:\n",
        "            print('Квадрат данного числа не равен 196')\n",
        "            num -= 1\n",
        "            continue\n",
        "        print(num)\n",
        "    num -= 1\n"
      ],
      "execution_count": null,
      "outputs": [
        {
          "output_type": "stream",
          "name": "stdout",
          "text": [
            "Цикл for\n",
            "Квадрат данного числа не равен 196\n",
            "Квадрат данного числа не равен 196\n",
            "Квадрат данного числа не равен 196\n",
            "Квадрат данного числа не равен 196\n",
            "Квадрат данного числа не равен 196\n",
            "Квадрат данного числа не равен 196\n",
            "Квадрат данного числа не равен 196\n",
            "Квадрат данного числа не равен 196\n",
            "Квадрат данного числа не равен 196\n",
            "Квадрат данного числа не равен 196\n",
            "Квадрат данного числа не равен 196\n",
            "Квадрат данного числа не равен 196\n",
            "14\n",
            "Квадрат данного числа не равен 196\n",
            "\n",
            "Цикл while\n",
            "Квадрат данного числа не равен 196\n",
            "Квадрат данного числа не равен 196\n",
            "Квадрат данного числа не равен 196\n",
            "Квадрат данного числа не равен 196\n",
            "Квадрат данного числа не равен 196\n",
            "Квадрат данного числа не равен 196\n",
            "Квадрат данного числа не равен 196\n",
            "Квадрат данного числа не равен 196\n",
            "Квадрат данного числа не равен 196\n",
            "Квадрат данного числа не равен 196\n",
            "Квадрат данного числа не равен 196\n",
            "Квадрат данного числа не равен 196\n",
            "14\n",
            "Квадрат данного числа не равен 196\n"
          ]
        }
      ]
    },
    {
      "cell_type": "markdown",
      "metadata": {
        "id": "oBmlRVY5SFxS"
      },
      "source": [
        "## Задача 10"
      ]
    },
    {
      "cell_type": "markdown",
      "metadata": {
        "id": "Iujev3vdSFx1"
      },
      "source": [
        "Есть фраза 'Привет, Мир!'. Выведите на экран буквы и символы, которые находятся под четными номерами. Например, П - нечетная, р - четная, и - нечетная и т.д."
      ]
    },
    {
      "cell_type": "code",
      "metadata": {
        "id": "NCjXFUA7SFx2"
      },
      "source": [
        "# Ваше решение\n"
      ],
      "execution_count": null,
      "outputs": []
    },
    {
      "cell_type": "markdown",
      "metadata": {
        "id": "TAerVFwpSFx2"
      },
      "source": [
        "### Решение"
      ]
    },
    {
      "cell_type": "code",
      "metadata": {
        "colab": {
          "base_uri": "https://localhost:8080/"
        },
        "outputId": "98a34e1c-a5b7-4d50-9f35-e606bfb67b3c",
        "id": "n6r8YTrvSFx3"
      },
      "source": [
        "for i,letter in enumerate('Привет, Мир!'):\n",
        "  if (i+1) % 2 == 0:\n",
        "      print(letter)"
      ],
      "execution_count": null,
      "outputs": [
        {
          "output_type": "stream",
          "name": "stdout",
          "text": [
            "р\n",
            "в\n",
            "т\n",
            " \n",
            "и\n",
            "!\n"
          ]
        }
      ]
    }
  ]
}